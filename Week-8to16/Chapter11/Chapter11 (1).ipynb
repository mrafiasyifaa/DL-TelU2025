{
  "cells": [
    {
      "cell_type": "markdown",
      "source": [
        "# **Training Deep Neural Networks**"
      ],
      "metadata": {
        "id": "xujXzo2hYVnA"
      },
      "id": "xujXzo2hYVnA"
    },
    {
      "cell_type": "markdown",
      "source": [
        "## The Vanishing/Gadients Problem"
      ],
      "metadata": {
        "id": "Y0NkXQKvYZlS"
      },
      "id": "Y0NkXQKvYZlS"
    },
    {
      "cell_type": "code",
      "source": [
        "import tensorflow as tf\n",
        "from tensorflow import keras\n",
        "import numpy as np\n",
        "import matplotlib.pyplot as plt\n",
        "from functools import partial\n",
        "\n",
        "# Set random seed for reproducibility\n",
        "tf.random.set_seed(42)\n",
        "np.random.seed(42)\n",
        "\n",
        "# ============================================================================\n",
        "# 1. HANDLING VANISHING/EXPLODING GRADIENT PROBLEM\n",
        "# ============================================================================\n",
        "\n",
        "def create_model_with_proper_initialization(input_shape, num_classes):\n",
        "    \"\"\"\n",
        "    Model with proper weight initialization to handle vanishing/exploding gradients\n",
        "    \"\"\"\n",
        "    model = keras.models.Sequential([\n",
        "        keras.layers.Flatten(input_shape=input_shape),\n",
        "\n",
        "        # BatchNormalization helps with gradient flow\n",
        "        keras.layers.BatchNormalization(),\n",
        "\n",
        "        # Dense layer with He initialization for ReLU-like activations\n",
        "        keras.layers.Dense(300, kernel_initializer=\"he_normal\", use_bias=False),\n",
        "        keras.layers.BatchNormalization(),\n",
        "        keras.layers.Activation(\"elu\"),  # ELU activation helps with gradient flow\n",
        "\n",
        "        keras.layers.Dense(100, kernel_initializer=\"he_normal\", use_bias=False),\n",
        "        keras.layers.BatchNormalization(),\n",
        "        keras.layers.Activation(\"elu\"),\n",
        "\n",
        "        # Output layer with appropriate initialization\n",
        "        keras.layers.Dense(num_classes, activation=\"softmax\",\n",
        "                          kernel_initializer=\"glorot_uniform\")\n",
        "    ])\n",
        "    return model\n",
        "\n",
        "# Alternative: Using SELU activation with LeCun initialization\n",
        "def create_selu_model(input_shape, num_classes):\n",
        "    \"\"\"\n",
        "    Model using SELU activation which has self-normalizing properties\n",
        "    \"\"\"\n",
        "    model = keras.models.Sequential([\n",
        "        keras.layers.Flatten(input_shape=input_shape),\n",
        "        keras.layers.Dense(300, activation=\"selu\", kernel_initializer=\"lecun_normal\"),\n",
        "        keras.layers.Dense(100, activation=\"selu\", kernel_initializer=\"lecun_normal\"),\n",
        "        keras.layers.Dense(num_classes, activation=\"softmax\")\n",
        "    ])\n",
        "    return model\n",
        "\n",
        "# Custom variance scaling initializer\n",
        "def create_custom_initializer():\n",
        "    \"\"\"\n",
        "    Custom He initialization with average fan mode\n",
        "    \"\"\"\n",
        "    return keras.initializers.VarianceScaling(\n",
        "        scale=2.0,\n",
        "        mode='fan_avg',\n",
        "        distribution='uniform'\n",
        "    )\n"
      ],
      "metadata": {
        "id": "Kgb2lK5SYdeK"
      },
      "id": "Kgb2lK5SYdeK",
      "execution_count": 8,
      "outputs": []
    },
    {
      "cell_type": "markdown",
      "source": [
        "## Transfer Learning"
      ],
      "metadata": {
        "id": "BBFvgzeiYf4N"
      },
      "id": "BBFvgzeiYf4N"
    },
    {
      "cell_type": "code",
      "source": [
        "\n",
        "# ============================================================================\n",
        "# 2. REUSING PRETRAINED LAYERS (TRANSFER LEARNING)\n",
        "# ============================================================================\n",
        "\n",
        "def create_base_model(input_shape, num_classes):\n",
        "    \"\"\"\n",
        "    Create a base model that can be used for transfer learning\n",
        "    \"\"\"\n",
        "    model = keras.models.Sequential([\n",
        "        keras.layers.Flatten(input_shape=input_shape),\n",
        "        keras.layers.Dense(300, activation=\"elu\", kernel_initializer=\"he_normal\"),\n",
        "        keras.layers.Dense(100, activation=\"elu\", kernel_initializer=\"he_normal\"),\n",
        "        keras.layers.Dense(num_classes, activation=\"softmax\")\n",
        "    ])\n",
        "    return model\n",
        "\n",
        "def setup_transfer_learning(base_model_path, new_num_classes):\n",
        "    \"\"\"\n",
        "    Setup transfer learning from a pretrained model\n",
        "    \"\"\"\n",
        "    # Load pretrained model\n",
        "    model_A = keras.models.load_model(base_model_path)\n",
        "\n",
        "    # Create new model using all layers except the last one\n",
        "    model_B = keras.models.Sequential(model_A.layers[:-1])\n",
        "\n",
        "    # Add new output layer for different task\n",
        "    model_B.add(keras.layers.Dense(new_num_classes, activation=\"softmax\"))\n",
        "\n",
        "    # Clone the original model for comparison\n",
        "    model_A_clone = keras.models.clone_model(model_A)\n",
        "    model_A_clone.set_weights(model_A.get_weights())\n",
        "\n",
        "    return model_B, model_A_clone\n",
        "\n",
        "def fine_tune_model(model, X_train, y_train, X_valid, y_valid):\n",
        "    \"\"\"\n",
        "    Two-phase fine-tuning: freeze then unfreeze\n",
        "    \"\"\"\n",
        "    # Phase 1: Freeze all layers except the last one\n",
        "    for layer in model.layers[:-1]:\n",
        "        layer.trainable = False\n",
        "\n",
        "    # Compile and train with frozen layers\n",
        "    model.compile(\n",
        "        loss=\"sparse_categorical_crossentropy\",\n",
        "        optimizer=\"sgd\",\n",
        "        metrics=[\"accuracy\"]\n",
        "    )\n",
        "\n",
        "    print(\"Phase 1: Training with frozen layers...\")\n",
        "    history_phase1 = model.fit(\n",
        "        X_train, y_train,\n",
        "        epochs=4,\n",
        "        validation_data=(X_valid, y_valid),\n",
        "        verbose=1\n",
        "    )\n",
        "\n",
        "    # Phase 2: Unfreeze all layers and train with lower learning rate\n",
        "    for layer in model.layers[:-1]:\n",
        "        layer.trainable = True\n",
        "\n",
        "    # Use lower learning rate for fine-tuning\n",
        "    optimizer = keras.optimizers.SGD(learning_rate=1e-4)\n",
        "    model.compile(\n",
        "        loss=\"sparse_categorical_crossentropy\",\n",
        "        optimizer=optimizer,\n",
        "        metrics=[\"accuracy\"]\n",
        "    )\n",
        "\n",
        "    print(\"Phase 2: Fine-tuning all layers...\")\n",
        "    history_phase2 = model.fit(\n",
        "        X_train, y_train,\n",
        "        epochs=16,\n",
        "        validation_data=(X_valid, y_valid),\n",
        "        verbose=1\n",
        "    )\n",
        "\n",
        "    return history_phase1, history_phase2\n"
      ],
      "metadata": {
        "id": "TLrUyJJsYiC1"
      },
      "id": "TLrUyJJsYiC1",
      "execution_count": 9,
      "outputs": []
    },
    {
      "cell_type": "markdown",
      "source": [
        "## Faster Optimizers"
      ],
      "metadata": {
        "id": "9VfSvTguYj-d"
      },
      "id": "9VfSvTguYj-d"
    },
    {
      "cell_type": "code",
      "source": [
        "\n",
        "# ============================================================================\n",
        "# 3. FASTER OPTIMIZERS\n",
        "# ============================================================================\n",
        "\n",
        "def get_optimizers():\n",
        "    \"\"\"\n",
        "    Collection of different optimizers with typical hyperparameters\n",
        "    \"\"\"\n",
        "    optimizers = {\n",
        "        'sgd_momentum': keras.optimizers.SGD(learning_rate=0.001, momentum=0.9),\n",
        "        'rmsprop': keras.optimizers.RMSprop(learning_rate=0.001, rho=0.9),\n",
        "        'adam': keras.optimizers.Adam(learning_rate=0.001, beta_1=0.9, beta_2=0.999),\n",
        "        'sgd_decay': keras.optimizers.SGD(learning_rate=0.01, weight_decay=1e-4)\n",
        "    }\n",
        "    return optimizers\n",
        "\n",
        "# Learning rate scheduling\n",
        "def exponential_decay_schedule(lr0=0.01, decay_steps=20):\n",
        "    \"\"\"\n",
        "    Exponential decay learning rate schedule\n",
        "    \"\"\"\n",
        "    def exponential_decay_fn(epoch):\n",
        "        return lr0 * 0.1**(epoch / decay_steps)\n",
        "    return exponential_decay_fn\n",
        "\n",
        "def piecewise_constant_schedule(epoch):\n",
        "    \"\"\"\n",
        "    Piecewise constant learning rate schedule\n",
        "    \"\"\"\n",
        "    if epoch < 5:\n",
        "        return 0.01\n",
        "    elif epoch < 15:\n",
        "        return 0.005\n",
        "    else:\n",
        "        return 0.001\n",
        "\n",
        "def setup_learning_rate_scheduling():\n",
        "    \"\"\"\n",
        "    Setup different learning rate scheduling strategies\n",
        "    \"\"\"\n",
        "    # Method 1: Using callback with custom function\n",
        "    exponential_decay_fn = exponential_decay_schedule(lr0=0.01, decay_steps=20)\n",
        "    lr_scheduler_callback = keras.callbacks.LearningRateScheduler(exponential_decay_fn)\n",
        "\n",
        "    # Method 2: ReduceLROnPlateau callback\n",
        "    reduce_lr_callback = keras.callbacks.ReduceLROnPlateau(\n",
        "        factor=0.5,\n",
        "        patience=5,\n",
        "        min_lr=1e-6\n",
        "    )\n",
        "\n",
        "    # Method 3: Built-in exponential decay schedule\n",
        "    steps_per_epoch = 1875  # Example: 60000 samples / 32 batch_size\n",
        "    decay_steps = 20 * steps_per_epoch  # 20 epochs\n",
        "    exponential_decay_schedule_builtin = keras.optimizers.schedules.ExponentialDecay(\n",
        "        initial_learning_rate=0.01,\n",
        "        decay_steps=decay_steps,\n",
        "        decay_rate=0.1\n",
        "    )\n",
        "\n",
        "    return lr_scheduler_callback, reduce_lr_callback, exponential_decay_schedule_builtin\n"
      ],
      "metadata": {
        "id": "eUepHw9WYl-v"
      },
      "id": "eUepHw9WYl-v",
      "execution_count": 10,
      "outputs": []
    },
    {
      "cell_type": "markdown",
      "source": [
        "## Avoiding Overfitting through Regularization"
      ],
      "metadata": {
        "id": "DkDJGGtWYpfK"
      },
      "id": "DkDJGGtWYpfK"
    },
    {
      "cell_type": "code",
      "source": [
        "\n",
        "# ============================================================================\n",
        "# 4. AVOIDING OVERFITTING THROUGH REGULARIZATION\n",
        "# ============================================================================\n",
        "\n",
        "# L1 and L2 Regularization\n",
        "def create_regularized_model(input_shape, num_classes, l2_reg=0.01):\n",
        "    \"\"\"\n",
        "    Model with L2 regularization\n",
        "    \"\"\"\n",
        "    # Create a partial function for regularized dense layer\n",
        "    RegularizedDense = partial(\n",
        "        keras.layers.Dense,\n",
        "        activation=\"elu\",\n",
        "        kernel_initializer=\"he_normal\",\n",
        "        kernel_regularizer=keras.regularizers.l2(l2_reg)\n",
        "    )\n",
        "\n",
        "    model = keras.models.Sequential([\n",
        "        keras.layers.Flatten(input_shape=input_shape),\n",
        "        RegularizedDense(300),\n",
        "        RegularizedDense(100),\n",
        "        RegularizedDense(10, activation=\"softmax\",\n",
        "                        kernel_initializer=\"glorot_uniform\",\n",
        "                        kernel_regularizer=None)  # No regularization on output layer\n",
        "    ])\n",
        "    return model\n",
        "\n",
        "# Dropout Regularization\n",
        "def create_dropout_model(input_shape, num_classes, dropout_rate=0.2):\n",
        "    \"\"\"\n",
        "    Model with dropout regularization\n",
        "    \"\"\"\n",
        "    model = keras.models.Sequential([\n",
        "        keras.layers.Flatten(input_shape=input_shape),\n",
        "        keras.layers.Dropout(rate=dropout_rate),\n",
        "        keras.layers.Dense(300, activation=\"elu\", kernel_initializer=\"he_normal\"),\n",
        "        keras.layers.Dropout(rate=dropout_rate),\n",
        "        keras.layers.Dense(100, activation=\"elu\", kernel_initializer=\"he_normal\"),\n",
        "        keras.layers.Dropout(rate=dropout_rate),\n",
        "        keras.layers.Dense(num_classes, activation=\"softmax\")\n",
        "    ])\n",
        "    return model\n",
        "\n",
        "# Monte Carlo Dropout for uncertainty estimation\n",
        "class MCDropout(keras.layers.Dropout):\n",
        "    \"\"\"\n",
        "    Monte Carlo Dropout layer that applies dropout during inference\n",
        "    \"\"\"\n",
        "    def call(self, inputs, training=None):\n",
        "        return super().call(inputs, training=True)\n",
        "\n",
        "def create_mc_dropout_model(input_shape, num_classes, dropout_rate=0.2):\n",
        "    \"\"\"\n",
        "    Model with Monte Carlo Dropout\n",
        "    \"\"\"\n",
        "    model = keras.models.Sequential([\n",
        "        keras.layers.Flatten(input_shape=input_shape),\n",
        "        MCDropout(rate=dropout_rate),\n",
        "        keras.layers.Dense(300, activation=\"elu\", kernel_initializer=\"he_normal\"),\n",
        "        MCDropout(rate=dropout_rate),\n",
        "        keras.layers.Dense(100, activation=\"elu\", kernel_initializer=\"he_normal\"),\n",
        "        MCDropout(rate=dropout_rate),\n",
        "        keras.layers.Dense(num_classes, activation=\"softmax\")\n",
        "    ])\n",
        "    return model\n",
        "\n",
        "def mc_dropout_prediction(model, X_test, n_samples=100):\n",
        "    \"\"\"\n",
        "    Make predictions using Monte Carlo Dropout\n",
        "    \"\"\"\n",
        "    y_probas = np.stack([\n",
        "        model(X_test, training=True) for _ in range(n_samples)\n",
        "    ])\n",
        "    y_proba = y_probas.mean(axis=0)\n",
        "    y_std = y_probas.std(axis=0)\n",
        "    return y_proba, y_std\n",
        "\n",
        "# Max Norm Constraint\n",
        "def create_constrained_model(input_shape, num_classes, max_norm=1.0):\n",
        "    \"\"\"\n",
        "    Model with max norm constraint on weights\n",
        "    \"\"\"\n",
        "    model = keras.models.Sequential([\n",
        "        keras.layers.Flatten(input_shape=input_shape),\n",
        "        keras.layers.Dense(300, activation=\"elu\",\n",
        "                          kernel_initializer=\"he_normal\",\n",
        "                          kernel_constraint=keras.constraints.max_norm(max_norm)),\n",
        "        keras.layers.Dense(100, activation=\"elu\",\n",
        "                          kernel_initializer=\"he_normal\",\n",
        "                          kernel_constraint=keras.constraints.max_norm(max_norm)),\n",
        "        keras.layers.Dense(num_classes, activation=\"softmax\")\n",
        "    ])\n",
        "    return model\n",
        "\n",
        "# ============================================================================\n",
        "# 5. COMPLETE TRAINING PIPELINE\n",
        "# ============================================================================\n",
        "\n",
        "def create_comprehensive_model(input_shape, num_classes):\n",
        "    \"\"\"\n",
        "    Comprehensive model combining multiple techniques\n",
        "    \"\"\"\n",
        "    model = keras.models.Sequential([\n",
        "        keras.layers.Flatten(input_shape=input_shape),\n",
        "\n",
        "        # Batch normalization for gradient stability\n",
        "        keras.layers.BatchNormalization(),\n",
        "\n",
        "        # Regularized dense layer with dropout\n",
        "        keras.layers.Dense(300,\n",
        "                          kernel_initializer=\"he_normal\",\n",
        "                          kernel_regularizer=keras.regularizers.l2(0.01),\n",
        "                          kernel_constraint=keras.constraints.max_norm(1.0),\n",
        "                          use_bias=False),\n",
        "        keras.layers.BatchNormalization(),\n",
        "        keras.layers.Activation(\"elu\"),\n",
        "        keras.layers.Dropout(0.3),\n",
        "\n",
        "        keras.layers.Dense(100,\n",
        "                          kernel_initializer=\"he_normal\",\n",
        "                          kernel_regularizer=keras.regularizers.l2(0.01),\n",
        "                          kernel_constraint=keras.constraints.max_norm(1.0),\n",
        "                          use_bias=False),\n",
        "        keras.layers.BatchNormalization(),\n",
        "        keras.layers.Activation(\"elu\"),\n",
        "        keras.layers.Dropout(0.3),\n",
        "\n",
        "        keras.layers.Dense(num_classes, activation=\"softmax\")\n",
        "    ])\n",
        "    return model\n",
        "\n",
        "def train_comprehensive_model(X_train, y_train, X_valid, y_valid, input_shape, num_classes):\n",
        "    \"\"\"\n",
        "    Complete training pipeline with all techniques\n",
        "    \"\"\"\n",
        "    # Create model\n",
        "    model = create_comprehensive_model(input_shape, num_classes)\n",
        "\n",
        "    # Setup optimizer with learning rate scheduling\n",
        "    initial_learning_rate = 0.001\n",
        "    lr_schedule = keras.optimizers.schedules.ExponentialDecay(\n",
        "        initial_learning_rate,\n",
        "        decay_steps=1000,\n",
        "        decay_rate=0.96,\n",
        "        staircase=True\n",
        "    )\n",
        "    optimizer = keras.optimizers.Adam(learning_rate=lr_schedule)\n",
        "\n",
        "    # Compile model\n",
        "    model.compile(\n",
        "        loss=\"sparse_categorical_crossentropy\",\n",
        "        optimizer=optimizer,\n",
        "        metrics=[\"accuracy\"]\n",
        "    )\n",
        "\n",
        "    # Setup callbacks (Remove ReduceLROnPlateau since we're using LearningRateSchedule)\n",
        "    callbacks = [\n",
        "        keras.callbacks.EarlyStopping(patience=10, restore_best_weights=True),\n",
        "        keras.callbacks.ModelCheckpoint(\"best_model.h5\", save_best_only=True)\n",
        "    ]\n",
        "\n",
        "    # Train model\n",
        "    history = model.fit(\n",
        "        X_train, y_train,\n",
        "        epochs=50,  # Reduced epochs for faster training\n",
        "        batch_size=32,\n",
        "        validation_data=(X_valid, y_valid),\n",
        "        callbacks=callbacks,\n",
        "        verbose=1\n",
        "    )\n",
        "\n",
        "    return model, history\n",
        "\n",
        "def train_comprehensive_model_simple(X_train, y_train, X_valid, y_valid, input_shape, num_classes):\n",
        "    \"\"\"\n",
        "    Simplified training pipeline without learning rate conflicts\n",
        "    \"\"\"\n",
        "    # Create model\n",
        "    model = create_comprehensive_model(input_shape, num_classes)\n",
        "\n",
        "    # Use simple Adam optimizer\n",
        "    optimizer = keras.optimizers.Adam(learning_rate=0.001)\n",
        "\n",
        "    # Compile model\n",
        "    model.compile(\n",
        "        loss=\"sparse_categorical_crossentropy\",\n",
        "        optimizer=optimizer,\n",
        "        metrics=[\"accuracy\"]\n",
        "    )\n",
        "\n",
        "    # Setup callbacks with ReduceLROnPlateau\n",
        "    callbacks = [\n",
        "        keras.callbacks.EarlyStopping(patience=10, restore_best_weights=True),\n",
        "        keras.callbacks.ReduceLROnPlateau(factor=0.5, patience=5, min_lr=1e-7),\n",
        "        keras.callbacks.ModelCheckpoint(\"best_model.h5\", save_best_only=True)\n",
        "    ]\n",
        "\n",
        "    # Train model\n",
        "    history = model.fit(\n",
        "        X_train, y_train,\n",
        "        epochs=50,\n",
        "        batch_size=32,\n",
        "        validation_data=(X_valid, y_valid),\n",
        "        callbacks=callbacks,\n",
        "        verbose=1\n",
        "    )\n",
        "\n",
        "    return model, history\n",
        "\n",
        "# ============================================================================\n",
        "# 6. EXAMPLE USAGE DAN MAIN PROGRAM\n",
        "# ============================================================================\n",
        "\n",
        "def example_usage():\n",
        "    \"\"\"\n",
        "    Example of how to use the complete pipeline\n",
        "    \"\"\"\n",
        "    # Load and preprocess data (example with MNIST)\n",
        "    (X_train, y_train), (X_test, y_test) = keras.datasets.mnist.load_data()\n",
        "\n",
        "    # Normalize data\n",
        "    X_train = X_train.astype(\"float32\") / 255.0\n",
        "    X_test = X_test.astype(\"float32\") / 255.0\n",
        "\n",
        "    # Split validation set\n",
        "    X_valid, X_train = X_train[:5000], X_train[5000:]\n",
        "    y_valid, y_train = y_train[:5000], y_train[5000:]\n",
        "\n",
        "    input_shape = [28, 28]\n",
        "    num_classes = 10\n",
        "\n",
        "    print(\"Training comprehensive model...\")\n",
        "    model, history = train_comprehensive_model(\n",
        "        X_train, y_train, X_valid, y_valid, input_shape, num_classes\n",
        "    )\n",
        "\n",
        "    # Evaluate model\n",
        "    test_loss, test_acc = model.evaluate(X_test, y_test, verbose=0)\n",
        "    print(f\"Test accuracy: {test_acc:.4f}\")\n",
        "\n",
        "    return model, history\n",
        "\n",
        "def main():\n",
        "    \"\"\"\n",
        "    Main function - di sini Anda letakkan kode untuk menjalankan model\n",
        "    \"\"\"\n",
        "    print(\"=== Deep Neural Network Training Pipeline ===\\n\")\n",
        "\n",
        "    # 1. Load dan preprocess data\n",
        "    print(\"1. Loading and preprocessing data...\")\n",
        "    (X_train, y_train), (X_test, y_test) = keras.datasets.mnist.load_data()\n",
        "    X_train = X_train.astype(\"float32\") / 255.0\n",
        "    X_test = X_test.astype(\"float32\") / 255.0\n",
        "    X_valid, X_train = X_train[:5000], X_train[5000:]\n",
        "    y_valid, y_train = y_train[:5000], y_train[5000:]\n",
        "\n",
        "    print(f\"Training data shape: {X_train.shape}\")\n",
        "    print(f\"Validation data shape: {X_valid.shape}\")\n",
        "    print(f\"Test data shape: {X_test.shape}\\n\")\n",
        "\n",
        "    # 2. CONTOH 1: Model dasar dengan teknik anti-overfitting\n",
        "    print(\"2. Creating comprehensive model with anti-overfitting techniques...\")\n",
        "    model = create_comprehensive_model([28, 28], 10)\n",
        "    print(\"Model architecture:\")\n",
        "    model.summary()\n",
        "    print()\n",
        "\n",
        "    # 3. CONTOH 2: Training lengkap dengan semua teknik (versi sederhana)\n",
        "    print(\"3. Training model with all advanced techniques...\")\n",
        "    model, history = train_comprehensive_model_simple(\n",
        "        X_train, y_train, X_valid, y_valid, [28, 28], 10\n",
        "    )\n",
        "\n",
        "    # Evaluate final model\n",
        "    print(\"4. Evaluating model...\")\n",
        "    test_loss, test_acc = model.evaluate(X_test, y_test, verbose=0)\n",
        "    print(f\"Final test accuracy: {test_acc:.4f}\\n\")\n",
        "\n",
        "    # 4. CONTOH 3: Transfer Learning (perlu model yang sudah ada)\n",
        "    print(\"5. Transfer Learning Example:\")\n",
        "    print(\"   Note: Untuk transfer learning, Anda perlu model yang sudah dilatih sebelumnya\")\n",
        "    print(\"   Simpan model saat ini untuk contoh:\")\n",
        "\n",
        "    # Simpan model untuk contoh transfer learning\n",
        "    model.save(\"base_model.h5\")\n",
        "    print(\"   Model saved as 'base_model.h5'\")\n",
        "\n",
        "    # Contoh setup transfer learning\n",
        "    try:\n",
        "        print(\"   Setting up transfer learning...\")\n",
        "        model_B, model_A_clone = setup_transfer_learning(\"base_model.h5\", 2)\n",
        "        print(\"   Transfer learning model created successfully!\")\n",
        "        print(\"   New model architecture for binary classification:\")\n",
        "        model_B.summary()\n",
        "    except Exception as e:\n",
        "        print(f\"   Transfer learning setup failed: {e}\")\n",
        "\n",
        "    print(\"\\n=== Training Complete ===\")\n",
        "\n",
        "    # 5. CONTOH LAINNYA: Demonstrasi berbagai teknik\n",
        "    print(\"\\n6. Additional Examples:\")\n",
        "\n",
        "    # Model dengan dropout\n",
        "    print(\"   - Dropout model:\")\n",
        "    dropout_model = create_dropout_model([28, 28], 10, dropout_rate=0.3)\n",
        "\n",
        "    # Model dengan regularisasi L2\n",
        "    print(\"   - L2 Regularized model:\")\n",
        "    l2_model = create_regularized_model([28, 28], 10, l2_reg=0.01)\n",
        "\n",
        "    # Model dengan SELU activation\n",
        "    print(\"   - SELU model:\")\n",
        "    selu_model = create_selu_model([28, 28], 10)\n",
        "\n",
        "    # Monte Carlo Dropout\n",
        "    print(\"   - Monte Carlo Dropout model:\")\n",
        "    mc_model = create_mc_dropout_model([28, 28], 10)\n",
        "\n",
        "    print(\"   All model variants created successfully!\")\n",
        "\n",
        "    return model, history\n",
        "\n",
        "# ============================================================================\n",
        "# JALANKAN PROGRAM UTAMA\n",
        "# ============================================================================\n",
        "\n",
        "if __name__ == \"__main__\":\n",
        "    # CARA 2: Atau jalankan contoh-contoh spesifik di bawah ini:\n",
        "\n",
        "    # Load data terlebih dahulu\n",
        "     (X_train, y_train), (X_test, y_test) = keras.datasets.mnist.load_data()\n",
        "     X_train = X_train.astype(\"float32\") / 255.0\n",
        "     X_test = X_test.astype(\"float32\") / 255.0\n",
        "     X_valid, X_train = X_train[:5000], X_train[5000:]\n",
        "     y_valid, y_train = y_train[:5000], y_train[5000:]\n",
        "\n",
        "    # Untuk model dasar dengan teknik anti-overfitting\n",
        "     model = create_comprehensive_model([28, 28], 10)\n",
        "     print(\"Comprehensive model created!\")\n",
        "\n",
        "    # Untuk training lengkap dengan semua teknik\n",
        "     model, history = train_comprehensive_model(X_train, y_train, X_valid, y_valid, [28, 28], 10)\n",
        "     print(\"Model training completed!\")\n",
        "\n",
        "     # Untuk transfer learning (pastikan ada base_model.h5)\n",
        "     # model_B, model_A_clone = setup_transfer_learning(\"base_model.h5\", 2)\n",
        "     # print(\"Transfer learning setup completed!\")"
      ],
      "metadata": {
        "colab": {
          "base_uri": "https://localhost:8080/"
        },
        "id": "JyLqx4_bL4tA",
        "outputId": "93f8411f-c7fa-4a1a-e655-58b619b68d70"
      },
      "id": "JyLqx4_bL4tA",
      "execution_count": 11,
      "outputs": [
        {
          "output_type": "stream",
          "name": "stdout",
          "text": [
            "Comprehensive model created!\n",
            "Epoch 1/50\n",
            "\u001b[1m1719/1719\u001b[0m \u001b[32m━━━━━━━━━━━━━━━━━━━━\u001b[0m\u001b[37m\u001b[0m \u001b[1m0s\u001b[0m 4ms/step - accuracy: 0.8363 - loss: 1.7799"
          ]
        },
        {
          "output_type": "stream",
          "name": "stderr",
          "text": [
            "WARNING:absl:You are saving your model as an HDF5 file via `model.save()` or `keras.saving.save_model(model)`. This file format is considered legacy. We recommend using instead the native Keras format, e.g. `model.save('my_model.keras')` or `keras.saving.save_model(model, 'my_model.keras')`. \n"
          ]
        },
        {
          "output_type": "stream",
          "name": "stdout",
          "text": [
            "\b\b\b\b\b\b\b\b\b\b\b\b\b\b\b\b\b\b\b\b\b\b\b\b\b\b\b\b\b\b\b\b\b\b\b\b\b\b\b\b\b\b\b\b\b\b\b\b\b\b\b\b\b\b\b\b\b\b\b\b\b\b\b\b\b\b\b\b\b\b\b\b\b\b\b\b\r\u001b[1m1719/1719\u001b[0m \u001b[32m━━━━━━━━━━━━━━━━━━━━\u001b[0m\u001b[37m\u001b[0m \u001b[1m14s\u001b[0m 5ms/step - accuracy: 0.8363 - loss: 1.7795 - val_accuracy: 0.9080 - val_loss: 0.5857\n",
            "Epoch 2/50\n",
            "\u001b[1m1704/1719\u001b[0m \u001b[32m━━━━━━━━━━━━━━━━━━━\u001b[0m\u001b[37m━\u001b[0m \u001b[1m0s\u001b[0m 2ms/step - accuracy: 0.8857 - loss: 0.6392"
          ]
        },
        {
          "output_type": "stream",
          "name": "stderr",
          "text": [
            "WARNING:absl:You are saving your model as an HDF5 file via `model.save()` or `keras.saving.save_model(model)`. This file format is considered legacy. We recommend using instead the native Keras format, e.g. `model.save('my_model.keras')` or `keras.saving.save_model(model, 'my_model.keras')`. \n"
          ]
        },
        {
          "output_type": "stream",
          "name": "stdout",
          "text": [
            "\b\b\b\b\b\b\b\b\b\b\b\b\b\b\b\b\b\b\b\b\b\b\b\b\b\b\b\b\b\b\b\b\b\b\b\b\b\b\b\b\b\b\b\b\b\b\b\b\b\b\b\b\b\b\b\b\b\b\b\b\b\b\b\b\b\b\b\b\b\b\b\b\b\b\b\b\r\u001b[1m1719/1719\u001b[0m \u001b[32m━━━━━━━━━━━━━━━━━━━━\u001b[0m\u001b[37m\u001b[0m \u001b[1m15s\u001b[0m 3ms/step - accuracy: 0.8857 - loss: 0.6391 - val_accuracy: 0.9210 - val_loss: 0.5372\n",
            "Epoch 3/50\n",
            "\u001b[1m1706/1719\u001b[0m \u001b[32m━━━━━━━━━━━━━━━━━━━\u001b[0m\u001b[37m━\u001b[0m \u001b[1m0s\u001b[0m 3ms/step - accuracy: 0.8922 - loss: 0.6061"
          ]
        },
        {
          "output_type": "stream",
          "name": "stderr",
          "text": [
            "WARNING:absl:You are saving your model as an HDF5 file via `model.save()` or `keras.saving.save_model(model)`. This file format is considered legacy. We recommend using instead the native Keras format, e.g. `model.save('my_model.keras')` or `keras.saving.save_model(model, 'my_model.keras')`. \n"
          ]
        },
        {
          "output_type": "stream",
          "name": "stdout",
          "text": [
            "\b\b\b\b\b\b\b\b\b\b\b\b\b\b\b\b\b\b\b\b\b\b\b\b\b\b\b\b\b\b\b\b\b\b\b\b\b\b\b\b\b\b\b\b\b\b\b\b\b\b\b\b\b\b\b\b\b\b\b\b\b\b\b\b\b\b\b\b\b\b\b\b\b\b\b\b\r\u001b[1m1719/1719\u001b[0m \u001b[32m━━━━━━━━━━━━━━━━━━━━\u001b[0m\u001b[37m\u001b[0m \u001b[1m5s\u001b[0m 3ms/step - accuracy: 0.8922 - loss: 0.6060 - val_accuracy: 0.9258 - val_loss: 0.4922\n",
            "Epoch 4/50\n",
            "\u001b[1m1705/1719\u001b[0m \u001b[32m━━━━━━━━━━━━━━━━━━━\u001b[0m\u001b[37m━\u001b[0m \u001b[1m0s\u001b[0m 2ms/step - accuracy: 0.9003 - loss: 0.5711"
          ]
        },
        {
          "output_type": "stream",
          "name": "stderr",
          "text": [
            "WARNING:absl:You are saving your model as an HDF5 file via `model.save()` or `keras.saving.save_model(model)`. This file format is considered legacy. We recommend using instead the native Keras format, e.g. `model.save('my_model.keras')` or `keras.saving.save_model(model, 'my_model.keras')`. \n"
          ]
        },
        {
          "output_type": "stream",
          "name": "stdout",
          "text": [
            "\b\b\b\b\b\b\b\b\b\b\b\b\b\b\b\b\b\b\b\b\b\b\b\b\b\b\b\b\b\b\b\b\b\b\b\b\b\b\b\b\b\b\b\b\b\b\b\b\b\b\b\b\b\b\b\b\b\b\b\b\b\b\b\b\b\b\b\b\b\b\b\b\b\b\b\b\r\u001b[1m1719/1719\u001b[0m \u001b[32m━━━━━━━━━━━━━━━━━━━━\u001b[0m\u001b[37m\u001b[0m \u001b[1m5s\u001b[0m 3ms/step - accuracy: 0.9003 - loss: 0.5710 - val_accuracy: 0.9290 - val_loss: 0.4831\n",
            "Epoch 5/50\n",
            "\u001b[1m1719/1719\u001b[0m \u001b[32m━━━━━━━━━━━━━━━━━━━━\u001b[0m\u001b[37m\u001b[0m \u001b[1m0s\u001b[0m 2ms/step - accuracy: 0.9048 - loss: 0.5411"
          ]
        },
        {
          "output_type": "stream",
          "name": "stderr",
          "text": [
            "WARNING:absl:You are saving your model as an HDF5 file via `model.save()` or `keras.saving.save_model(model)`. This file format is considered legacy. We recommend using instead the native Keras format, e.g. `model.save('my_model.keras')` or `keras.saving.save_model(model, 'my_model.keras')`. \n"
          ]
        },
        {
          "output_type": "stream",
          "name": "stdout",
          "text": [
            "\b\b\b\b\b\b\b\b\b\b\b\b\b\b\b\b\b\b\b\b\b\b\b\b\b\b\b\b\b\b\b\b\b\b\b\b\b\b\b\b\b\b\b\b\b\b\b\b\b\b\b\b\b\b\b\b\b\b\b\b\b\b\b\b\b\b\b\b\b\b\b\b\b\b\b\b\r\u001b[1m1719/1719\u001b[0m \u001b[32m━━━━━━━━━━━━━━━━━━━━\u001b[0m\u001b[37m\u001b[0m \u001b[1m5s\u001b[0m 3ms/step - accuracy: 0.9048 - loss: 0.5411 - val_accuracy: 0.9284 - val_loss: 0.4624\n",
            "Epoch 6/50\n",
            "\u001b[1m1715/1719\u001b[0m \u001b[32m━━━━━━━━━━━━━━━━━━━\u001b[0m\u001b[37m━\u001b[0m \u001b[1m0s\u001b[0m 3ms/step - accuracy: 0.9088 - loss: 0.5212"
          ]
        },
        {
          "output_type": "stream",
          "name": "stderr",
          "text": [
            "WARNING:absl:You are saving your model as an HDF5 file via `model.save()` or `keras.saving.save_model(model)`. This file format is considered legacy. We recommend using instead the native Keras format, e.g. `model.save('my_model.keras')` or `keras.saving.save_model(model, 'my_model.keras')`. \n"
          ]
        },
        {
          "output_type": "stream",
          "name": "stdout",
          "text": [
            "\b\b\b\b\b\b\b\b\b\b\b\b\b\b\b\b\b\b\b\b\b\b\b\b\b\b\b\b\b\b\b\b\b\b\b\b\b\b\b\b\b\b\b\b\b\b\b\b\b\b\b\b\b\b\b\b\b\b\b\b\b\b\b\b\b\b\b\b\b\b\b\b\b\b\b\b\r\u001b[1m1719/1719\u001b[0m \u001b[32m━━━━━━━━━━━━━━━━━━━━\u001b[0m\u001b[37m\u001b[0m \u001b[1m6s\u001b[0m 3ms/step - accuracy: 0.9088 - loss: 0.5211 - val_accuracy: 0.9334 - val_loss: 0.4248\n",
            "Epoch 7/50\n",
            "\u001b[1m1709/1719\u001b[0m \u001b[32m━━━━━━━━━━━━━━━━━━━\u001b[0m\u001b[37m━\u001b[0m \u001b[1m0s\u001b[0m 3ms/step - accuracy: 0.9105 - loss: 0.4953"
          ]
        },
        {
          "output_type": "stream",
          "name": "stderr",
          "text": [
            "WARNING:absl:You are saving your model as an HDF5 file via `model.save()` or `keras.saving.save_model(model)`. This file format is considered legacy. We recommend using instead the native Keras format, e.g. `model.save('my_model.keras')` or `keras.saving.save_model(model, 'my_model.keras')`. \n"
          ]
        },
        {
          "output_type": "stream",
          "name": "stdout",
          "text": [
            "\b\b\b\b\b\b\b\b\b\b\b\b\b\b\b\b\b\b\b\b\b\b\b\b\b\b\b\b\b\b\b\b\b\b\b\b\b\b\b\b\b\b\b\b\b\b\b\b\b\b\b\b\b\b\b\b\b\b\b\b\b\b\b\b\b\b\b\b\b\b\b\b\b\b\b\b\r\u001b[1m1719/1719\u001b[0m \u001b[32m━━━━━━━━━━━━━━━━━━━━\u001b[0m\u001b[37m\u001b[0m \u001b[1m5s\u001b[0m 3ms/step - accuracy: 0.9105 - loss: 0.4953 - val_accuracy: 0.9438 - val_loss: 0.3920\n",
            "Epoch 8/50\n",
            "\u001b[1m1701/1719\u001b[0m \u001b[32m━━━━━━━━━━━━━━━━━━━\u001b[0m\u001b[37m━\u001b[0m \u001b[1m0s\u001b[0m 3ms/step - accuracy: 0.9177 - loss: 0.4649"
          ]
        },
        {
          "output_type": "stream",
          "name": "stderr",
          "text": [
            "WARNING:absl:You are saving your model as an HDF5 file via `model.save()` or `keras.saving.save_model(model)`. This file format is considered legacy. We recommend using instead the native Keras format, e.g. `model.save('my_model.keras')` or `keras.saving.save_model(model, 'my_model.keras')`. \n"
          ]
        },
        {
          "output_type": "stream",
          "name": "stdout",
          "text": [
            "\b\b\b\b\b\b\b\b\b\b\b\b\b\b\b\b\b\b\b\b\b\b\b\b\b\b\b\b\b\b\b\b\b\b\b\b\b\b\b\b\b\b\b\b\b\b\b\b\b\b\b\b\b\b\b\b\b\b\b\b\b\b\b\b\b\b\b\b\b\b\b\b\b\b\b\b\r\u001b[1m1719/1719\u001b[0m \u001b[32m━━━━━━━━━━━━━━━━━━━━\u001b[0m\u001b[37m\u001b[0m \u001b[1m5s\u001b[0m 3ms/step - accuracy: 0.9177 - loss: 0.4649 - val_accuracy: 0.9454 - val_loss: 0.3818\n",
            "Epoch 9/50\n",
            "\u001b[1m1701/1719\u001b[0m \u001b[32m━━━━━━━━━━━━━━━━━━━\u001b[0m\u001b[37m━\u001b[0m \u001b[1m0s\u001b[0m 3ms/step - accuracy: 0.9207 - loss: 0.4479"
          ]
        },
        {
          "output_type": "stream",
          "name": "stderr",
          "text": [
            "WARNING:absl:You are saving your model as an HDF5 file via `model.save()` or `keras.saving.save_model(model)`. This file format is considered legacy. We recommend using instead the native Keras format, e.g. `model.save('my_model.keras')` or `keras.saving.save_model(model, 'my_model.keras')`. \n"
          ]
        },
        {
          "output_type": "stream",
          "name": "stdout",
          "text": [
            "\b\b\b\b\b\b\b\b\b\b\b\b\b\b\b\b\b\b\b\b\b\b\b\b\b\b\b\b\b\b\b\b\b\b\b\b\b\b\b\b\b\b\b\b\b\b\b\b\b\b\b\b\b\b\b\b\b\b\b\b\b\b\b\b\b\b\b\b\b\b\b\b\b\b\b\b\r\u001b[1m1719/1719\u001b[0m \u001b[32m━━━━━━━━━━━━━━━━━━━━\u001b[0m\u001b[37m\u001b[0m \u001b[1m10s\u001b[0m 3ms/step - accuracy: 0.9207 - loss: 0.4478 - val_accuracy: 0.9506 - val_loss: 0.3558\n",
            "Epoch 10/50\n",
            "\u001b[1m1713/1719\u001b[0m \u001b[32m━━━━━━━━━━━━━━━━━━━\u001b[0m\u001b[37m━\u001b[0m \u001b[1m0s\u001b[0m 2ms/step - accuracy: 0.9224 - loss: 0.4268"
          ]
        },
        {
          "output_type": "stream",
          "name": "stderr",
          "text": [
            "WARNING:absl:You are saving your model as an HDF5 file via `model.save()` or `keras.saving.save_model(model)`. This file format is considered legacy. We recommend using instead the native Keras format, e.g. `model.save('my_model.keras')` or `keras.saving.save_model(model, 'my_model.keras')`. \n"
          ]
        },
        {
          "output_type": "stream",
          "name": "stdout",
          "text": [
            "\b\b\b\b\b\b\b\b\b\b\b\b\b\b\b\b\b\b\b\b\b\b\b\b\b\b\b\b\b\b\b\b\b\b\b\b\b\b\b\b\b\b\b\b\b\b\b\b\b\b\b\b\b\b\b\b\b\b\b\b\b\b\b\b\b\b\b\b\b\b\b\b\b\b\b\b\r\u001b[1m1719/1719\u001b[0m \u001b[32m━━━━━━━━━━━━━━━━━━━━\u001b[0m\u001b[37m\u001b[0m \u001b[1m5s\u001b[0m 3ms/step - accuracy: 0.9224 - loss: 0.4268 - val_accuracy: 0.9492 - val_loss: 0.3458\n",
            "Epoch 11/50\n",
            "\u001b[1m1719/1719\u001b[0m \u001b[32m━━━━━━━━━━━━━━━━━━━━\u001b[0m\u001b[37m\u001b[0m \u001b[1m0s\u001b[0m 3ms/step - accuracy: 0.9246 - loss: 0.4109"
          ]
        },
        {
          "output_type": "stream",
          "name": "stderr",
          "text": [
            "WARNING:absl:You are saving your model as an HDF5 file via `model.save()` or `keras.saving.save_model(model)`. This file format is considered legacy. We recommend using instead the native Keras format, e.g. `model.save('my_model.keras')` or `keras.saving.save_model(model, 'my_model.keras')`. \n"
          ]
        },
        {
          "output_type": "stream",
          "name": "stdout",
          "text": [
            "\b\b\b\b\b\b\b\b\b\b\b\b\b\b\b\b\b\b\b\b\b\b\b\b\b\b\b\b\b\b\b\b\b\b\b\b\b\b\b\b\b\b\b\b\b\b\b\b\b\b\b\b\b\b\b\b\b\b\b\b\b\b\b\b\b\b\b\b\b\b\b\b\b\b\b\b\r\u001b[1m1719/1719\u001b[0m \u001b[32m━━━━━━━━━━━━━━━━━━━━\u001b[0m\u001b[37m\u001b[0m \u001b[1m5s\u001b[0m 3ms/step - accuracy: 0.9246 - loss: 0.4109 - val_accuracy: 0.9556 - val_loss: 0.3176\n",
            "Epoch 12/50\n",
            "\u001b[1m1719/1719\u001b[0m \u001b[32m━━━━━━━━━━━━━━━━━━━━\u001b[0m\u001b[37m\u001b[0m \u001b[1m0s\u001b[0m 3ms/step - accuracy: 0.9299 - loss: 0.3904"
          ]
        },
        {
          "output_type": "stream",
          "name": "stderr",
          "text": [
            "WARNING:absl:You are saving your model as an HDF5 file via `model.save()` or `keras.saving.save_model(model)`. This file format is considered legacy. We recommend using instead the native Keras format, e.g. `model.save('my_model.keras')` or `keras.saving.save_model(model, 'my_model.keras')`. \n"
          ]
        },
        {
          "output_type": "stream",
          "name": "stdout",
          "text": [
            "\b\b\b\b\b\b\b\b\b\b\b\b\b\b\b\b\b\b\b\b\b\b\b\b\b\b\b\b\b\b\b\b\b\b\b\b\b\b\b\b\b\b\b\b\b\b\b\b\b\b\b\b\b\b\b\b\b\b\b\b\b\b\b\b\b\b\b\b\b\b\b\b\b\b\b\b\r\u001b[1m1719/1719\u001b[0m \u001b[32m━━━━━━━━━━━━━━━━━━━━\u001b[0m\u001b[37m\u001b[0m \u001b[1m5s\u001b[0m 3ms/step - accuracy: 0.9299 - loss: 0.3904 - val_accuracy: 0.9544 - val_loss: 0.3077\n",
            "Epoch 13/50\n",
            "\u001b[1m1711/1719\u001b[0m \u001b[32m━━━━━━━━━━━━━━━━━━━\u001b[0m\u001b[37m━\u001b[0m \u001b[1m0s\u001b[0m 3ms/step - accuracy: 0.9294 - loss: 0.3834"
          ]
        },
        {
          "output_type": "stream",
          "name": "stderr",
          "text": [
            "WARNING:absl:You are saving your model as an HDF5 file via `model.save()` or `keras.saving.save_model(model)`. This file format is considered legacy. We recommend using instead the native Keras format, e.g. `model.save('my_model.keras')` or `keras.saving.save_model(model, 'my_model.keras')`. \n"
          ]
        },
        {
          "output_type": "stream",
          "name": "stdout",
          "text": [
            "\b\b\b\b\b\b\b\b\b\b\b\b\b\b\b\b\b\b\b\b\b\b\b\b\b\b\b\b\b\b\b\b\b\b\b\b\b\b\b\b\b\b\b\b\b\b\b\b\b\b\b\b\b\b\b\b\b\b\b\b\b\b\b\b\b\b\b\b\b\b\b\b\b\b\b\b\r\u001b[1m1719/1719\u001b[0m \u001b[32m━━━━━━━━━━━━━━━━━━━━\u001b[0m\u001b[37m\u001b[0m \u001b[1m10s\u001b[0m 3ms/step - accuracy: 0.9294 - loss: 0.3834 - val_accuracy: 0.9548 - val_loss: 0.3022\n",
            "Epoch 14/50\n",
            "\u001b[1m1717/1719\u001b[0m \u001b[32m━━━━━━━━━━━━━━━━━━━\u001b[0m\u001b[37m━\u001b[0m \u001b[1m0s\u001b[0m 2ms/step - accuracy: 0.9319 - loss: 0.3663"
          ]
        },
        {
          "output_type": "stream",
          "name": "stderr",
          "text": [
            "WARNING:absl:You are saving your model as an HDF5 file via `model.save()` or `keras.saving.save_model(model)`. This file format is considered legacy. We recommend using instead the native Keras format, e.g. `model.save('my_model.keras')` or `keras.saving.save_model(model, 'my_model.keras')`. \n"
          ]
        },
        {
          "output_type": "stream",
          "name": "stdout",
          "text": [
            "\b\b\b\b\b\b\b\b\b\b\b\b\b\b\b\b\b\b\b\b\b\b\b\b\b\b\b\b\b\b\b\b\b\b\b\b\b\b\b\b\b\b\b\b\b\b\b\b\b\b\b\b\b\b\b\b\b\b\b\b\b\b\b\b\b\b\b\b\b\b\b\b\b\b\b\b\r\u001b[1m1719/1719\u001b[0m \u001b[32m━━━━━━━━━━━━━━━━━━━━\u001b[0m\u001b[37m\u001b[0m \u001b[1m5s\u001b[0m 3ms/step - accuracy: 0.9319 - loss: 0.3663 - val_accuracy: 0.9584 - val_loss: 0.2825\n",
            "Epoch 15/50\n",
            "\u001b[1m1716/1719\u001b[0m \u001b[32m━━━━━━━━━━━━━━━━━━━\u001b[0m\u001b[37m━\u001b[0m \u001b[1m0s\u001b[0m 3ms/step - accuracy: 0.9362 - loss: 0.3484"
          ]
        },
        {
          "output_type": "stream",
          "name": "stderr",
          "text": [
            "WARNING:absl:You are saving your model as an HDF5 file via `model.save()` or `keras.saving.save_model(model)`. This file format is considered legacy. We recommend using instead the native Keras format, e.g. `model.save('my_model.keras')` or `keras.saving.save_model(model, 'my_model.keras')`. \n"
          ]
        },
        {
          "output_type": "stream",
          "name": "stdout",
          "text": [
            "\b\b\b\b\b\b\b\b\b\b\b\b\b\b\b\b\b\b\b\b\b\b\b\b\b\b\b\b\b\b\b\b\b\b\b\b\b\b\b\b\b\b\b\b\b\b\b\b\b\b\b\b\b\b\b\b\b\b\b\b\b\b\b\b\b\b\b\b\b\b\b\b\b\b\b\b\r\u001b[1m1719/1719\u001b[0m \u001b[32m━━━━━━━━━━━━━━━━━━━━\u001b[0m\u001b[37m\u001b[0m \u001b[1m5s\u001b[0m 3ms/step - accuracy: 0.9362 - loss: 0.3483 - val_accuracy: 0.9562 - val_loss: 0.2812\n",
            "Epoch 16/50\n",
            "\u001b[1m1704/1719\u001b[0m \u001b[32m━━━━━━━━━━━━━━━━━━━\u001b[0m\u001b[37m━\u001b[0m \u001b[1m0s\u001b[0m 2ms/step - accuracy: 0.9365 - loss: 0.3374"
          ]
        },
        {
          "output_type": "stream",
          "name": "stderr",
          "text": [
            "WARNING:absl:You are saving your model as an HDF5 file via `model.save()` or `keras.saving.save_model(model)`. This file format is considered legacy. We recommend using instead the native Keras format, e.g. `model.save('my_model.keras')` or `keras.saving.save_model(model, 'my_model.keras')`. \n"
          ]
        },
        {
          "output_type": "stream",
          "name": "stdout",
          "text": [
            "\b\b\b\b\b\b\b\b\b\b\b\b\b\b\b\b\b\b\b\b\b\b\b\b\b\b\b\b\b\b\b\b\b\b\b\b\b\b\b\b\b\b\b\b\b\b\b\b\b\b\b\b\b\b\b\b\b\b\b\b\b\b\b\b\b\b\b\b\b\b\b\b\b\b\b\b\r\u001b[1m1719/1719\u001b[0m \u001b[32m━━━━━━━━━━━━━━━━━━━━\u001b[0m\u001b[37m\u001b[0m \u001b[1m5s\u001b[0m 3ms/step - accuracy: 0.9365 - loss: 0.3373 - val_accuracy: 0.9570 - val_loss: 0.2680\n",
            "Epoch 17/50\n",
            "\u001b[1m1706/1719\u001b[0m \u001b[32m━━━━━━━━━━━━━━━━━━━\u001b[0m\u001b[37m━\u001b[0m \u001b[1m0s\u001b[0m 2ms/step - accuracy: 0.9395 - loss: 0.3237"
          ]
        },
        {
          "output_type": "stream",
          "name": "stderr",
          "text": [
            "WARNING:absl:You are saving your model as an HDF5 file via `model.save()` or `keras.saving.save_model(model)`. This file format is considered legacy. We recommend using instead the native Keras format, e.g. `model.save('my_model.keras')` or `keras.saving.save_model(model, 'my_model.keras')`. \n"
          ]
        },
        {
          "output_type": "stream",
          "name": "stdout",
          "text": [
            "\b\b\b\b\b\b\b\b\b\b\b\b\b\b\b\b\b\b\b\b\b\b\b\b\b\b\b\b\b\b\b\b\b\b\b\b\b\b\b\b\b\b\b\b\b\b\b\b\b\b\b\b\b\b\b\b\b\b\b\b\b\b\b\b\b\b\b\b\b\b\b\b\b\b\b\b\r\u001b[1m1719/1719\u001b[0m \u001b[32m━━━━━━━━━━━━━━━━━━━━\u001b[0m\u001b[37m\u001b[0m \u001b[1m5s\u001b[0m 3ms/step - accuracy: 0.9395 - loss: 0.3237 - val_accuracy: 0.9624 - val_loss: 0.2511\n",
            "Epoch 18/50\n",
            "\u001b[1m1716/1719\u001b[0m \u001b[32m━━━━━━━━━━━━━━━━━━━\u001b[0m\u001b[37m━\u001b[0m \u001b[1m0s\u001b[0m 3ms/step - accuracy: 0.9403 - loss: 0.3132"
          ]
        },
        {
          "output_type": "stream",
          "name": "stderr",
          "text": [
            "WARNING:absl:You are saving your model as an HDF5 file via `model.save()` or `keras.saving.save_model(model)`. This file format is considered legacy. We recommend using instead the native Keras format, e.g. `model.save('my_model.keras')` or `keras.saving.save_model(model, 'my_model.keras')`. \n"
          ]
        },
        {
          "output_type": "stream",
          "name": "stdout",
          "text": [
            "\b\b\b\b\b\b\b\b\b\b\b\b\b\b\b\b\b\b\b\b\b\b\b\b\b\b\b\b\b\b\b\b\b\b\b\b\b\b\b\b\b\b\b\b\b\b\b\b\b\b\b\b\b\b\b\b\b\b\b\b\b\b\b\b\b\b\b\b\b\b\b\b\b\b\b\b\r\u001b[1m1719/1719\u001b[0m \u001b[32m━━━━━━━━━━━━━━━━━━━━\u001b[0m\u001b[37m\u001b[0m \u001b[1m5s\u001b[0m 3ms/step - accuracy: 0.9403 - loss: 0.3132 - val_accuracy: 0.9620 - val_loss: 0.2492\n",
            "Epoch 19/50\n",
            "\u001b[1m1714/1719\u001b[0m \u001b[32m━━━━━━━━━━━━━━━━━━━\u001b[0m\u001b[37m━\u001b[0m \u001b[1m0s\u001b[0m 3ms/step - accuracy: 0.9447 - loss: 0.2962"
          ]
        },
        {
          "output_type": "stream",
          "name": "stderr",
          "text": [
            "WARNING:absl:You are saving your model as an HDF5 file via `model.save()` or `keras.saving.save_model(model)`. This file format is considered legacy. We recommend using instead the native Keras format, e.g. `model.save('my_model.keras')` or `keras.saving.save_model(model, 'my_model.keras')`. \n"
          ]
        },
        {
          "output_type": "stream",
          "name": "stdout",
          "text": [
            "\b\b\b\b\b\b\b\b\b\b\b\b\b\b\b\b\b\b\b\b\b\b\b\b\b\b\b\b\b\b\b\b\b\b\b\b\b\b\b\b\b\b\b\b\b\b\b\b\b\b\b\b\b\b\b\b\b\b\b\b\b\b\b\b\b\b\b\b\b\b\b\b\b\b\b\b\r\u001b[1m1719/1719\u001b[0m \u001b[32m━━━━━━━━━━━━━━━━━━━━\u001b[0m\u001b[37m\u001b[0m \u001b[1m11s\u001b[0m 3ms/step - accuracy: 0.9447 - loss: 0.2962 - val_accuracy: 0.9610 - val_loss: 0.2350\n",
            "Epoch 20/50\n",
            "\u001b[1m1719/1719\u001b[0m \u001b[32m━━━━━━━━━━━━━━━━━━━━\u001b[0m\u001b[37m\u001b[0m \u001b[1m0s\u001b[0m 3ms/step - accuracy: 0.9440 - loss: 0.2889"
          ]
        },
        {
          "output_type": "stream",
          "name": "stderr",
          "text": [
            "WARNING:absl:You are saving your model as an HDF5 file via `model.save()` or `keras.saving.save_model(model)`. This file format is considered legacy. We recommend using instead the native Keras format, e.g. `model.save('my_model.keras')` or `keras.saving.save_model(model, 'my_model.keras')`. \n"
          ]
        },
        {
          "output_type": "stream",
          "name": "stdout",
          "text": [
            "\b\b\b\b\b\b\b\b\b\b\b\b\b\b\b\b\b\b\b\b\b\b\b\b\b\b\b\b\b\b\b\b\b\b\b\b\b\b\b\b\b\b\b\b\b\b\b\b\b\b\b\b\b\b\b\b\b\b\b\b\b\b\b\b\b\b\b\b\b\b\b\b\b\b\b\b\r\u001b[1m1719/1719\u001b[0m \u001b[32m━━━━━━━━━━━━━━━━━━━━\u001b[0m\u001b[37m\u001b[0m \u001b[1m5s\u001b[0m 3ms/step - accuracy: 0.9440 - loss: 0.2889 - val_accuracy: 0.9652 - val_loss: 0.2262\n",
            "Epoch 21/50\n",
            "\u001b[1m1703/1719\u001b[0m \u001b[32m━━━━━━━━━━━━━━━━━━━\u001b[0m\u001b[37m━\u001b[0m \u001b[1m0s\u001b[0m 2ms/step - accuracy: 0.9443 - loss: 0.2861"
          ]
        },
        {
          "output_type": "stream",
          "name": "stderr",
          "text": [
            "WARNING:absl:You are saving your model as an HDF5 file via `model.save()` or `keras.saving.save_model(model)`. This file format is considered legacy. We recommend using instead the native Keras format, e.g. `model.save('my_model.keras')` or `keras.saving.save_model(model, 'my_model.keras')`. \n"
          ]
        },
        {
          "output_type": "stream",
          "name": "stdout",
          "text": [
            "\b\b\b\b\b\b\b\b\b\b\b\b\b\b\b\b\b\b\b\b\b\b\b\b\b\b\b\b\b\b\b\b\b\b\b\b\b\b\b\b\b\b\b\b\b\b\b\b\b\b\b\b\b\b\b\b\b\b\b\b\b\b\b\b\b\b\b\b\b\b\b\b\b\b\b\b\r\u001b[1m1719/1719\u001b[0m \u001b[32m━━━━━━━━━━━━━━━━━━━━\u001b[0m\u001b[37m\u001b[0m \u001b[1m5s\u001b[0m 3ms/step - accuracy: 0.9443 - loss: 0.2860 - val_accuracy: 0.9648 - val_loss: 0.2212\n",
            "Epoch 22/50\n",
            "\u001b[1m1703/1719\u001b[0m \u001b[32m━━━━━━━━━━━━━━━━━━━\u001b[0m\u001b[37m━\u001b[0m \u001b[1m0s\u001b[0m 3ms/step - accuracy: 0.9476 - loss: 0.2719"
          ]
        },
        {
          "output_type": "stream",
          "name": "stderr",
          "text": [
            "WARNING:absl:You are saving your model as an HDF5 file via `model.save()` or `keras.saving.save_model(model)`. This file format is considered legacy. We recommend using instead the native Keras format, e.g. `model.save('my_model.keras')` or `keras.saving.save_model(model, 'my_model.keras')`. \n"
          ]
        },
        {
          "output_type": "stream",
          "name": "stdout",
          "text": [
            "\b\b\b\b\b\b\b\b\b\b\b\b\b\b\b\b\b\b\b\b\b\b\b\b\b\b\b\b\b\b\b\b\b\b\b\b\b\b\b\b\b\b\b\b\b\b\b\b\b\b\b\b\b\b\b\b\b\b\b\b\b\b\b\b\b\b\b\b\b\b\b\b\b\b\b\b\r\u001b[1m1719/1719\u001b[0m \u001b[32m━━━━━━━━━━━━━━━━━━━━\u001b[0m\u001b[37m\u001b[0m \u001b[1m5s\u001b[0m 3ms/step - accuracy: 0.9476 - loss: 0.2718 - val_accuracy: 0.9648 - val_loss: 0.2115\n",
            "Epoch 23/50\n",
            "\u001b[1m1719/1719\u001b[0m \u001b[32m━━━━━━━━━━━━━━━━━━━━\u001b[0m\u001b[37m\u001b[0m \u001b[1m5s\u001b[0m 3ms/step - accuracy: 0.9480 - loss: 0.2651 - val_accuracy: 0.9650 - val_loss: 0.2168\n",
            "Epoch 24/50\n",
            "\u001b[1m1704/1719\u001b[0m \u001b[32m━━━━━━━━━━━━━━━━━━━\u001b[0m\u001b[37m━\u001b[0m \u001b[1m0s\u001b[0m 3ms/step - accuracy: 0.9491 - loss: 0.2589"
          ]
        },
        {
          "output_type": "stream",
          "name": "stderr",
          "text": [
            "WARNING:absl:You are saving your model as an HDF5 file via `model.save()` or `keras.saving.save_model(model)`. This file format is considered legacy. We recommend using instead the native Keras format, e.g. `model.save('my_model.keras')` or `keras.saving.save_model(model, 'my_model.keras')`. \n"
          ]
        },
        {
          "output_type": "stream",
          "name": "stdout",
          "text": [
            "\b\b\b\b\b\b\b\b\b\b\b\b\b\b\b\b\b\b\b\b\b\b\b\b\b\b\b\b\b\b\b\b\b\b\b\b\b\b\b\b\b\b\b\b\b\b\b\b\b\b\b\b\b\b\b\b\b\b\b\b\b\b\b\b\b\b\b\b\b\b\b\b\b\b\b\b\r\u001b[1m1719/1719\u001b[0m \u001b[32m━━━━━━━━━━━━━━━━━━━━\u001b[0m\u001b[37m\u001b[0m \u001b[1m5s\u001b[0m 3ms/step - accuracy: 0.9491 - loss: 0.2589 - val_accuracy: 0.9684 - val_loss: 0.1994\n",
            "Epoch 25/50\n",
            "\u001b[1m1700/1719\u001b[0m \u001b[32m━━━━━━━━━━━━━━━━━━━\u001b[0m\u001b[37m━\u001b[0m \u001b[1m0s\u001b[0m 3ms/step - accuracy: 0.9519 - loss: 0.2442"
          ]
        },
        {
          "output_type": "stream",
          "name": "stderr",
          "text": [
            "WARNING:absl:You are saving your model as an HDF5 file via `model.save()` or `keras.saving.save_model(model)`. This file format is considered legacy. We recommend using instead the native Keras format, e.g. `model.save('my_model.keras')` or `keras.saving.save_model(model, 'my_model.keras')`. \n"
          ]
        },
        {
          "output_type": "stream",
          "name": "stdout",
          "text": [
            "\b\b\b\b\b\b\b\b\b\b\b\b\b\b\b\b\b\b\b\b\b\b\b\b\b\b\b\b\b\b\b\b\b\b\b\b\b\b\b\b\b\b\b\b\b\b\b\b\b\b\b\b\b\b\b\b\b\b\b\b\b\b\b\b\b\b\b\b\b\b\b\b\b\b\b\b\r\u001b[1m1719/1719\u001b[0m \u001b[32m━━━━━━━━━━━━━━━━━━━━\u001b[0m\u001b[37m\u001b[0m \u001b[1m5s\u001b[0m 3ms/step - accuracy: 0.9519 - loss: 0.2441 - val_accuracy: 0.9668 - val_loss: 0.1972\n",
            "Epoch 26/50\n",
            "\u001b[1m1707/1719\u001b[0m \u001b[32m━━━━━━━━━━━━━━━━━━━\u001b[0m\u001b[37m━\u001b[0m \u001b[1m0s\u001b[0m 3ms/step - accuracy: 0.9536 - loss: 0.2351"
          ]
        },
        {
          "output_type": "stream",
          "name": "stderr",
          "text": [
            "WARNING:absl:You are saving your model as an HDF5 file via `model.save()` or `keras.saving.save_model(model)`. This file format is considered legacy. We recommend using instead the native Keras format, e.g. `model.save('my_model.keras')` or `keras.saving.save_model(model, 'my_model.keras')`. \n"
          ]
        },
        {
          "output_type": "stream",
          "name": "stdout",
          "text": [
            "\b\b\b\b\b\b\b\b\b\b\b\b\b\b\b\b\b\b\b\b\b\b\b\b\b\b\b\b\b\b\b\b\b\b\b\b\b\b\b\b\b\b\b\b\b\b\b\b\b\b\b\b\b\b\b\b\b\b\b\b\b\b\b\b\b\b\b\b\b\b\b\b\b\b\b\b\r\u001b[1m1719/1719\u001b[0m \u001b[32m━━━━━━━━━━━━━━━━━━━━\u001b[0m\u001b[37m\u001b[0m \u001b[1m6s\u001b[0m 3ms/step - accuracy: 0.9536 - loss: 0.2351 - val_accuracy: 0.9690 - val_loss: 0.1882\n",
            "Epoch 27/50\n",
            "\u001b[1m1713/1719\u001b[0m \u001b[32m━━━━━━━━━━━━━━━━━━━\u001b[0m\u001b[37m━\u001b[0m \u001b[1m0s\u001b[0m 3ms/step - accuracy: 0.9558 - loss: 0.2245"
          ]
        },
        {
          "output_type": "stream",
          "name": "stderr",
          "text": [
            "WARNING:absl:You are saving your model as an HDF5 file via `model.save()` or `keras.saving.save_model(model)`. This file format is considered legacy. We recommend using instead the native Keras format, e.g. `model.save('my_model.keras')` or `keras.saving.save_model(model, 'my_model.keras')`. \n"
          ]
        },
        {
          "output_type": "stream",
          "name": "stdout",
          "text": [
            "\b\b\b\b\b\b\b\b\b\b\b\b\b\b\b\b\b\b\b\b\b\b\b\b\b\b\b\b\b\b\b\b\b\b\b\b\b\b\b\b\b\b\b\b\b\b\b\b\b\b\b\b\b\b\b\b\b\b\b\b\b\b\b\b\b\b\b\b\b\b\b\b\b\b\b\b\r\u001b[1m1719/1719\u001b[0m \u001b[32m━━━━━━━━━━━━━━━━━━━━\u001b[0m\u001b[37m\u001b[0m \u001b[1m5s\u001b[0m 3ms/step - accuracy: 0.9558 - loss: 0.2244 - val_accuracy: 0.9702 - val_loss: 0.1800\n",
            "Epoch 28/50\n",
            "\u001b[1m1714/1719\u001b[0m \u001b[32m━━━━━━━━━━━━━━━━━━━\u001b[0m\u001b[37m━\u001b[0m \u001b[1m0s\u001b[0m 3ms/step - accuracy: 0.9560 - loss: 0.2196"
          ]
        },
        {
          "output_type": "stream",
          "name": "stderr",
          "text": [
            "WARNING:absl:You are saving your model as an HDF5 file via `model.save()` or `keras.saving.save_model(model)`. This file format is considered legacy. We recommend using instead the native Keras format, e.g. `model.save('my_model.keras')` or `keras.saving.save_model(model, 'my_model.keras')`. \n"
          ]
        },
        {
          "output_type": "stream",
          "name": "stdout",
          "text": [
            "\b\b\b\b\b\b\b\b\b\b\b\b\b\b\b\b\b\b\b\b\b\b\b\b\b\b\b\b\b\b\b\b\b\b\b\b\b\b\b\b\b\b\b\b\b\b\b\b\b\b\b\b\b\b\b\b\b\b\b\b\b\b\b\b\b\b\b\b\b\b\b\b\b\b\b\b\r\u001b[1m1719/1719\u001b[0m \u001b[32m━━━━━━━━━━━━━━━━━━━━\u001b[0m\u001b[37m\u001b[0m \u001b[1m5s\u001b[0m 3ms/step - accuracy: 0.9560 - loss: 0.2196 - val_accuracy: 0.9722 - val_loss: 0.1767\n",
            "Epoch 29/50\n",
            "\u001b[1m1711/1719\u001b[0m \u001b[32m━━━━━━━━━━━━━━━━━━━\u001b[0m\u001b[37m━\u001b[0m \u001b[1m0s\u001b[0m 3ms/step - accuracy: 0.9576 - loss: 0.2121"
          ]
        },
        {
          "output_type": "stream",
          "name": "stderr",
          "text": [
            "WARNING:absl:You are saving your model as an HDF5 file via `model.save()` or `keras.saving.save_model(model)`. This file format is considered legacy. We recommend using instead the native Keras format, e.g. `model.save('my_model.keras')` or `keras.saving.save_model(model, 'my_model.keras')`. \n"
          ]
        },
        {
          "output_type": "stream",
          "name": "stdout",
          "text": [
            "\b\b\b\b\b\b\b\b\b\b\b\b\b\b\b\b\b\b\b\b\b\b\b\b\b\b\b\b\b\b\b\b\b\b\b\b\b\b\b\b\b\b\b\b\b\b\b\b\b\b\b\b\b\b\b\b\b\b\b\b\b\b\b\b\b\b\b\b\b\b\b\b\b\b\b\b\r\u001b[1m1719/1719\u001b[0m \u001b[32m━━━━━━━━━━━━━━━━━━━━\u001b[0m\u001b[37m\u001b[0m \u001b[1m5s\u001b[0m 3ms/step - accuracy: 0.9576 - loss: 0.2121 - val_accuracy: 0.9708 - val_loss: 0.1721\n",
            "Epoch 30/50\n",
            "\u001b[1m1719/1719\u001b[0m \u001b[32m━━━━━━━━━━━━━━━━━━━━\u001b[0m\u001b[37m\u001b[0m \u001b[1m5s\u001b[0m 3ms/step - accuracy: 0.9573 - loss: 0.2092 - val_accuracy: 0.9716 - val_loss: 0.1724\n",
            "Epoch 31/50\n",
            "\u001b[1m1701/1719\u001b[0m \u001b[32m━━━━━━━━━━━━━━━━━━━\u001b[0m\u001b[37m━\u001b[0m \u001b[1m0s\u001b[0m 3ms/step - accuracy: 0.9604 - loss: 0.2008"
          ]
        },
        {
          "output_type": "stream",
          "name": "stderr",
          "text": [
            "WARNING:absl:You are saving your model as an HDF5 file via `model.save()` or `keras.saving.save_model(model)`. This file format is considered legacy. We recommend using instead the native Keras format, e.g. `model.save('my_model.keras')` or `keras.saving.save_model(model, 'my_model.keras')`. \n"
          ]
        },
        {
          "output_type": "stream",
          "name": "stdout",
          "text": [
            "\b\b\b\b\b\b\b\b\b\b\b\b\b\b\b\b\b\b\b\b\b\b\b\b\b\b\b\b\b\b\b\b\b\b\b\b\b\b\b\b\b\b\b\b\b\b\b\b\b\b\b\b\b\b\b\b\b\b\b\b\b\b\b\b\b\b\b\b\b\b\b\b\b\b\b\b\r\u001b[1m1719/1719\u001b[0m \u001b[32m━━━━━━━━━━━━━━━━━━━━\u001b[0m\u001b[37m\u001b[0m \u001b[1m6s\u001b[0m 3ms/step - accuracy: 0.9604 - loss: 0.2008 - val_accuracy: 0.9702 - val_loss: 0.1689\n",
            "Epoch 32/50\n",
            "\u001b[1m1708/1719\u001b[0m \u001b[32m━━━━━━━━━━━━━━━━━━━\u001b[0m\u001b[37m━\u001b[0m \u001b[1m0s\u001b[0m 3ms/step - accuracy: 0.9603 - loss: 0.1944"
          ]
        },
        {
          "output_type": "stream",
          "name": "stderr",
          "text": [
            "WARNING:absl:You are saving your model as an HDF5 file via `model.save()` or `keras.saving.save_model(model)`. This file format is considered legacy. We recommend using instead the native Keras format, e.g. `model.save('my_model.keras')` or `keras.saving.save_model(model, 'my_model.keras')`. \n"
          ]
        },
        {
          "output_type": "stream",
          "name": "stdout",
          "text": [
            "\b\b\b\b\b\b\b\b\b\b\b\b\b\b\b\b\b\b\b\b\b\b\b\b\b\b\b\b\b\b\b\b\b\b\b\b\b\b\b\b\b\b\b\b\b\b\b\b\b\b\b\b\b\b\b\b\b\b\b\b\b\b\b\b\b\b\b\b\b\b\b\b\b\b\b\b\r\u001b[1m1719/1719\u001b[0m \u001b[32m━━━━━━━━━━━━━━━━━━━━\u001b[0m\u001b[37m\u001b[0m \u001b[1m10s\u001b[0m 3ms/step - accuracy: 0.9603 - loss: 0.1944 - val_accuracy: 0.9720 - val_loss: 0.1640\n",
            "Epoch 33/50\n",
            "\u001b[1m1714/1719\u001b[0m \u001b[32m━━━━━━━━━━━━━━━━━━━\u001b[0m\u001b[37m━\u001b[0m \u001b[1m0s\u001b[0m 2ms/step - accuracy: 0.9608 - loss: 0.1893"
          ]
        },
        {
          "output_type": "stream",
          "name": "stderr",
          "text": [
            "WARNING:absl:You are saving your model as an HDF5 file via `model.save()` or `keras.saving.save_model(model)`. This file format is considered legacy. We recommend using instead the native Keras format, e.g. `model.save('my_model.keras')` or `keras.saving.save_model(model, 'my_model.keras')`. \n"
          ]
        },
        {
          "output_type": "stream",
          "name": "stdout",
          "text": [
            "\b\b\b\b\b\b\b\b\b\b\b\b\b\b\b\b\b\b\b\b\b\b\b\b\b\b\b\b\b\b\b\b\b\b\b\b\b\b\b\b\b\b\b\b\b\b\b\b\b\b\b\b\b\b\b\b\b\b\b\b\b\b\b\b\b\b\b\b\b\b\b\b\b\b\b\b\r\u001b[1m1719/1719\u001b[0m \u001b[32m━━━━━━━━━━━━━━━━━━━━\u001b[0m\u001b[37m\u001b[0m \u001b[1m10s\u001b[0m 3ms/step - accuracy: 0.9608 - loss: 0.1893 - val_accuracy: 0.9700 - val_loss: 0.1637\n",
            "Epoch 34/50\n",
            "\u001b[1m1712/1719\u001b[0m \u001b[32m━━━━━━━━━━━━━━━━━━━\u001b[0m\u001b[37m━\u001b[0m \u001b[1m0s\u001b[0m 3ms/step - accuracy: 0.9631 - loss: 0.1827"
          ]
        },
        {
          "output_type": "stream",
          "name": "stderr",
          "text": [
            "WARNING:absl:You are saving your model as an HDF5 file via `model.save()` or `keras.saving.save_model(model)`. This file format is considered legacy. We recommend using instead the native Keras format, e.g. `model.save('my_model.keras')` or `keras.saving.save_model(model, 'my_model.keras')`. \n"
          ]
        },
        {
          "output_type": "stream",
          "name": "stdout",
          "text": [
            "\b\b\b\b\b\b\b\b\b\b\b\b\b\b\b\b\b\b\b\b\b\b\b\b\b\b\b\b\b\b\b\b\b\b\b\b\b\b\b\b\b\b\b\b\b\b\b\b\b\b\b\b\b\b\b\b\b\b\b\b\b\b\b\b\b\b\b\b\b\b\b\b\b\b\b\b\r\u001b[1m1719/1719\u001b[0m \u001b[32m━━━━━━━━━━━━━━━━━━━━\u001b[0m\u001b[37m\u001b[0m \u001b[1m5s\u001b[0m 3ms/step - accuracy: 0.9631 - loss: 0.1827 - val_accuracy: 0.9748 - val_loss: 0.1540\n",
            "Epoch 35/50\n",
            "\u001b[1m1700/1719\u001b[0m \u001b[32m━━━━━━━━━━━━━━━━━━━\u001b[0m\u001b[37m━\u001b[0m \u001b[1m0s\u001b[0m 2ms/step - accuracy: 0.9637 - loss: 0.1757"
          ]
        },
        {
          "output_type": "stream",
          "name": "stderr",
          "text": [
            "WARNING:absl:You are saving your model as an HDF5 file via `model.save()` or `keras.saving.save_model(model)`. This file format is considered legacy. We recommend using instead the native Keras format, e.g. `model.save('my_model.keras')` or `keras.saving.save_model(model, 'my_model.keras')`. \n"
          ]
        },
        {
          "output_type": "stream",
          "name": "stdout",
          "text": [
            "\b\b\b\b\b\b\b\b\b\b\b\b\b\b\b\b\b\b\b\b\b\b\b\b\b\b\b\b\b\b\b\b\b\b\b\b\b\b\b\b\b\b\b\b\b\b\b\b\b\b\b\b\b\b\b\b\b\b\b\b\b\b\b\b\b\b\b\b\b\b\b\b\b\b\b\b\r\u001b[1m1719/1719\u001b[0m \u001b[32m━━━━━━━━━━━━━━━━━━━━\u001b[0m\u001b[37m\u001b[0m \u001b[1m5s\u001b[0m 3ms/step - accuracy: 0.9637 - loss: 0.1757 - val_accuracy: 0.9734 - val_loss: 0.1471\n",
            "Epoch 36/50\n",
            "\u001b[1m1719/1719\u001b[0m \u001b[32m━━━━━━━━━━━━━━━━━━━━\u001b[0m\u001b[37m\u001b[0m \u001b[1m6s\u001b[0m 3ms/step - accuracy: 0.9687 - loss: 0.1618 - val_accuracy: 0.9730 - val_loss: 0.1516\n",
            "Epoch 37/50\n",
            "\u001b[1m1700/1719\u001b[0m \u001b[32m━━━━━━━━━━━━━━━━━━━\u001b[0m\u001b[37m━\u001b[0m \u001b[1m0s\u001b[0m 3ms/step - accuracy: 0.9665 - loss: 0.1630"
          ]
        },
        {
          "output_type": "stream",
          "name": "stderr",
          "text": [
            "WARNING:absl:You are saving your model as an HDF5 file via `model.save()` or `keras.saving.save_model(model)`. This file format is considered legacy. We recommend using instead the native Keras format, e.g. `model.save('my_model.keras')` or `keras.saving.save_model(model, 'my_model.keras')`. \n"
          ]
        },
        {
          "output_type": "stream",
          "name": "stdout",
          "text": [
            "\b\b\b\b\b\b\b\b\b\b\b\b\b\b\b\b\b\b\b\b\b\b\b\b\b\b\b\b\b\b\b\b\b\b\b\b\b\b\b\b\b\b\b\b\b\b\b\b\b\b\b\b\b\b\b\b\b\b\b\b\b\b\b\b\b\b\b\b\b\b\b\b\b\b\b\b\r\u001b[1m1719/1719\u001b[0m \u001b[32m━━━━━━━━━━━━━━━━━━━━\u001b[0m\u001b[37m\u001b[0m \u001b[1m10s\u001b[0m 3ms/step - accuracy: 0.9665 - loss: 0.1630 - val_accuracy: 0.9756 - val_loss: 0.1421\n",
            "Epoch 38/50\n",
            "\u001b[1m1718/1719\u001b[0m \u001b[32m━━━━━━━━━━━━━━━━━━━\u001b[0m\u001b[37m━\u001b[0m \u001b[1m0s\u001b[0m 3ms/step - accuracy: 0.9681 - loss: 0.1573"
          ]
        },
        {
          "output_type": "stream",
          "name": "stderr",
          "text": [
            "WARNING:absl:You are saving your model as an HDF5 file via `model.save()` or `keras.saving.save_model(model)`. This file format is considered legacy. We recommend using instead the native Keras format, e.g. `model.save('my_model.keras')` or `keras.saving.save_model(model, 'my_model.keras')`. \n"
          ]
        },
        {
          "output_type": "stream",
          "name": "stdout",
          "text": [
            "\b\b\b\b\b\b\b\b\b\b\b\b\b\b\b\b\b\b\b\b\b\b\b\b\b\b\b\b\b\b\b\b\b\b\b\b\b\b\b\b\b\b\b\b\b\b\b\b\b\b\b\b\b\b\b\b\b\b\b\b\b\b\b\b\b\b\b\b\b\b\b\b\b\b\b\b\r\u001b[1m1719/1719\u001b[0m \u001b[32m━━━━━━━━━━━━━━━━━━━━\u001b[0m\u001b[37m\u001b[0m \u001b[1m5s\u001b[0m 3ms/step - accuracy: 0.9681 - loss: 0.1573 - val_accuracy: 0.9752 - val_loss: 0.1361\n",
            "Epoch 39/50\n",
            "\u001b[1m1719/1719\u001b[0m \u001b[32m━━━━━━━━━━━━━━━━━━━━\u001b[0m\u001b[37m\u001b[0m \u001b[1m5s\u001b[0m 3ms/step - accuracy: 0.9685 - loss: 0.1541 - val_accuracy: 0.9728 - val_loss: 0.1423\n",
            "Epoch 40/50\n",
            "\u001b[1m1719/1719\u001b[0m \u001b[32m━━━━━━━━━━━━━━━━━━━━\u001b[0m\u001b[37m\u001b[0m \u001b[1m6s\u001b[0m 3ms/step - accuracy: 0.9687 - loss: 0.1463 - val_accuracy: 0.9742 - val_loss: 0.1369\n",
            "Epoch 41/50\n",
            "\u001b[1m1719/1719\u001b[0m \u001b[32m━━━━━━━━━━━━━━━━━━━━\u001b[0m\u001b[37m\u001b[0m \u001b[1m10s\u001b[0m 3ms/step - accuracy: 0.9712 - loss: 0.1399 - val_accuracy: 0.9734 - val_loss: 0.1367\n",
            "Epoch 42/50\n",
            "\u001b[1m1709/1719\u001b[0m \u001b[32m━━━━━━━━━━━━━━━━━━━\u001b[0m\u001b[37m━\u001b[0m \u001b[1m0s\u001b[0m 3ms/step - accuracy: 0.9714 - loss: 0.1371"
          ]
        },
        {
          "output_type": "stream",
          "name": "stderr",
          "text": [
            "WARNING:absl:You are saving your model as an HDF5 file via `model.save()` or `keras.saving.save_model(model)`. This file format is considered legacy. We recommend using instead the native Keras format, e.g. `model.save('my_model.keras')` or `keras.saving.save_model(model, 'my_model.keras')`. \n"
          ]
        },
        {
          "output_type": "stream",
          "name": "stdout",
          "text": [
            "\b\b\b\b\b\b\b\b\b\b\b\b\b\b\b\b\b\b\b\b\b\b\b\b\b\b\b\b\b\b\b\b\b\b\b\b\b\b\b\b\b\b\b\b\b\b\b\b\b\b\b\b\b\b\b\b\b\b\b\b\b\b\b\b\b\b\b\b\b\b\b\b\b\b\b\b\r\u001b[1m1719/1719\u001b[0m \u001b[32m━━━━━━━━━━━━━━━━━━━━\u001b[0m\u001b[37m\u001b[0m \u001b[1m5s\u001b[0m 3ms/step - accuracy: 0.9714 - loss: 0.1371 - val_accuracy: 0.9740 - val_loss: 0.1340\n",
            "Epoch 43/50\n",
            "\u001b[1m1700/1719\u001b[0m \u001b[32m━━━━━━━━━━━━━━━━━━━\u001b[0m\u001b[37m━\u001b[0m \u001b[1m0s\u001b[0m 3ms/step - accuracy: 0.9709 - loss: 0.1368"
          ]
        },
        {
          "output_type": "stream",
          "name": "stderr",
          "text": [
            "WARNING:absl:You are saving your model as an HDF5 file via `model.save()` or `keras.saving.save_model(model)`. This file format is considered legacy. We recommend using instead the native Keras format, e.g. `model.save('my_model.keras')` or `keras.saving.save_model(model, 'my_model.keras')`. \n"
          ]
        },
        {
          "output_type": "stream",
          "name": "stdout",
          "text": [
            "\b\b\b\b\b\b\b\b\b\b\b\b\b\b\b\b\b\b\b\b\b\b\b\b\b\b\b\b\b\b\b\b\b\b\b\b\b\b\b\b\b\b\b\b\b\b\b\b\b\b\b\b\b\b\b\b\b\b\b\b\b\b\b\b\b\b\b\b\b\b\b\b\b\b\b\b\r\u001b[1m1719/1719\u001b[0m \u001b[32m━━━━━━━━━━━━━━━━━━━━\u001b[0m\u001b[37m\u001b[0m \u001b[1m5s\u001b[0m 3ms/step - accuracy: 0.9709 - loss: 0.1368 - val_accuracy: 0.9764 - val_loss: 0.1310\n",
            "Epoch 44/50\n",
            "\u001b[1m1719/1719\u001b[0m \u001b[32m━━━━━━━━━━━━━━━━━━━━\u001b[0m\u001b[37m\u001b[0m \u001b[1m5s\u001b[0m 3ms/step - accuracy: 0.9698 - loss: 0.1331 - val_accuracy: 0.9764 - val_loss: 0.1324\n",
            "Epoch 45/50\n",
            "\u001b[1m1716/1719\u001b[0m \u001b[32m━━━━━━━━━━━━━━━━━━━\u001b[0m\u001b[37m━\u001b[0m \u001b[1m0s\u001b[0m 3ms/step - accuracy: 0.9737 - loss: 0.1289"
          ]
        },
        {
          "output_type": "stream",
          "name": "stderr",
          "text": [
            "WARNING:absl:You are saving your model as an HDF5 file via `model.save()` or `keras.saving.save_model(model)`. This file format is considered legacy. We recommend using instead the native Keras format, e.g. `model.save('my_model.keras')` or `keras.saving.save_model(model, 'my_model.keras')`. \n"
          ]
        },
        {
          "output_type": "stream",
          "name": "stdout",
          "text": [
            "\b\b\b\b\b\b\b\b\b\b\b\b\b\b\b\b\b\b\b\b\b\b\b\b\b\b\b\b\b\b\b\b\b\b\b\b\b\b\b\b\b\b\b\b\b\b\b\b\b\b\b\b\b\b\b\b\b\b\b\b\b\b\b\b\b\b\b\b\b\b\b\b\b\b\b\b\r\u001b[1m1719/1719\u001b[0m \u001b[32m━━━━━━━━━━━━━━━━━━━━\u001b[0m\u001b[37m\u001b[0m \u001b[1m5s\u001b[0m 3ms/step - accuracy: 0.9737 - loss: 0.1289 - val_accuracy: 0.9756 - val_loss: 0.1264\n",
            "Epoch 46/50\n",
            "\u001b[1m1712/1719\u001b[0m \u001b[32m━━━━━━━━━━━━━━━━━━━\u001b[0m\u001b[37m━\u001b[0m \u001b[1m0s\u001b[0m 3ms/step - accuracy: 0.9721 - loss: 0.1260"
          ]
        },
        {
          "output_type": "stream",
          "name": "stderr",
          "text": [
            "WARNING:absl:You are saving your model as an HDF5 file via `model.save()` or `keras.saving.save_model(model)`. This file format is considered legacy. We recommend using instead the native Keras format, e.g. `model.save('my_model.keras')` or `keras.saving.save_model(model, 'my_model.keras')`. \n"
          ]
        },
        {
          "output_type": "stream",
          "name": "stdout",
          "text": [
            "\b\b\b\b\b\b\b\b\b\b\b\b\b\b\b\b\b\b\b\b\b\b\b\b\b\b\b\b\b\b\b\b\b\b\b\b\b\b\b\b\b\b\b\b\b\b\b\b\b\b\b\b\b\b\b\b\b\b\b\b\b\b\b\b\b\b\b\b\b\b\b\b\b\b\b\b\r\u001b[1m1719/1719\u001b[0m \u001b[32m━━━━━━━━━━━━━━━━━━━━\u001b[0m\u001b[37m\u001b[0m \u001b[1m6s\u001b[0m 3ms/step - accuracy: 0.9721 - loss: 0.1260 - val_accuracy: 0.9776 - val_loss: 0.1232\n",
            "Epoch 47/50\n",
            "\u001b[1m1713/1719\u001b[0m \u001b[32m━━━━━━━━━━━━━━━━━━━\u001b[0m\u001b[37m━\u001b[0m \u001b[1m0s\u001b[0m 2ms/step - accuracy: 0.9747 - loss: 0.1205"
          ]
        },
        {
          "output_type": "stream",
          "name": "stderr",
          "text": [
            "WARNING:absl:You are saving your model as an HDF5 file via `model.save()` or `keras.saving.save_model(model)`. This file format is considered legacy. We recommend using instead the native Keras format, e.g. `model.save('my_model.keras')` or `keras.saving.save_model(model, 'my_model.keras')`. \n"
          ]
        },
        {
          "output_type": "stream",
          "name": "stdout",
          "text": [
            "\b\b\b\b\b\b\b\b\b\b\b\b\b\b\b\b\b\b\b\b\b\b\b\b\b\b\b\b\b\b\b\b\b\b\b\b\b\b\b\b\b\b\b\b\b\b\b\b\b\b\b\b\b\b\b\b\b\b\b\b\b\b\b\b\b\b\b\b\b\b\b\b\b\b\b\b\r\u001b[1m1719/1719\u001b[0m \u001b[32m━━━━━━━━━━━━━━━━━━━━\u001b[0m\u001b[37m\u001b[0m \u001b[1m5s\u001b[0m 3ms/step - accuracy: 0.9747 - loss: 0.1205 - val_accuracy: 0.9760 - val_loss: 0.1166\n",
            "Epoch 48/50\n",
            "\u001b[1m1719/1719\u001b[0m \u001b[32m━━━━━━━━━━━━━━━━━━━━\u001b[0m\u001b[37m\u001b[0m \u001b[1m5s\u001b[0m 3ms/step - accuracy: 0.9761 - loss: 0.1151 - val_accuracy: 0.9752 - val_loss: 0.1200\n",
            "Epoch 49/50\n",
            "\u001b[1m1719/1719\u001b[0m \u001b[32m━━━━━━━━━━━━━━━━━━━━\u001b[0m\u001b[37m\u001b[0m \u001b[1m10s\u001b[0m 3ms/step - accuracy: 0.9775 - loss: 0.1121 - val_accuracy: 0.9764 - val_loss: 0.1174\n",
            "Epoch 50/50\n",
            "\u001b[1m1719/1719\u001b[0m \u001b[32m━━━━━━━━━━━━━━━━━━━━\u001b[0m\u001b[37m\u001b[0m \u001b[1m6s\u001b[0m 3ms/step - accuracy: 0.9766 - loss: 0.1097 - val_accuracy: 0.9760 - val_loss: 0.1172\n",
            "Model training completed!\n"
          ]
        }
      ]
    }
  ],
  "metadata": {
    "kernelspec": {
      "display_name": "Python 3",
      "name": "python3"
    },
    "language_info": {
      "codemirror_mode": {
        "name": "ipython",
        "version": 3
      },
      "file_extension": ".py",
      "mimetype": "text/x-python",
      "name": "python",
      "nbconvert_exporter": "python",
      "pygments_lexer": "ipython3",
      "version": "3.13.3"
    },
    "colab": {
      "provenance": [],
      "gpuType": "T4"
    },
    "accelerator": "GPU"
  },
  "nbformat": 4,
  "nbformat_minor": 5
}