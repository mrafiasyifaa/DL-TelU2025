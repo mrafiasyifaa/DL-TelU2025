{
  "cells": [
    {
      "cell_type": "markdown",
      "source": [
        "# **Training and Deploying TensorFlow Models**"
      ],
      "metadata": {
        "id": "UbtimilC1MqD"
      },
      "id": "UbtimilC1MqD"
    },
    {
      "cell_type": "code",
      "source": [
        "# Chapter 19 Demo: Training and Deploying TensorFlow Models at Scale\n",
        "# Demonstrasi sederhana konsep-konsep utama dari Chapter 19\n",
        "\n",
        "import tensorflow as tf\n",
        "import numpy as np\n",
        "import matplotlib.pyplot as plt\n",
        "from sklearn.datasets import fetch_california_housing\n",
        "from sklearn.model_selection import train_test_split\n",
        "from sklearn.preprocessing import StandardScaler\n",
        "import os\n",
        "import time\n",
        "\n",
        "print(\"TensorFlow version:\", tf.__version__)\n",
        "\n",
        "# =============================================================================\n",
        "# 1. PERSIAPAN DATA\n",
        "# =============================================================================\n",
        "\n",
        "def load_and_prepare_data():\n",
        "    \"\"\"Load dan persiapkan data California Housing\"\"\"\n",
        "    print(\"Loading California Housing dataset...\")\n",
        "\n",
        "    # Load dataset\n",
        "    housing = fetch_california_housing()\n",
        "    X, y = housing.data, housing.target\n",
        "\n",
        "    # Split data\n",
        "    X_train, X_test, y_train, y_test = train_test_split(\n",
        "        X, y, test_size=0.2, random_state=42\n",
        "    )\n",
        "\n",
        "    # Standardize features\n",
        "    scaler = StandardScaler()\n",
        "    X_train_scaled = scaler.fit_transform(X_train)\n",
        "    X_test_scaled = scaler.transform(X_test)\n",
        "\n",
        "    print(f\"Training set shape: {X_train_scaled.shape}\")\n",
        "    print(f\"Test set shape: {X_test_scaled.shape}\")\n",
        "\n",
        "    return X_train_scaled, X_test_scaled, y_train, y_test, scaler\n",
        "\n",
        "# =============================================================================\n",
        "# 2. MEMBUAT MODEL DENGAN KERAS FUNCTIONAL API\n",
        "# =============================================================================\n",
        "\n",
        "def create_model(input_shape):\n",
        "    \"\"\"Membuat model neural network dengan Functional API\"\"\"\n",
        "\n",
        "    # Input layer\n",
        "    inputs = tf.keras.layers.Input(shape=input_shape, name=\"features\")\n",
        "\n",
        "    # Hidden layers\n",
        "    hidden1 = tf.keras.layers.Dense(30, activation=\"relu\", name=\"hidden1\")(inputs)\n",
        "    hidden2 = tf.keras.layers.Dense(30, activation=\"relu\", name=\"hidden2\")(hidden1)\n",
        "\n",
        "    # Output layer\n",
        "    outputs = tf.keras.layers.Dense(1, name=\"output\")(hidden2)\n",
        "\n",
        "    # Create model\n",
        "    model = tf.keras.Model(inputs=inputs, outputs=outputs, name=\"housing_model\")\n",
        "\n",
        "    return model\n",
        "\n",
        "# =============================================================================\n",
        "# 3. CUSTOM TRAINING LOOP (Advanced Training)\n",
        "# =============================================================================\n",
        "\n",
        "def custom_training_step(model, optimizer, loss_fn, X_batch, y_batch):\n",
        "    \"\"\"Custom training step menggunakan GradientTape\"\"\"\n",
        "\n",
        "    with tf.GradientTape() as tape:\n",
        "        # Forward pass\n",
        "        predictions = model(X_batch, training=True)\n",
        "        # Compute loss\n",
        "        loss = loss_fn(y_batch, predictions)\n",
        "\n",
        "    # Compute gradients\n",
        "    gradients = tape.gradient(loss, model.trainable_variables)\n",
        "\n",
        "    # Apply gradients\n",
        "    optimizer.apply_gradients(zip(gradients, model.trainable_variables))\n",
        "\n",
        "    return loss\n",
        "\n",
        "def train_with_custom_loop(model, X_train, y_train, X_val, y_val, epochs=10, batch_size=32):\n",
        "    \"\"\"Training dengan custom loop untuk kontrol yang lebih baik\"\"\"\n",
        "\n",
        "    optimizer = tf.keras.optimizers.Adam(learning_rate=0.001)\n",
        "    loss_fn = tf.keras.losses.MeanSquaredError()\n",
        "\n",
        "    # Convert to TensorFlow datasets\n",
        "    train_dataset = tf.data.Dataset.from_tensor_slices((X_train, y_train))\n",
        "    train_dataset = train_dataset.shuffle(1000).batch(batch_size)\n",
        "\n",
        "    history = {'loss': [], 'val_loss': []}\n",
        "\n",
        "    print(\"Starting custom training loop...\")\n",
        "\n",
        "    for epoch in range(epochs):\n",
        "        print(f\"\\nEpoch {epoch + 1}/{epochs}\")\n",
        "\n",
        "        # Training\n",
        "        epoch_loss = 0\n",
        "        num_batches = 0\n",
        "\n",
        "        for X_batch, y_batch in train_dataset:\n",
        "            loss = custom_training_step(model, optimizer, loss_fn, X_batch, y_batch)\n",
        "            epoch_loss += loss\n",
        "            num_batches += 1\n",
        "\n",
        "        avg_loss = epoch_loss / num_batches\n",
        "\n",
        "        # Validation\n",
        "        val_predictions = model(X_val, training=False)\n",
        "        val_loss = loss_fn(y_val, val_predictions)\n",
        "\n",
        "        history['loss'].append(float(avg_loss))\n",
        "        history['val_loss'].append(float(val_loss))\n",
        "\n",
        "        print(f\"Loss: {avg_loss:.4f} - Val Loss: {val_loss:.4f}\")\n",
        "\n",
        "    return history\n",
        "\n",
        "# =============================================================================\n",
        "# 4. MODEL CHECKPOINTING DAN CALLBACKS\n",
        "# =============================================================================\n",
        "\n",
        "def setup_callbacks():\n",
        "    \"\"\"Setup berbagai callbacks untuk training\"\"\"\n",
        "\n",
        "    callbacks = [\n",
        "        # Model checkpoint\n",
        "        tf.keras.callbacks.ModelCheckpoint(\n",
        "            filepath=\"best_model.h5\",\n",
        "            monitor=\"val_loss\",\n",
        "            save_best_only=True,\n",
        "            verbose=1\n",
        "        ),\n",
        "\n",
        "        # Early stopping\n",
        "        tf.keras.callbacks.EarlyStopping(\n",
        "            monitor=\"val_loss\",\n",
        "            patience=10,\n",
        "            restore_best_weights=True,\n",
        "            verbose=1\n",
        "        ),\n",
        "\n",
        "        # Learning rate reduction\n",
        "        tf.keras.callbacks.ReduceLROnPlateau(\n",
        "            monitor=\"val_loss\",\n",
        "            factor=0.5,\n",
        "            patience=5,\n",
        "            min_lr=1e-7,\n",
        "            verbose=1\n",
        "        ),\n",
        "\n",
        "        # TensorBoard logging\n",
        "        tf.keras.callbacks.TensorBoard(\n",
        "            log_dir=\"./logs\",\n",
        "            histogram_freq=1,\n",
        "            write_graph=True\n",
        "        )\n",
        "    ]\n",
        "\n",
        "    return callbacks\n",
        "\n",
        "# =============================================================================\n",
        "# 5. DISTRIBUTED TRAINING SIMULATION\n",
        "# =============================================================================\n",
        "\n",
        "def simulate_distributed_training():\n",
        "    \"\"\"Simulasi distributed training dengan MirroredStrategy\"\"\"\n",
        "\n",
        "    print(\"Simulating distributed training...\")\n",
        "\n",
        "    # Create strategy\n",
        "    strategy = tf.distribute.MirroredStrategy()\n",
        "    print(f\"Number of devices: {strategy.num_replicas_in_sync}\")\n",
        "\n",
        "    # Create model within strategy scope\n",
        "    with strategy.scope():\n",
        "        distributed_model = create_model((8,))\n",
        "        distributed_model.compile(\n",
        "            optimizer='adam',\n",
        "            loss='mse',\n",
        "            metrics=['mae']\n",
        "        )\n",
        "\n",
        "    print(\"Distributed model created successfully!\")\n",
        "    return distributed_model\n",
        "\n",
        "# =============================================================================\n",
        "# 6. MODEL SERVING DAN DEPLOYMENT\n",
        "# =============================================================================\n",
        "\n",
        "def save_model_for_serving(model, model_name=\"housing_model\"):\n",
        "    \"\"\"Save model dalam format yang siap untuk serving\"\"\"\n",
        "\n",
        "    # Save dalam format SavedModel (recommended untuk production)\n",
        "    tf.saved_model.save(model, f\"./saved_models/{model_name}\")\n",
        "    print(f\"Model saved to ./saved_models/{model_name}\")\n",
        "\n",
        "    # Save dalam format HDF5 (untuk backup)\n",
        "    model.save(f\"./saved_models/{model_name}.h5\")\n",
        "    print(f\"Model saved to ./saved_models/{model_name}.h5\")\n",
        "\n",
        "def load_and_serve_model(model_path):\n",
        "    \"\"\"Load model dan simulasi serving\"\"\"\n",
        "\n",
        "    print(f\"Loading model from {model_path}\")\n",
        "    loaded_model = tf.saved_model.load(model_path)\n",
        "\n",
        "    # Simulasi prediction request\n",
        "    sample_input = np.random.randn(1, 8).astype(np.float32)\n",
        "\n",
        "    # Make prediction\n",
        "    prediction = loaded_model(sample_input)\n",
        "    print(f\"Sample prediction: {prediction.numpy()[0][0]:.2f}\")\n",
        "\n",
        "    return loaded_model\n",
        "\n",
        "# =============================================================================\n",
        "# 7. PERFORMANCE MONITORING\n",
        "# =============================================================================\n",
        "\n",
        "def benchmark_model_performance(model, X_test, num_runs=100):\n",
        "    \"\"\"Benchmark performa model untuk monitoring\"\"\"\n",
        "\n",
        "    print(\"Benchmarking model performance...\")\n",
        "\n",
        "    # Warm up\n",
        "    _ = model(X_test[:10])\n",
        "\n",
        "    # Benchmark inference time\n",
        "    times = []\n",
        "    for _ in range(num_runs):\n",
        "        start_time = time.time()\n",
        "        _ = model(X_test)\n",
        "        end_time = time.time()\n",
        "        times.append(end_time - start_time)\n",
        "\n",
        "    avg_time = np.mean(times)\n",
        "    throughput = len(X_test) / avg_time\n",
        "\n",
        "    print(f\"Average inference time: {avg_time*1000:.2f} ms\")\n",
        "    print(f\"Throughput: {throughput:.0f} samples/second\")\n",
        "\n",
        "    return {'avg_time': avg_time, 'throughput': throughput}\n",
        "\n",
        "# =============================================================================\n",
        "# 8. MAIN EXECUTION\n",
        "# =============================================================================\n",
        "\n",
        "def main():\n",
        "    \"\"\"Fungsi utama untuk menjalankan semua demonstrasi\"\"\"\n",
        "\n",
        "    print(\"=\" * 60)\n",
        "    print(\"CHAPTER 19 DEMO: TRAINING AND DEPLOYING AT SCALE\")\n",
        "    print(\"=\" * 60)\n",
        "\n",
        "    # 1. Load data\n",
        "    X_train, X_test, y_train, y_test, scaler = load_and_prepare_data()\n",
        "\n",
        "    # Split training data untuk validation\n",
        "    X_train_split, X_val, y_train_split, y_val = train_test_split(\n",
        "        X_train, y_train, test_size=0.2, random_state=42\n",
        "    )\n",
        "\n",
        "    # 2. Create model\n",
        "    print(\"\\n\" + \"=\"*50)\n",
        "    print(\"CREATING MODEL\")\n",
        "    print(\"=\"*50)\n",
        "\n",
        "    model = create_model((X_train.shape[1],))\n",
        "    model.summary()\n",
        "\n",
        "    # 3. Standard training\n",
        "    print(\"\\n\" + \"=\"*50)\n",
        "    print(\"STANDARD TRAINING\")\n",
        "    print(\"=\"*50)\n",
        "\n",
        "    model.compile(\n",
        "        optimizer='adam',\n",
        "        loss='mse',\n",
        "        metrics=['mae']\n",
        "    )\n",
        "\n",
        "    callbacks = setup_callbacks()\n",
        "\n",
        "    history_standard = model.fit(\n",
        "        X_train_split, y_train_split,\n",
        "        validation_data=(X_val, y_val),\n",
        "        epochs=20,\n",
        "        batch_size=32,\n",
        "        callbacks=callbacks,\n",
        "        verbose=1\n",
        "    )\n",
        "\n",
        "    # 4. Custom training loop\n",
        "    print(\"\\n\" + \"=\"*50)\n",
        "    print(\"CUSTOM TRAINING LOOP\")\n",
        "    print(\"=\"*50)\n",
        "\n",
        "    custom_model = create_model((X_train.shape[1],))\n",
        "    history_custom = train_with_custom_loop(\n",
        "        custom_model, X_train_split, y_train_split, X_val, y_val,\n",
        "        epochs=10, batch_size=32\n",
        "    )\n",
        "\n",
        "    # 5. Distributed training simulation\n",
        "    print(\"\\n\" + \"=\"*50)\n",
        "    print(\"DISTRIBUTED TRAINING SIMULATION\")\n",
        "    print(\"=\"*50)\n",
        "\n",
        "    distributed_model = simulate_distributed_training()\n",
        "\n",
        "    # 6. Model evaluation\n",
        "    print(\"\\n\" + \"=\"*50)\n",
        "    print(\"MODEL EVALUATION\")\n",
        "    print(\"=\"*50)\n",
        "\n",
        "    test_loss, test_mae = model.evaluate(X_test, y_test, verbose=0)\n",
        "    print(f\"Test Loss: {test_loss:.4f}\")\n",
        "    print(f\"Test MAE: {test_mae:.4f}\")\n",
        "\n",
        "    # 7. Save model for serving\n",
        "    print(\"\\n\" + \"=\"*50)\n",
        "    print(\"SAVING MODEL FOR SERVING\")\n",
        "    print(\"=\"*50)\n",
        "\n",
        "    os.makedirs(\"./saved_models\", exist_ok=True)\n",
        "    save_model_for_serving(model, \"housing_predictor\")\n",
        "\n",
        "    # 8. Load and serve model\n",
        "    print(\"\\n\" + \"=\"*50)\n",
        "    print(\"LOADING AND SERVING MODEL\")\n",
        "    print(\"=\"*50)\n",
        "\n",
        "    try:\n",
        "        served_model = load_and_serve_model(\"./saved_models/housing_predictor\")\n",
        "    except Exception as e:\n",
        "        print(f\"Model serving simulation failed: {e}\")\n",
        "\n",
        "    # 9. Performance benchmarking\n",
        "    print(\"\\n\" + \"=\"*50)\n",
        "    print(\"PERFORMANCE BENCHMARKING\")\n",
        "    print(\"=\"*50)\n",
        "\n",
        "    performance_stats = benchmark_model_performance(model, X_test)\n",
        "\n",
        "    # 10. Plot training history\n",
        "    print(\"\\n\" + \"=\"*50)\n",
        "    print(\"PLOTTING TRAINING RESULTS\")\n",
        "    print(\"=\"*50)\n",
        "\n",
        "    plt.figure(figsize=(12, 4))\n",
        "\n",
        "    # Standard training history\n",
        "    plt.subplot(1, 2, 1)\n",
        "    plt.plot(history_standard.history['loss'], label='Training Loss')\n",
        "    plt.plot(history_standard.history['val_loss'], label='Validation Loss')\n",
        "    plt.title('Standard Training')\n",
        "    plt.xlabel('Epoch')\n",
        "    plt.ylabel('Loss')\n",
        "    plt.legend()\n",
        "\n",
        "    # Custom training history\n",
        "    plt.subplot(1, 2, 2)\n",
        "    plt.plot(history_custom['loss'], label='Training Loss')\n",
        "    plt.plot(history_custom['val_loss'], label='Validation Loss')\n",
        "    plt.title('Custom Training Loop')\n",
        "    plt.xlabel('Epoch')\n",
        "    plt.ylabel('Loss')\n",
        "    plt.legend()\n",
        "\n",
        "    plt.tight_layout()\n",
        "    plt.show()\n",
        "\n",
        "    print(\"\\n\" + \"=\"*60)\n",
        "    print(\"DEMO COMPLETED SUCCESSFULLY!\")\n",
        "    print(\"=\"*60)\n",
        "\n",
        "# Jalankan demonstrasi\n",
        "if __name__ == \"__main__\":\n",
        "    main()\n",
        "\n",
        "# =============================================================================\n",
        "# ADDITIONAL UTILITIES FOR PRODUCTION\n",
        "# =============================================================================\n",
        "\n",
        "def create_inference_function(model_path):\n",
        "    \"\"\"Membuat fungsi inference yang optimized untuk production\"\"\"\n",
        "\n",
        "    @tf.function\n",
        "    def inference_fn(x):\n",
        "        \"\"\"Optimized inference function\"\"\"\n",
        "        return model(x, training=False)\n",
        "\n",
        "    model = tf.keras.models.load_model(model_path)\n",
        "    return inference_fn\n",
        "\n",
        "def setup_monitoring():\n",
        "    \"\"\"Setup monitoring untuk production deployment\"\"\"\n",
        "\n",
        "    print(\"Setting up production monitoring...\")\n",
        "\n",
        "    # Metrics yang perlu dimonitor:\n",
        "    metrics = {\n",
        "        'latency': 'Average response time',\n",
        "        'throughput': 'Requests per second',\n",
        "        'error_rate': 'Percentage of failed requests',\n",
        "        'resource_usage': 'CPU and memory usage',\n",
        "        'model_accuracy': 'Model performance metrics'\n",
        "    }\n",
        "\n",
        "    for metric, description in metrics.items():\n",
        "        print(f\"- {metric}: {description}\")\n",
        "\n",
        "    return metrics\n",
        "\n",
        "print(\"\\nKode siap dijalankan! Gunakan main() untuk memulai demonstrasi.\")\n",
        "print(\"Pastikan Anda memiliki TensorFlow, scikit-learn, dan matplotlib terinstall.\")"
      ],
      "metadata": {
        "colab": {
          "base_uri": "https://localhost:8080/",
          "height": 1000
        },
        "id": "9OEz3lt137K1",
        "outputId": "73d11d33-7add-4cdb-a5bf-b518d146cd04"
      },
      "id": "9OEz3lt137K1",
      "execution_count": 18,
      "outputs": [
        {
          "output_type": "stream",
          "name": "stdout",
          "text": [
            "TensorFlow version: 2.18.0\n",
            "============================================================\n",
            "CHAPTER 19 DEMO: TRAINING AND DEPLOYING AT SCALE\n",
            "============================================================\n",
            "Loading California Housing dataset...\n",
            "Training set shape: (16512, 8)\n",
            "Test set shape: (4128, 8)\n",
            "\n",
            "==================================================\n",
            "CREATING MODEL\n",
            "==================================================\n"
          ]
        },
        {
          "output_type": "display_data",
          "data": {
            "text/plain": [
              "\u001b[1mModel: \"housing_model\"\u001b[0m\n"
            ],
            "text/html": [
              "<pre style=\"white-space:pre;overflow-x:auto;line-height:normal;font-family:Menlo,'DejaVu Sans Mono',consolas,'Courier New',monospace\"><span style=\"font-weight: bold\">Model: \"housing_model\"</span>\n",
              "</pre>\n"
            ]
          },
          "metadata": {}
        },
        {
          "output_type": "display_data",
          "data": {
            "text/plain": [
              "┏━━━━━━━━━━━━━━━━━━━━━━━━━━━━━━━━━┳━━━━━━━━━━━━━━━━━━━━━━━━┳━━━━━━━━━━━━━━━┓\n",
              "┃\u001b[1m \u001b[0m\u001b[1mLayer (type)                   \u001b[0m\u001b[1m \u001b[0m┃\u001b[1m \u001b[0m\u001b[1mOutput Shape          \u001b[0m\u001b[1m \u001b[0m┃\u001b[1m \u001b[0m\u001b[1m      Param #\u001b[0m\u001b[1m \u001b[0m┃\n",
              "┡━━━━━━━━━━━━━━━━━━━━━━━━━━━━━━━━━╇━━━━━━━━━━━━━━━━━━━━━━━━╇━━━━━━━━━━━━━━━┩\n",
              "│ features (\u001b[38;5;33mInputLayer\u001b[0m)           │ (\u001b[38;5;45mNone\u001b[0m, \u001b[38;5;34m8\u001b[0m)              │             \u001b[38;5;34m0\u001b[0m │\n",
              "├─────────────────────────────────┼────────────────────────┼───────────────┤\n",
              "│ hidden1 (\u001b[38;5;33mDense\u001b[0m)                 │ (\u001b[38;5;45mNone\u001b[0m, \u001b[38;5;34m30\u001b[0m)             │           \u001b[38;5;34m270\u001b[0m │\n",
              "├─────────────────────────────────┼────────────────────────┼───────────────┤\n",
              "│ hidden2 (\u001b[38;5;33mDense\u001b[0m)                 │ (\u001b[38;5;45mNone\u001b[0m, \u001b[38;5;34m30\u001b[0m)             │           \u001b[38;5;34m930\u001b[0m │\n",
              "├─────────────────────────────────┼────────────────────────┼───────────────┤\n",
              "│ output (\u001b[38;5;33mDense\u001b[0m)                  │ (\u001b[38;5;45mNone\u001b[0m, \u001b[38;5;34m1\u001b[0m)              │            \u001b[38;5;34m31\u001b[0m │\n",
              "└─────────────────────────────────┴────────────────────────┴───────────────┘\n"
            ],
            "text/html": [
              "<pre style=\"white-space:pre;overflow-x:auto;line-height:normal;font-family:Menlo,'DejaVu Sans Mono',consolas,'Courier New',monospace\">┏━━━━━━━━━━━━━━━━━━━━━━━━━━━━━━━━━┳━━━━━━━━━━━━━━━━━━━━━━━━┳━━━━━━━━━━━━━━━┓\n",
              "┃<span style=\"font-weight: bold\"> Layer (type)                    </span>┃<span style=\"font-weight: bold\"> Output Shape           </span>┃<span style=\"font-weight: bold\">       Param # </span>┃\n",
              "┡━━━━━━━━━━━━━━━━━━━━━━━━━━━━━━━━━╇━━━━━━━━━━━━━━━━━━━━━━━━╇━━━━━━━━━━━━━━━┩\n",
              "│ features (<span style=\"color: #0087ff; text-decoration-color: #0087ff\">InputLayer</span>)           │ (<span style=\"color: #00d7ff; text-decoration-color: #00d7ff\">None</span>, <span style=\"color: #00af00; text-decoration-color: #00af00\">8</span>)              │             <span style=\"color: #00af00; text-decoration-color: #00af00\">0</span> │\n",
              "├─────────────────────────────────┼────────────────────────┼───────────────┤\n",
              "│ hidden1 (<span style=\"color: #0087ff; text-decoration-color: #0087ff\">Dense</span>)                 │ (<span style=\"color: #00d7ff; text-decoration-color: #00d7ff\">None</span>, <span style=\"color: #00af00; text-decoration-color: #00af00\">30</span>)             │           <span style=\"color: #00af00; text-decoration-color: #00af00\">270</span> │\n",
              "├─────────────────────────────────┼────────────────────────┼───────────────┤\n",
              "│ hidden2 (<span style=\"color: #0087ff; text-decoration-color: #0087ff\">Dense</span>)                 │ (<span style=\"color: #00d7ff; text-decoration-color: #00d7ff\">None</span>, <span style=\"color: #00af00; text-decoration-color: #00af00\">30</span>)             │           <span style=\"color: #00af00; text-decoration-color: #00af00\">930</span> │\n",
              "├─────────────────────────────────┼────────────────────────┼───────────────┤\n",
              "│ output (<span style=\"color: #0087ff; text-decoration-color: #0087ff\">Dense</span>)                  │ (<span style=\"color: #00d7ff; text-decoration-color: #00d7ff\">None</span>, <span style=\"color: #00af00; text-decoration-color: #00af00\">1</span>)              │            <span style=\"color: #00af00; text-decoration-color: #00af00\">31</span> │\n",
              "└─────────────────────────────────┴────────────────────────┴───────────────┘\n",
              "</pre>\n"
            ]
          },
          "metadata": {}
        },
        {
          "output_type": "display_data",
          "data": {
            "text/plain": [
              "\u001b[1m Total params: \u001b[0m\u001b[38;5;34m1,231\u001b[0m (4.81 KB)\n"
            ],
            "text/html": [
              "<pre style=\"white-space:pre;overflow-x:auto;line-height:normal;font-family:Menlo,'DejaVu Sans Mono',consolas,'Courier New',monospace\"><span style=\"font-weight: bold\"> Total params: </span><span style=\"color: #00af00; text-decoration-color: #00af00\">1,231</span> (4.81 KB)\n",
              "</pre>\n"
            ]
          },
          "metadata": {}
        },
        {
          "output_type": "display_data",
          "data": {
            "text/plain": [
              "\u001b[1m Trainable params: \u001b[0m\u001b[38;5;34m1,231\u001b[0m (4.81 KB)\n"
            ],
            "text/html": [
              "<pre style=\"white-space:pre;overflow-x:auto;line-height:normal;font-family:Menlo,'DejaVu Sans Mono',consolas,'Courier New',monospace\"><span style=\"font-weight: bold\"> Trainable params: </span><span style=\"color: #00af00; text-decoration-color: #00af00\">1,231</span> (4.81 KB)\n",
              "</pre>\n"
            ]
          },
          "metadata": {}
        },
        {
          "output_type": "display_data",
          "data": {
            "text/plain": [
              "\u001b[1m Non-trainable params: \u001b[0m\u001b[38;5;34m0\u001b[0m (0.00 B)\n"
            ],
            "text/html": [
              "<pre style=\"white-space:pre;overflow-x:auto;line-height:normal;font-family:Menlo,'DejaVu Sans Mono',consolas,'Courier New',monospace\"><span style=\"font-weight: bold\"> Non-trainable params: </span><span style=\"color: #00af00; text-decoration-color: #00af00\">0</span> (0.00 B)\n",
              "</pre>\n"
            ]
          },
          "metadata": {}
        },
        {
          "output_type": "stream",
          "name": "stdout",
          "text": [
            "\n",
            "==================================================\n",
            "STANDARD TRAINING\n",
            "==================================================\n",
            "Epoch 1/20\n",
            "\u001b[1m413/413\u001b[0m \u001b[32m━━━━━━━━━━━━━━━━━━━━\u001b[0m\u001b[37m\u001b[0m \u001b[1m0s\u001b[0m 10ms/step - loss: 1.7745 - mae: 0.9462\n",
            "Epoch 1: val_loss improved from inf to 0.63918, saving model to best_model.h5\n"
          ]
        },
        {
          "output_type": "stream",
          "name": "stderr",
          "text": [
            "WARNING:absl:You are saving your model as an HDF5 file via `model.save()` or `keras.saving.save_model(model)`. This file format is considered legacy. We recommend using instead the native Keras format, e.g. `model.save('my_model.keras')` or `keras.saving.save_model(model, 'my_model.keras')`. \n"
          ]
        },
        {
          "output_type": "stream",
          "name": "stdout",
          "text": [
            "\b\b\b\b\b\b\b\b\b\b\b\b\b\b\b\b\b\b\b\b\b\b\b\b\b\b\b\b\b\b\b\b\b\b\b\b\b\b\b\b\b\b\b\b\b\b\b\b\b\b\b\b\b\b\b\b\b\b\b\b\b\b\b\b\b\b\b\b\b\b\r\u001b[1m413/413\u001b[0m \u001b[32m━━━━━━━━━━━━━━━━━━━━\u001b[0m\u001b[37m\u001b[0m \u001b[1m10s\u001b[0m 14ms/step - loss: 1.7727 - mae: 0.9456 - val_loss: 0.6392 - val_mae: 0.5227 - learning_rate: 0.0010\n",
            "Epoch 2/20\n",
            "\u001b[1m399/413\u001b[0m \u001b[32m━━━━━━━━━━━━━━━━━━━\u001b[0m\u001b[37m━\u001b[0m \u001b[1m0s\u001b[0m 3ms/step - loss: 0.4622 - mae: 0.4862\n",
            "Epoch 2: val_loss improved from 0.63918 to 0.43521, saving model to best_model.h5\n"
          ]
        },
        {
          "output_type": "stream",
          "name": "stderr",
          "text": [
            "WARNING:absl:You are saving your model as an HDF5 file via `model.save()` or `keras.saving.save_model(model)`. This file format is considered legacy. We recommend using instead the native Keras format, e.g. `model.save('my_model.keras')` or `keras.saving.save_model(model, 'my_model.keras')`. \n"
          ]
        },
        {
          "output_type": "stream",
          "name": "stdout",
          "text": [
            "\b\b\b\b\b\b\b\b\b\b\b\b\b\b\b\b\b\b\b\b\b\b\b\b\b\b\b\b\b\b\b\b\b\b\b\b\b\b\b\b\b\b\b\b\b\b\b\b\b\b\b\b\b\b\b\b\b\b\b\b\b\b\b\b\b\b\b\b\b\r\u001b[1m413/413\u001b[0m \u001b[32m━━━━━━━━━━━━━━━━━━━━\u001b[0m\u001b[37m\u001b[0m \u001b[1m4s\u001b[0m 4ms/step - loss: 0.4612 - mae: 0.4857 - val_loss: 0.4352 - val_mae: 0.4703 - learning_rate: 0.0010\n",
            "Epoch 3/20\n",
            "\u001b[1m399/413\u001b[0m \u001b[32m━━━━━━━━━━━━━━━━━━━\u001b[0m\u001b[37m━\u001b[0m \u001b[1m0s\u001b[0m 3ms/step - loss: 0.3952 - mae: 0.4456\n",
            "Epoch 3: val_loss improved from 0.43521 to 0.40860, saving model to best_model.h5\n"
          ]
        },
        {
          "output_type": "stream",
          "name": "stderr",
          "text": [
            "WARNING:absl:You are saving your model as an HDF5 file via `model.save()` or `keras.saving.save_model(model)`. This file format is considered legacy. We recommend using instead the native Keras format, e.g. `model.save('my_model.keras')` or `keras.saving.save_model(model, 'my_model.keras')`. \n"
          ]
        },
        {
          "output_type": "stream",
          "name": "stdout",
          "text": [
            "\b\b\b\b\b\b\b\b\b\b\b\b\b\b\b\b\b\b\b\b\b\b\b\b\b\b\b\b\b\b\b\b\b\b\b\b\b\b\b\b\b\b\b\b\b\b\b\b\b\b\b\b\b\b\b\b\b\b\b\b\b\b\b\b\b\b\b\b\b\r\u001b[1m413/413\u001b[0m \u001b[32m━━━━━━━━━━━━━━━━━━━━\u001b[0m\u001b[37m\u001b[0m \u001b[1m2s\u001b[0m 4ms/step - loss: 0.3950 - mae: 0.4455 - val_loss: 0.4086 - val_mae: 0.4582 - learning_rate: 0.0010\n",
            "Epoch 4/20\n",
            "\u001b[1m404/413\u001b[0m \u001b[32m━━━━━━━━━━━━━━━━━━━\u001b[0m\u001b[37m━\u001b[0m \u001b[1m0s\u001b[0m 4ms/step - loss: 0.3738 - mae: 0.4328\n",
            "Epoch 4: val_loss improved from 0.40860 to 0.39592, saving model to best_model.h5\n"
          ]
        },
        {
          "output_type": "stream",
          "name": "stderr",
          "text": [
            "WARNING:absl:You are saving your model as an HDF5 file via `model.save()` or `keras.saving.save_model(model)`. This file format is considered legacy. We recommend using instead the native Keras format, e.g. `model.save('my_model.keras')` or `keras.saving.save_model(model, 'my_model.keras')`. \n"
          ]
        },
        {
          "output_type": "stream",
          "name": "stdout",
          "text": [
            "\b\b\b\b\b\b\b\b\b\b\b\b\b\b\b\b\b\b\b\b\b\b\b\b\b\b\b\b\b\b\b\b\b\b\b\b\b\b\b\b\b\b\b\b\b\b\b\b\b\b\b\b\b\b\b\b\b\b\b\b\b\b\b\b\b\b\b\b\b\r\u001b[1m413/413\u001b[0m \u001b[32m━━━━━━━━━━━━━━━━━━━━\u001b[0m\u001b[37m\u001b[0m \u001b[1m3s\u001b[0m 5ms/step - loss: 0.3738 - mae: 0.4328 - val_loss: 0.3959 - val_mae: 0.4523 - learning_rate: 0.0010\n",
            "Epoch 5/20\n",
            "\u001b[1m412/413\u001b[0m \u001b[32m━━━━━━━━━━━━━━━━━━━\u001b[0m\u001b[37m━\u001b[0m \u001b[1m0s\u001b[0m 3ms/step - loss: 0.3615 - mae: 0.4256\n",
            "Epoch 5: val_loss improved from 0.39592 to 0.38913, saving model to best_model.h5\n"
          ]
        },
        {
          "output_type": "stream",
          "name": "stderr",
          "text": [
            "WARNING:absl:You are saving your model as an HDF5 file via `model.save()` or `keras.saving.save_model(model)`. This file format is considered legacy. We recommend using instead the native Keras format, e.g. `model.save('my_model.keras')` or `keras.saving.save_model(model, 'my_model.keras')`. \n"
          ]
        },
        {
          "output_type": "stream",
          "name": "stdout",
          "text": [
            "\b\b\b\b\b\b\b\b\b\b\b\b\b\b\b\b\b\b\b\b\b\b\b\b\b\b\b\b\b\b\b\b\b\b\b\b\b\b\b\b\b\b\b\b\b\b\b\b\b\b\b\b\b\b\b\b\b\b\b\b\b\b\b\b\b\b\b\b\b\r\u001b[1m413/413\u001b[0m \u001b[32m━━━━━━━━━━━━━━━━━━━━\u001b[0m\u001b[37m\u001b[0m \u001b[1m2s\u001b[0m 4ms/step - loss: 0.3615 - mae: 0.4256 - val_loss: 0.3891 - val_mae: 0.4474 - learning_rate: 0.0010\n",
            "Epoch 6/20\n",
            "\u001b[1m397/413\u001b[0m \u001b[32m━━━━━━━━━━━━━━━━━━━\u001b[0m\u001b[37m━\u001b[0m \u001b[1m0s\u001b[0m 3ms/step - loss: 0.3527 - mae: 0.4201\n",
            "Epoch 6: val_loss improved from 0.38913 to 0.38127, saving model to best_model.h5\n"
          ]
        },
        {
          "output_type": "stream",
          "name": "stderr",
          "text": [
            "WARNING:absl:You are saving your model as an HDF5 file via `model.save()` or `keras.saving.save_model(model)`. This file format is considered legacy. We recommend using instead the native Keras format, e.g. `model.save('my_model.keras')` or `keras.saving.save_model(model, 'my_model.keras')`. \n"
          ]
        },
        {
          "output_type": "stream",
          "name": "stdout",
          "text": [
            "\b\b\b\b\b\b\b\b\b\b\b\b\b\b\b\b\b\b\b\b\b\b\b\b\b\b\b\b\b\b\b\b\b\b\b\b\b\b\b\b\b\b\b\b\b\b\b\b\b\b\b\b\b\b\b\b\b\b\b\b\b\b\b\b\b\b\b\b\b\r\u001b[1m413/413\u001b[0m \u001b[32m━━━━━━━━━━━━━━━━━━━━\u001b[0m\u001b[37m\u001b[0m \u001b[1m3s\u001b[0m 4ms/step - loss: 0.3526 - mae: 0.4202 - val_loss: 0.3813 - val_mae: 0.4432 - learning_rate: 0.0010\n",
            "Epoch 7/20\n",
            "\u001b[1m396/413\u001b[0m \u001b[32m━━━━━━━━━━━━━━━━━━━\u001b[0m\u001b[37m━\u001b[0m \u001b[1m0s\u001b[0m 3ms/step - loss: 0.3454 - mae: 0.4150\n",
            "Epoch 7: val_loss improved from 0.38127 to 0.37578, saving model to best_model.h5\n"
          ]
        },
        {
          "output_type": "stream",
          "name": "stderr",
          "text": [
            "WARNING:absl:You are saving your model as an HDF5 file via `model.save()` or `keras.saving.save_model(model)`. This file format is considered legacy. We recommend using instead the native Keras format, e.g. `model.save('my_model.keras')` or `keras.saving.save_model(model, 'my_model.keras')`. \n"
          ]
        },
        {
          "output_type": "stream",
          "name": "stdout",
          "text": [
            "\b\b\b\b\b\b\b\b\b\b\b\b\b\b\b\b\b\b\b\b\b\b\b\b\b\b\b\b\b\b\b\b\b\b\b\b\b\b\b\b\b\b\b\b\b\b\b\b\b\b\b\b\b\b\b\b\b\b\b\b\b\b\b\b\b\b\b\b\b\r\u001b[1m413/413\u001b[0m \u001b[32m━━━━━━━━━━━━━━━━━━━━\u001b[0m\u001b[37m\u001b[0m \u001b[1m2s\u001b[0m 4ms/step - loss: 0.3454 - mae: 0.4150 - val_loss: 0.3758 - val_mae: 0.4400 - learning_rate: 0.0010\n",
            "Epoch 8/20\n",
            "\u001b[1m396/413\u001b[0m \u001b[32m━━━━━━━━━━━━━━━━━━━\u001b[0m\u001b[37m━\u001b[0m \u001b[1m0s\u001b[0m 3ms/step - loss: 0.3388 - mae: 0.4105\n",
            "Epoch 8: val_loss improved from 0.37578 to 0.36978, saving model to best_model.h5\n"
          ]
        },
        {
          "output_type": "stream",
          "name": "stderr",
          "text": [
            "WARNING:absl:You are saving your model as an HDF5 file via `model.save()` or `keras.saving.save_model(model)`. This file format is considered legacy. We recommend using instead the native Keras format, e.g. `model.save('my_model.keras')` or `keras.saving.save_model(model, 'my_model.keras')`. \n"
          ]
        },
        {
          "output_type": "stream",
          "name": "stdout",
          "text": [
            "\b\b\b\b\b\b\b\b\b\b\b\b\b\b\b\b\b\b\b\b\b\b\b\b\b\b\b\b\b\b\b\b\b\b\b\b\b\b\b\b\b\b\b\b\b\b\b\b\b\b\b\b\b\b\b\b\b\b\b\b\b\b\b\b\b\b\b\b\b\r\u001b[1m413/413\u001b[0m \u001b[32m━━━━━━━━━━━━━━━━━━━━\u001b[0m\u001b[37m\u001b[0m \u001b[1m3s\u001b[0m 4ms/step - loss: 0.3387 - mae: 0.4105 - val_loss: 0.3698 - val_mae: 0.4369 - learning_rate: 0.0010\n",
            "Epoch 9/20\n",
            "\u001b[1m404/413\u001b[0m \u001b[32m━━━━━━━━━━━━━━━━━━━\u001b[0m\u001b[37m━\u001b[0m \u001b[1m0s\u001b[0m 3ms/step - loss: 0.3327 - mae: 0.4063\n",
            "Epoch 9: val_loss improved from 0.36978 to 0.36493, saving model to best_model.h5\n"
          ]
        },
        {
          "output_type": "stream",
          "name": "stderr",
          "text": [
            "WARNING:absl:You are saving your model as an HDF5 file via `model.save()` or `keras.saving.save_model(model)`. This file format is considered legacy. We recommend using instead the native Keras format, e.g. `model.save('my_model.keras')` or `keras.saving.save_model(model, 'my_model.keras')`. \n"
          ]
        },
        {
          "output_type": "stream",
          "name": "stdout",
          "text": [
            "\b\b\b\b\b\b\b\b\b\b\b\b\b\b\b\b\b\b\b\b\b\b\b\b\b\b\b\b\b\b\b\b\b\b\b\b\b\b\b\b\b\b\b\b\b\b\b\b\b\b\b\b\b\b\b\b\b\b\b\b\b\b\b\b\b\b\b\b\b\r\u001b[1m413/413\u001b[0m \u001b[32m━━━━━━━━━━━━━━━━━━━━\u001b[0m\u001b[37m\u001b[0m \u001b[1m2s\u001b[0m 4ms/step - loss: 0.3327 - mae: 0.4063 - val_loss: 0.3649 - val_mae: 0.4326 - learning_rate: 0.0010\n",
            "Epoch 10/20\n",
            "\u001b[1m399/413\u001b[0m \u001b[32m━━━━━━━━━━━━━━━━━━━\u001b[0m\u001b[37m━\u001b[0m \u001b[1m0s\u001b[0m 4ms/step - loss: 0.3276 - mae: 0.4023\n",
            "Epoch 10: val_loss improved from 0.36493 to 0.36332, saving model to best_model.h5\n"
          ]
        },
        {
          "output_type": "stream",
          "name": "stderr",
          "text": [
            "WARNING:absl:You are saving your model as an HDF5 file via `model.save()` or `keras.saving.save_model(model)`. This file format is considered legacy. We recommend using instead the native Keras format, e.g. `model.save('my_model.keras')` or `keras.saving.save_model(model, 'my_model.keras')`. \n"
          ]
        },
        {
          "output_type": "stream",
          "name": "stdout",
          "text": [
            "\b\b\b\b\b\b\b\b\b\b\b\b\b\b\b\b\b\b\b\b\b\b\b\b\b\b\b\b\b\b\b\b\b\b\b\b\b\b\b\b\b\b\b\b\b\b\b\b\b\b\b\b\b\b\b\b\b\b\b\b\b\b\b\b\b\b\b\b\b\r\u001b[1m413/413\u001b[0m \u001b[32m━━━━━━━━━━━━━━━━━━━━\u001b[0m\u001b[37m\u001b[0m \u001b[1m2s\u001b[0m 4ms/step - loss: 0.3275 - mae: 0.4023 - val_loss: 0.3633 - val_mae: 0.4305 - learning_rate: 0.0010\n",
            "Epoch 11/20\n",
            "\u001b[1m396/413\u001b[0m \u001b[32m━━━━━━━━━━━━━━━━━━━\u001b[0m\u001b[37m━\u001b[0m \u001b[1m0s\u001b[0m 3ms/step - loss: 0.3241 - mae: 0.3995\n",
            "Epoch 11: val_loss improved from 0.36332 to 0.35608, saving model to best_model.h5\n"
          ]
        },
        {
          "output_type": "stream",
          "name": "stderr",
          "text": [
            "WARNING:absl:You are saving your model as an HDF5 file via `model.save()` or `keras.saving.save_model(model)`. This file format is considered legacy. We recommend using instead the native Keras format, e.g. `model.save('my_model.keras')` or `keras.saving.save_model(model, 'my_model.keras')`. \n"
          ]
        },
        {
          "output_type": "stream",
          "name": "stdout",
          "text": [
            "\b\b\b\b\b\b\b\b\b\b\b\b\b\b\b\b\b\b\b\b\b\b\b\b\b\b\b\b\b\b\b\b\b\b\b\b\b\b\b\b\b\b\b\b\b\b\b\b\b\b\b\b\b\b\b\b\b\b\b\b\b\b\b\b\b\b\b\b\b\r\u001b[1m413/413\u001b[0m \u001b[32m━━━━━━━━━━━━━━━━━━━━\u001b[0m\u001b[37m\u001b[0m \u001b[1m2s\u001b[0m 4ms/step - loss: 0.3240 - mae: 0.3995 - val_loss: 0.3561 - val_mae: 0.4275 - learning_rate: 0.0010\n",
            "Epoch 12/20\n",
            "\u001b[1m401/413\u001b[0m \u001b[32m━━━━━━━━━━━━━━━━━━━\u001b[0m\u001b[37m━\u001b[0m \u001b[1m0s\u001b[0m 3ms/step - loss: 0.3196 - mae: 0.3967\n",
            "Epoch 12: val_loss improved from 0.35608 to 0.35056, saving model to best_model.h5\n"
          ]
        },
        {
          "output_type": "stream",
          "name": "stderr",
          "text": [
            "WARNING:absl:You are saving your model as an HDF5 file via `model.save()` or `keras.saving.save_model(model)`. This file format is considered legacy. We recommend using instead the native Keras format, e.g. `model.save('my_model.keras')` or `keras.saving.save_model(model, 'my_model.keras')`. \n"
          ]
        },
        {
          "output_type": "stream",
          "name": "stdout",
          "text": [
            "\b\b\b\b\b\b\b\b\b\b\b\b\b\b\b\b\b\b\b\b\b\b\b\b\b\b\b\b\b\b\b\b\b\b\b\b\b\b\b\b\b\b\b\b\b\b\b\b\b\b\b\b\b\b\b\b\b\b\b\b\b\b\b\b\b\b\b\b\b\r\u001b[1m413/413\u001b[0m \u001b[32m━━━━━━━━━━━━━━━━━━━━\u001b[0m\u001b[37m\u001b[0m \u001b[1m3s\u001b[0m 4ms/step - loss: 0.3195 - mae: 0.3967 - val_loss: 0.3506 - val_mae: 0.4220 - learning_rate: 0.0010\n",
            "Epoch 13/20\n",
            "\u001b[1m401/413\u001b[0m \u001b[32m━━━━━━━━━━━━━━━━━━━\u001b[0m\u001b[37m━\u001b[0m \u001b[1m0s\u001b[0m 3ms/step - loss: 0.3156 - mae: 0.3933\n",
            "Epoch 13: val_loss improved from 0.35056 to 0.34723, saving model to best_model.h5\n"
          ]
        },
        {
          "output_type": "stream",
          "name": "stderr",
          "text": [
            "WARNING:absl:You are saving your model as an HDF5 file via `model.save()` or `keras.saving.save_model(model)`. This file format is considered legacy. We recommend using instead the native Keras format, e.g. `model.save('my_model.keras')` or `keras.saving.save_model(model, 'my_model.keras')`. \n"
          ]
        },
        {
          "output_type": "stream",
          "name": "stdout",
          "text": [
            "\b\b\b\b\b\b\b\b\b\b\b\b\b\b\b\b\b\b\b\b\b\b\b\b\b\b\b\b\b\b\b\b\b\b\b\b\b\b\b\b\b\b\b\b\b\b\b\b\b\b\b\b\b\b\b\b\b\b\b\b\b\b\b\b\b\b\b\b\b\r\u001b[1m413/413\u001b[0m \u001b[32m━━━━━━━━━━━━━━━━━━━━\u001b[0m\u001b[37m\u001b[0m \u001b[1m2s\u001b[0m 4ms/step - loss: 0.3156 - mae: 0.3933 - val_loss: 0.3472 - val_mae: 0.4210 - learning_rate: 0.0010\n",
            "Epoch 14/20\n",
            "\u001b[1m409/413\u001b[0m \u001b[32m━━━━━━━━━━━━━━━━━━━\u001b[0m\u001b[37m━\u001b[0m \u001b[1m0s\u001b[0m 3ms/step - loss: 0.3128 - mae: 0.3909\n",
            "Epoch 14: val_loss improved from 0.34723 to 0.34444, saving model to best_model.h5\n"
          ]
        },
        {
          "output_type": "stream",
          "name": "stderr",
          "text": [
            "WARNING:absl:You are saving your model as an HDF5 file via `model.save()` or `keras.saving.save_model(model)`. This file format is considered legacy. We recommend using instead the native Keras format, e.g. `model.save('my_model.keras')` or `keras.saving.save_model(model, 'my_model.keras')`. \n"
          ]
        },
        {
          "output_type": "stream",
          "name": "stdout",
          "text": [
            "\b\b\b\b\b\b\b\b\b\b\b\b\b\b\b\b\b\b\b\b\b\b\b\b\b\b\b\b\b\b\b\b\b\b\b\b\b\b\b\b\b\b\b\b\b\b\b\b\b\b\b\b\b\b\b\b\b\b\b\b\b\b\b\b\b\b\b\b\b\r\u001b[1m413/413\u001b[0m \u001b[32m━━━━━━━━━━━━━━━━━━━━\u001b[0m\u001b[37m\u001b[0m \u001b[1m2s\u001b[0m 4ms/step - loss: 0.3128 - mae: 0.3909 - val_loss: 0.3444 - val_mae: 0.4184 - learning_rate: 0.0010\n",
            "Epoch 15/20\n",
            "\u001b[1m401/413\u001b[0m \u001b[32m━━━━━━━━━━━━━━━━━━━\u001b[0m\u001b[37m━\u001b[0m \u001b[1m0s\u001b[0m 3ms/step - loss: 0.3093 - mae: 0.3882\n",
            "Epoch 15: val_loss improved from 0.34444 to 0.34013, saving model to best_model.h5\n"
          ]
        },
        {
          "output_type": "stream",
          "name": "stderr",
          "text": [
            "WARNING:absl:You are saving your model as an HDF5 file via `model.save()` or `keras.saving.save_model(model)`. This file format is considered legacy. We recommend using instead the native Keras format, e.g. `model.save('my_model.keras')` or `keras.saving.save_model(model, 'my_model.keras')`. \n"
          ]
        },
        {
          "output_type": "stream",
          "name": "stdout",
          "text": [
            "\b\b\b\b\b\b\b\b\b\b\b\b\b\b\b\b\b\b\b\b\b\b\b\b\b\b\b\b\b\b\b\b\b\b\b\b\b\b\b\b\b\b\b\b\b\b\b\b\b\b\b\b\b\b\b\b\b\b\b\b\b\b\b\b\b\b\b\b\b\r\u001b[1m413/413\u001b[0m \u001b[32m━━━━━━━━━━━━━━━━━━━━\u001b[0m\u001b[37m\u001b[0m \u001b[1m2s\u001b[0m 4ms/step - loss: 0.3092 - mae: 0.3882 - val_loss: 0.3401 - val_mae: 0.4162 - learning_rate: 0.0010\n",
            "Epoch 16/20\n",
            "\u001b[1m403/413\u001b[0m \u001b[32m━━━━━━━━━━━━━━━━━━━\u001b[0m\u001b[37m━\u001b[0m \u001b[1m0s\u001b[0m 3ms/step - loss: 0.3070 - mae: 0.3862\n",
            "Epoch 16: val_loss improved from 0.34013 to 0.33654, saving model to best_model.h5\n"
          ]
        },
        {
          "output_type": "stream",
          "name": "stderr",
          "text": [
            "WARNING:absl:You are saving your model as an HDF5 file via `model.save()` or `keras.saving.save_model(model)`. This file format is considered legacy. We recommend using instead the native Keras format, e.g. `model.save('my_model.keras')` or `keras.saving.save_model(model, 'my_model.keras')`. \n"
          ]
        },
        {
          "output_type": "stream",
          "name": "stdout",
          "text": [
            "\b\b\b\b\b\b\b\b\b\b\b\b\b\b\b\b\b\b\b\b\b\b\b\b\b\b\b\b\b\b\b\b\b\b\b\b\b\b\b\b\b\b\b\b\b\b\b\b\b\b\b\b\b\b\b\b\b\b\b\b\b\b\b\b\b\b\b\b\b\r\u001b[1m413/413\u001b[0m \u001b[32m━━━━━━━━━━━━━━━━━━━━\u001b[0m\u001b[37m\u001b[0m \u001b[1m2s\u001b[0m 4ms/step - loss: 0.3069 - mae: 0.3861 - val_loss: 0.3365 - val_mae: 0.4136 - learning_rate: 0.0010\n",
            "Epoch 17/20\n",
            "\u001b[1m410/413\u001b[0m \u001b[32m━━━━━━━━━━━━━━━━━━━\u001b[0m\u001b[37m━\u001b[0m \u001b[1m0s\u001b[0m 3ms/step - loss: 0.3024 - mae: 0.3833\n",
            "Epoch 17: val_loss improved from 0.33654 to 0.33085, saving model to best_model.h5\n"
          ]
        },
        {
          "output_type": "stream",
          "name": "stderr",
          "text": [
            "WARNING:absl:You are saving your model as an HDF5 file via `model.save()` or `keras.saving.save_model(model)`. This file format is considered legacy. We recommend using instead the native Keras format, e.g. `model.save('my_model.keras')` or `keras.saving.save_model(model, 'my_model.keras')`. \n"
          ]
        },
        {
          "output_type": "stream",
          "name": "stdout",
          "text": [
            "\b\b\b\b\b\b\b\b\b\b\b\b\b\b\b\b\b\b\b\b\b\b\b\b\b\b\b\b\b\b\b\b\b\b\b\b\b\b\b\b\b\b\b\b\b\b\b\b\b\b\b\b\b\b\b\b\b\b\b\b\b\b\b\b\b\b\b\b\b\r\u001b[1m413/413\u001b[0m \u001b[32m━━━━━━━━━━━━━━━━━━━━\u001b[0m\u001b[37m\u001b[0m \u001b[1m2s\u001b[0m 4ms/step - loss: 0.3023 - mae: 0.3833 - val_loss: 0.3309 - val_mae: 0.4058 - learning_rate: 0.0010\n",
            "Epoch 18/20\n",
            "\u001b[1m411/413\u001b[0m \u001b[32m━━━━━━━━━━━━━━━━━━━\u001b[0m\u001b[37m━\u001b[0m \u001b[1m0s\u001b[0m 3ms/step - loss: 0.2996 - mae: 0.3810\n",
            "Epoch 18: val_loss improved from 0.33085 to 0.32852, saving model to best_model.h5\n"
          ]
        },
        {
          "output_type": "stream",
          "name": "stderr",
          "text": [
            "WARNING:absl:You are saving your model as an HDF5 file via `model.save()` or `keras.saving.save_model(model)`. This file format is considered legacy. We recommend using instead the native Keras format, e.g. `model.save('my_model.keras')` or `keras.saving.save_model(model, 'my_model.keras')`. \n"
          ]
        },
        {
          "output_type": "stream",
          "name": "stdout",
          "text": [
            "\b\b\b\b\b\b\b\b\b\b\b\b\b\b\b\b\b\b\b\b\b\b\b\b\b\b\b\b\b\b\b\b\b\b\b\b\b\b\b\b\b\b\b\b\b\b\b\b\b\b\b\b\b\b\b\b\b\b\b\b\b\b\b\b\b\b\b\b\b\r\u001b[1m413/413\u001b[0m \u001b[32m━━━━━━━━━━━━━━━━━━━━\u001b[0m\u001b[37m\u001b[0m \u001b[1m2s\u001b[0m 4ms/step - loss: 0.2996 - mae: 0.3810 - val_loss: 0.3285 - val_mae: 0.4009 - learning_rate: 0.0010\n",
            "Epoch 19/20\n",
            "\u001b[1m397/413\u001b[0m \u001b[32m━━━━━━━━━━━━━━━━━━━\u001b[0m\u001b[37m━\u001b[0m \u001b[1m0s\u001b[0m 3ms/step - loss: 0.2986 - mae: 0.3798\n",
            "Epoch 19: val_loss did not improve from 0.32852\n",
            "\u001b[1m413/413\u001b[0m \u001b[32m━━━━━━━━━━━━━━━━━━━━\u001b[0m\u001b[37m\u001b[0m \u001b[1m2s\u001b[0m 4ms/step - loss: 0.2984 - mae: 0.3797 - val_loss: 0.3693 - val_mae: 0.4019 - learning_rate: 0.0010\n",
            "Epoch 20/20\n",
            "\u001b[1m397/413\u001b[0m \u001b[32m━━━━━━━━━━━━━━━━━━━\u001b[0m\u001b[37m━\u001b[0m \u001b[1m0s\u001b[0m 3ms/step - loss: 0.2968 - mae: 0.3786\n",
            "Epoch 20: val_loss did not improve from 0.32852\n",
            "\u001b[1m413/413\u001b[0m \u001b[32m━━━━━━━━━━━━━━━━━━━━\u001b[0m\u001b[37m\u001b[0m \u001b[1m3s\u001b[0m 4ms/step - loss: 0.2966 - mae: 0.3785 - val_loss: 0.3325 - val_mae: 0.4017 - learning_rate: 0.0010\n",
            "Restoring model weights from the end of the best epoch: 18.\n",
            "\n",
            "==================================================\n",
            "CUSTOM TRAINING LOOP\n",
            "==================================================\n",
            "Starting custom training loop...\n",
            "\n",
            "Epoch 1/10\n",
            "Loss: 1.0518 - Val Loss: 0.5902\n",
            "\n",
            "Epoch 2/10\n",
            "Loss: 0.4666 - Val Loss: 0.4354\n",
            "\n",
            "Epoch 3/10\n",
            "Loss: 0.3906 - Val Loss: 0.4057\n",
            "\n",
            "Epoch 4/10\n",
            "Loss: 0.3728 - Val Loss: 0.4137\n",
            "\n",
            "Epoch 5/10\n",
            "Loss: 0.3596 - Val Loss: 0.3794\n",
            "\n",
            "Epoch 6/10\n",
            "Loss: 0.3507 - Val Loss: 0.3706\n",
            "\n",
            "Epoch 7/10\n",
            "Loss: 0.3434 - Val Loss: 0.3801\n",
            "\n",
            "Epoch 8/10\n",
            "Loss: 0.3378 - Val Loss: 0.3676\n",
            "\n",
            "Epoch 9/10\n",
            "Loss: 0.3304 - Val Loss: 0.3634\n",
            "\n",
            "Epoch 10/10\n",
            "Loss: 0.3253 - Val Loss: 0.3653\n",
            "\n",
            "==================================================\n",
            "DISTRIBUTED TRAINING SIMULATION\n",
            "==================================================\n",
            "Simulating distributed training...\n",
            "Number of devices: 1\n",
            "Distributed model created successfully!\n",
            "\n",
            "==================================================\n",
            "MODEL EVALUATION\n",
            "==================================================\n",
            "Test Loss: 0.3187\n",
            "Test MAE: 0.3930\n",
            "\n",
            "==================================================\n",
            "SAVING MODEL FOR SERVING\n",
            "==================================================\n"
          ]
        },
        {
          "output_type": "stream",
          "name": "stderr",
          "text": [
            "WARNING:absl:You are saving your model as an HDF5 file via `model.save()` or `keras.saving.save_model(model)`. This file format is considered legacy. We recommend using instead the native Keras format, e.g. `model.save('my_model.keras')` or `keras.saving.save_model(model, 'my_model.keras')`. \n"
          ]
        },
        {
          "output_type": "stream",
          "name": "stdout",
          "text": [
            "Model saved to ./saved_models/housing_predictor\n",
            "Model saved to ./saved_models/housing_predictor.h5\n",
            "\n",
            "==================================================\n",
            "LOADING AND SERVING MODEL\n",
            "==================================================\n",
            "Loading model from ./saved_models/housing_predictor\n",
            "Model serving simulation failed: '_UserObject' object is not callable\n",
            "\n",
            "==================================================\n",
            "PERFORMANCE BENCHMARKING\n",
            "==================================================\n",
            "Benchmarking model performance...\n",
            "Average inference time: 3.61 ms\n",
            "Throughput: 1142043 samples/second\n",
            "\n",
            "==================================================\n",
            "PLOTTING TRAINING RESULTS\n",
            "==================================================\n"
          ]
        },
        {
          "output_type": "display_data",
          "data": {
            "text/plain": [
              "<Figure size 1200x400 with 2 Axes>"
            ],
            "image/png": "[encoded data removed]"
          },
          "metadata": {}
        },
        {
          "output_type": "stream",
          "name": "stdout",
          "text": [
            "\n",
            "============================================================\n",
            "DEMO COMPLETED SUCCESSFULLY!\n",
            "============================================================\n",
            "\n",
            "Kode siap dijalankan! Gunakan main() untuk memulai demonstrasi.\n",
            "Pastikan Anda memiliki TensorFlow, scikit-learn, dan matplotlib terinstall.\n"
          ]
        }
      ]
    }
  ],
  "metadata": {
    "kernelspec": {
      "display_name": "Python 3",
      "name": "python3"
    },
    "language_info": {
      "codemirror_mode": {
        "name": "ipython",
        "version": 3
      },
      "file_extension": ".py",
      "mimetype": "text/x-python",
      "name": "python",
      "nbconvert_exporter": "python",
      "pygments_lexer": "ipython3",
      "version": "3.13.3"
    },
    "colab": {
      "provenance": [],
      "gpuType": "T4"
    },
    "accelerator": "GPU"
  },
  "nbformat": 4,
  "nbformat_minor": 5
}