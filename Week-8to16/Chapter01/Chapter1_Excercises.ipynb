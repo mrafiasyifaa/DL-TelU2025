{
  "nbformat": 4,
  "nbformat_minor": 0,
  "metadata": {
    "colab": {
      "provenance": []
    },
    "kernelspec": {
      "name": "python3",
      "display_name": "Python 3"
    },
    "language_info": {
      "name": "python"
    }
  },
  "cells": [
    {
      "cell_type": "markdown",
      "source": [
        "# **1. How would you define Machine Learning?**"
      ],
      "metadata": {
        "id": "IlXqIbmrtovr"
      }
    },
    {
      "cell_type": "markdown",
      "source": [
        "Machine Learning adalah bidang ilmu komputer yang memberikan kemampuan kepada komputer untuk belajar dari data dan melakukan prediksi atau pengambilan keputusan tanpa diprogram secara eksplisit untuk setiap tugasnya."
      ],
      "metadata": {
        "id": "Yv9hiyVQttlE"
      }
    },
    {
      "cell_type": "markdown",
      "source": [
        "# **2. Can you name four types of problems where it shines?**"
      ],
      "metadata": {
        "id": "Nm0Kv9bTtyQl"
      }
    },
    {
      "cell_type": "markdown",
      "source": [
        "Empat tipe masalah di mana ML sangat efektif adalah:\n",
        "\n",
        "- Klasifikasi (misal: deteksi spam)\n",
        "\n",
        "- Regresi (misal: prediksi harga rumah)\n",
        "\n",
        "- Segmentasi atau clustering (misal: segmentasi pelanggan)\n",
        "\n",
        "- Pemrosesan urutan (misal: prediksi teks atau suara)"
      ],
      "metadata": {
        "id": "Y8V6qYvEtzT1"
      }
    },
    {
      "cell_type": "markdown",
      "source": [
        "# **3. What is a labeled training set?**"
      ],
      "metadata": {
        "id": "eujUWDePt0tN"
      }
    },
    {
      "cell_type": "markdown",
      "source": [
        "Labeled training set adalah data pelatihan yang setiap contoh inputnya memiliki label atau target output yang benar, digunakan untuk membimbing algoritma supervised learning dalam mempelajari hubungan input-output."
      ],
      "metadata": {
        "id": "zmbet4HSt2Q4"
      }
    },
    {
      "cell_type": "markdown",
      "source": [
        "# **4. What are the two most common supervised tasks?**"
      ],
      "metadata": {
        "id": "2e8sPFc2t3oC"
      }
    },
    {
      "cell_type": "markdown",
      "source": [
        "Dua tugas utama supervised learning adalah:\n",
        "\n",
        "- Klasifikasi (classification) — memprediksi kategori atau kelas\n",
        "\n",
        "- Regresi (regression) — memprediksi nilai numerik kontinu"
      ],
      "metadata": {
        "id": "KRTu6Gfjt5TJ"
      }
    },
    {
      "cell_type": "markdown",
      "source": [
        "# **5. Can you name four common unsupervised tasks?**"
      ],
      "metadata": {
        "id": "tSbVM3hEt6ah"
      }
    },
    {
      "cell_type": "markdown",
      "source": [
        "Empat tugas umum dalam unsupervised learning adalah:\n",
        "\n",
        "- Clustering (mengelompokkan data)\n",
        "\n",
        "- Dimensionality Reduction (mengurangi dimensi data, misal PCA)\n",
        "\n",
        "- Anomaly Detection (mendeteksi data yang tidak biasa)\n",
        "\n",
        "- Density Estimation (menaksir distribusi data)"
      ],
      "metadata": {
        "id": "ki0-vhWat-NF"
      }
    },
    {
      "cell_type": "markdown",
      "source": [
        "# **6. What type of Machine Learning algorithm would you use to allow a robot to walk in various unknown terrains?**"
      ],
      "metadata": {
        "id": "v-LccZS3uCgD"
      }
    },
    {
      "cell_type": "markdown",
      "source": [
        "Untuk robot berjalan di medan yang tidak dikenal digunakan Reinforcement Learning, di mana agen belajar memilih aksi untuk memaksimalkan reward dalam lingkungan yang berubah-ubah."
      ],
      "metadata": {
        "id": "SvUzj2YiuEAx"
      }
    },
    {
      "cell_type": "markdown",
      "source": [
        "# **7. What type of algorithm would you use to segment your customers into multiple groups?**"
      ],
      "metadata": {
        "id": "TYDWTpIduFfJ"
      }
    },
    {
      "cell_type": "markdown",
      "source": [
        "Untuk segmentasi pelanggan biasanya digunakan algoritma clustering dalam unsupervised learning, misalnya K-Means clustering."
      ],
      "metadata": {
        "id": "QHLGJGhquHFE"
      }
    },
    {
      "cell_type": "markdown",
      "source": [
        "# **8. Would you frame the problem of spam detection as a supervised learning problem or an unsupervised learning problem?**"
      ],
      "metadata": {
        "id": "AV-rkeNjuII6"
      }
    },
    {
      "cell_type": "markdown",
      "source": [
        "Spam detection biasanya diframing sebagai supervised learning problem, karena kita memiliki email yang diberi label (spam atau bukan spam) yang dipakai untuk melatih model"
      ],
      "metadata": {
        "id": "2Gp8AewCuJ-H"
      }
    },
    {
      "cell_type": "markdown",
      "source": [
        "# **9. What is an online learning system?**"
      ],
      "metadata": {
        "id": "fEtBQGGVuLc5"
      }
    },
    {
      "cell_type": "markdown",
      "source": [
        "Online learning system adalah sistem ML yang belajar secara bertahap dan terus-menerus, memproses data contoh per contoh (atau batch kecil) secara real-time tanpa perlu memuat seluruh data sekaligus."
      ],
      "metadata": {
        "id": "l5n1cCicuNdf"
      }
    },
    {
      "cell_type": "markdown",
      "source": [
        "# **10. What is out-of-core learning?**"
      ],
      "metadata": {
        "id": "ZVwK0za4uN1t"
      }
    },
    {
      "cell_type": "markdown",
      "source": [
        "Out-of-core learning adalah metode pembelajaran ML yang mampu melatih model pada dataset yang terlalu besar untuk dimuat sekaligus ke dalam memori komputer, dengan cara memproses data secara bertahap."
      ],
      "metadata": {
        "id": "9i1LcREiuPDm"
      }
    },
    {
      "cell_type": "markdown",
      "source": [
        "# **11. What type of learning algorithm relies on a similarity measure to make predictions?**"
      ],
      "metadata": {
        "id": "9a5Gx0XFuQFx"
      }
    },
    {
      "cell_type": "markdown",
      "source": [
        "Algoritma yang andalkan ukuran kemiripan adalah instance-based learning, contohnya k-Nearest Neighbors (k-NN), yang memprediksi berdasarkan data pelatihan yang paling mirip."
      ],
      "metadata": {
        "id": "IU2EEwqvuR5V"
      }
    },
    {
      "cell_type": "markdown",
      "source": [
        "# **12. What is the difference between a model parameter and a learning algorithm’s hyperparameter?**"
      ],
      "metadata": {
        "id": "YnM5EznWuTK1"
      }
    },
    {
      "cell_type": "markdown",
      "source": [
        "- Parameter model: variabel internal model yang didapat selama training (mis. bobot dalam linear regression)\n",
        "\n",
        "- Hyperparameter: parameter yang diatur sebelum training dan mengontrol proses pembelajaran (mis. learning rate, jumlah epoch)"
      ],
      "metadata": {
        "id": "Jomd_O2vuUjs"
      }
    },
    {
      "cell_type": "markdown",
      "source": [
        "# **13. What do model-based learning algorithms search for? What is the most common strategy they use to succeed? How do they make predictions?**"
      ],
      "metadata": {
        "id": "iJ6ObbUOuWKx"
      }
    },
    {
      "cell_type": "markdown",
      "source": [
        "Model-based learning algorithms mencari fungsi (model) yang memetakan input ke output terbaik untuk data pelatihan. Strategi umum adalah meminimalkan fungsi cost/loss (misal error) menggunakan optimisasi. Prediksi dibuat dengan menerapkan model tersebut ke data baru."
      ],
      "metadata": {
        "id": "C9IoPBf1uYWO"
      }
    },
    {
      "cell_type": "markdown",
      "source": [
        "# **14. Can you name four of the main challenges in Machine Learning?**"
      ],
      "metadata": {
        "id": "Fn9ZlrFduZNG"
      }
    },
    {
      "cell_type": "markdown",
      "source": [
        "Empat tantangan utama ML adalah:\n",
        "\n",
        "- Insufficient quantity of training data\n",
        "\n",
        "- Poor quality of training data\n",
        "\n",
        "- Overfitting the training data\n",
        "\n",
        "- Underfitting the training data / model terlalu sederhana"
      ],
      "metadata": {
        "id": "osdwNot_uacz"
      }
    },
    {
      "cell_type": "markdown",
      "source": [
        "# **15. If your model performs great on the training data but generalizes poorly to new instances, what is happening? Can you name three possible solutions?**"
      ],
      "metadata": {
        "id": "Q5fg_CBHubl4"
      }
    },
    {
      "cell_type": "markdown",
      "source": [
        "Ini disebut overfitting, dimana model terlalu spesifik untuk data pelatihan. Solusi:\n",
        "\n",
        "- Gunakan lebih banyak data pelatihan\n",
        "\n",
        "- Regularisasi model (misalnya L1/L2 regularization)\n",
        "\n",
        "- Gunakan model yang lebih sederhana atau lakukan pruning"
      ],
      "metadata": {
        "id": "U8q-R2ISucqU"
      }
    },
    {
      "cell_type": "markdown",
      "source": [
        "# **16. What is a test set, and why would you want to use it?**"
      ],
      "metadata": {
        "id": "BA2i3rN7udtK"
      }
    },
    {
      "cell_type": "markdown",
      "source": [
        "Test set adalah sekumpulan data yang dipisahkan dan tidak pernah digunakan selama training atau validasi, digunakan untuk mengevaluasi performa akhir model pada data baru guna mengukur kemampuan generalisasi."
      ],
      "metadata": {
        "id": "VPRxWeM7uggX"
      }
    },
    {
      "cell_type": "markdown",
      "source": [
        "# **17. What is the purpose of a validation set?**"
      ],
      "metadata": {
        "id": "Iw0x0mknuhv0"
      }
    },
    {
      "cell_type": "markdown",
      "source": [
        "Validation set digunakan untuk menguji dan menyesuaikan hyperparameter pada model selama proses pelatihan agar mendapat model terbaik sebelum akhirnya diuji ke test set."
      ],
      "metadata": {
        "id": "VrRB-Vk-uky7"
      }
    },
    {
      "cell_type": "markdown",
      "source": [
        "# **18. What is the train-dev set, when do you need it, and how do you use it?**\n"
      ],
      "metadata": {
        "id": "vhPh5yzeumKb"
      }
    },
    {
      "cell_type": "markdown",
      "source": [
        "Train-dev set adalah subset dari data yang diambil dari training set untuk mengevaluasi model selama training, terutama saat tidak ada akses ke test set atau ketika test set terlalu kecil. Digunakan untuk mengukur overfitting dan tuning model tanpa menyentuh test set."
      ],
      "metadata": {
        "id": "jYxVO0wYupge"
      }
    },
    {
      "cell_type": "markdown",
      "source": [
        "# **19. What can go wrong if you tune hyperparameters using the test set?**"
      ],
      "metadata": {
        "id": "QX5XpaiAuqI5"
      }
    },
    {
      "cell_type": "markdown",
      "source": [
        "Jika hyperparameter di-tune menggunakan test set, maka test set menjadi \"terpapar\" pada proses training sehingga evaluasi pada test set menjadi bias optimistik dan tidak mencerminkan performa model nyata pada data yang benar-benar baru."
      ],
      "metadata": {
        "id": "ypIRwWxeurZE"
      }
    }
  ]
}