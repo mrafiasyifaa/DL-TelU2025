{
  "nbformat": 4,
  "nbformat_minor": 0,
  "metadata": {
    "colab": {
      "provenance": []
    },
    "kernelspec": {
      "name": "python3",
      "display_name": "Python 3"
    },
    "language_info": {
      "name": "python"
    }
  },
  "cells": [
    {
      "cell_type": "markdown",
      "source": [
        "# **Regression Infrared Dataset**"
      ],
      "metadata": {
        "id": "iTPYlrsa6tZt"
      }
    },
    {
      "cell_type": "markdown",
      "source": [
        "## PyTorch"
      ],
      "metadata": {
        "id": "K4-5cLcb7YaC"
      }
    },
    {
      "cell_type": "markdown",
      "source": [
        "### Instalasi"
      ],
      "metadata": {
        "id": "zy6ToVYy61J4"
      }
    },
    {
      "cell_type": "code",
      "execution_count": null,
      "metadata": {
        "id": "3elpKhfy6jp6"
      },
      "outputs": [],
      "source": [
        "!pip install torch"
      ]
    },
    {
      "cell_type": "markdown",
      "source": [
        "### Import Library"
      ],
      "metadata": {
        "id": "TMdyTP7X66Jv"
      }
    },
    {
      "cell_type": "code",
      "source": [
        "import pandas as pd\n",
        "import numpy as np\n",
        "\n",
        "import torch\n",
        "import torch.nn as nn\n",
        "import torch.optim as optim\n",
        "\n",
        "from sklearn.experimental import enable_iterative_imputer\n",
        "from sklearn.impute import IterativeImputer\n",
        "from sklearn.preprocessing import StandardScaler\n",
        "from sklearn.model_selection import train_test_split\n",
        "from sklearn.metrics import mean_squared_error, r2_score"
      ],
      "metadata": {
        "id": "gM-d17gl6-PV"
      },
      "execution_count": null,
      "outputs": []
    },
    {
      "cell_type": "markdown",
      "source": [
        "### Dataset"
      ],
      "metadata": {
        "id": "Op6BUzb46-cq"
      }
    },
    {
      "cell_type": "code",
      "source": [
        "!wget -O Infrared.csv \"https://raw.githubusercontent.com/farrelrassya/teachingMLDL/main/02.%20Deep%20Learning/Dataset/Infrared.csv\"\n",
        "df = pd.read_csv('Infrared.csv')\n",
        "\n",
        "# df.drop([\"Gender\"], axis=1, inplace=True)\n",
        "# df.drop([\"Age\"], axis=1, inplace=True)\n",
        "# df.drop([\"Ethnicity\"], axis=1, inplace=True)\n",
        "\n",
        "cat_cols = ['Gender','Age','Ethnicity']\n",
        "cat_cols = [col for col in cat_cols if col in df.columns]\n",
        "df = pd.get_dummies(df, columns=cat_cols, drop_first=True)\n",
        "\n",
        "df.head(5)\n",
        "# df.tail(5)"
      ],
      "metadata": {
        "colab": {
          "base_uri": "https://localhost:8080/",
          "height": 481
        },
        "id": "_ZG42OVG7APy",
        "outputId": "df8711f0-ebed-425d-87f1-d2704f1f1af1"
      },
      "execution_count": null,
      "outputs": [
        {
          "output_type": "stream",
          "name": "stdout",
          "text": [
            "--2025-03-12 20:07:21--  https://raw.githubusercontent.com/farrelrassya/teachingMLDL/main/02.%20Deep%20Learning/Dataset/Infrared.csv\n",
            "Resolving raw.githubusercontent.com (raw.githubusercontent.com)... 185.199.109.133, 185.199.111.133, 185.199.108.133, ...\n",
            "Connecting to raw.githubusercontent.com (raw.githubusercontent.com)|185.199.109.133|:443... connected.\n",
            "HTTP request sent, awaiting response... 200 OK\n",
            "Length: 244181 (238K) [text/plain]\n",
            "Saving to: ‘Infrared.csv’\n",
            "\n",
            "\rInfrared.csv          0%[                    ]       0  --.-KB/s               \rInfrared.csv        100%[===================>] 238.46K  --.-KB/s    in 0.003s  \n",
            "\n",
            "2025-03-12 20:07:21 (72.1 MB/s) - ‘Infrared.csv’ saved [244181/244181]\n",
            "\n"
          ]
        },
        {
          "output_type": "execute_result",
          "data": {
            "text/plain": [
              "   T_atm  Humidity  Distance  T_offset1  Max1R13_1  Max1L13_1  aveAllR13_1  \\\n",
              "0   24.0      28.0       0.8     0.7025    35.0300    35.3775      34.4000   \n",
              "1   24.0      26.0       0.8     0.7800    34.5500    34.5200      33.9300   \n",
              "2   24.0      26.0       0.8     0.8625    35.6525    35.5175      34.2775   \n",
              "3   24.0      27.0       0.8     0.9300    35.2225    35.6125      34.3850   \n",
              "4   24.0      27.0       0.8     0.8950    35.5450    35.6650      34.9100   \n",
              "\n",
              "   aveAllL13_1    T_RC1  T_RC_Dry1  ...  Age_26-30  Age_31-40  Age_41-50  \\\n",
              "0      34.9175  34.9850    34.9850  ...      False      False       True   \n",
              "1      34.2250  34.7100    34.6325  ...      False       True      False   \n",
              "2      34.8000  35.6850    35.6675  ...      False      False      False   \n",
              "3      35.2475  35.2075    35.2000  ...      False      False      False   \n",
              "4      35.3675  35.6025    35.4750  ...      False      False      False   \n",
              "\n",
              "   Age_51-60  Age_>60  Ethnicity_Asian  Ethnicity_Black or African-American  \\\n",
              "0      False    False            False                                False   \n",
              "1      False    False            False                                 True   \n",
              "2      False    False            False                                False   \n",
              "3      False    False            False                                 True   \n",
              "4      False    False            False                                False   \n",
              "\n",
              "   Ethnicity_Hispanic/Latino  Ethnicity_Multiracial  Ethnicity_White  \n",
              "0                      False                  False             True  \n",
              "1                      False                  False            False  \n",
              "2                      False                  False             True  \n",
              "3                      False                  False            False  \n",
              "4                      False                  False             True  \n",
              "\n",
              "[5 rows x 44 columns]"
            ],
            "text/html": [
              "\n",
              "  <div id=\"df-a0a9b483-8fdb-4817-b42a-fe0f11860d58\" class=\"colab-df-container\">\n",
              "    <div>\n",
              "<style scoped>\n",
              "    .dataframe tbody tr th:only-of-type {\n",
              "        vertical-align: middle;\n",
              "    }\n",
              "\n",
              "    .dataframe tbody tr th {\n",
              "        vertical-align: top;\n",
              "    }\n",
              "\n",
              "    .dataframe thead th {\n",
              "        text-align: right;\n",
              "    }\n",
              "</style>\n",
              "<table border=\"1\" class=\"dataframe\">\n",
              "  <thead>\n",
              "    <tr style=\"text-align: right;\">\n",
              "      <th></th>\n",
              "      <th>T_atm</th>\n",
              "      <th>Humidity</th>\n",
              "      <th>Distance</th>\n",
              "      <th>T_offset1</th>\n",
              "      <th>Max1R13_1</th>\n",
              "      <th>Max1L13_1</th>\n",
              "      <th>aveAllR13_1</th>\n",
              "      <th>aveAllL13_1</th>\n",
              "      <th>T_RC1</th>\n",
              "      <th>T_RC_Dry1</th>\n",
              "      <th>...</th>\n",
              "      <th>Age_26-30</th>\n",
              "      <th>Age_31-40</th>\n",
              "      <th>Age_41-50</th>\n",
              "      <th>Age_51-60</th>\n",
              "      <th>Age_&gt;60</th>\n",
              "      <th>Ethnicity_Asian</th>\n",
              "      <th>Ethnicity_Black or African-American</th>\n",
              "      <th>Ethnicity_Hispanic/Latino</th>\n",
              "      <th>Ethnicity_Multiracial</th>\n",
              "      <th>Ethnicity_White</th>\n",
              "    </tr>\n",
              "  </thead>\n",
              "  <tbody>\n",
              "    <tr>\n",
              "      <th>0</th>\n",
              "      <td>24.0</td>\n",
              "      <td>28.0</td>\n",
              "      <td>0.8</td>\n",
              "      <td>0.7025</td>\n",
              "      <td>35.0300</td>\n",
              "      <td>35.3775</td>\n",
              "      <td>34.4000</td>\n",
              "      <td>34.9175</td>\n",
              "      <td>34.9850</td>\n",
              "      <td>34.9850</td>\n",
              "      <td>...</td>\n",
              "      <td>False</td>\n",
              "      <td>False</td>\n",
              "      <td>True</td>\n",
              "      <td>False</td>\n",
              "      <td>False</td>\n",
              "      <td>False</td>\n",
              "      <td>False</td>\n",
              "      <td>False</td>\n",
              "      <td>False</td>\n",
              "      <td>True</td>\n",
              "    </tr>\n",
              "    <tr>\n",
              "      <th>1</th>\n",
              "      <td>24.0</td>\n",
              "      <td>26.0</td>\n",
              "      <td>0.8</td>\n",
              "      <td>0.7800</td>\n",
              "      <td>34.5500</td>\n",
              "      <td>34.5200</td>\n",
              "      <td>33.9300</td>\n",
              "      <td>34.2250</td>\n",
              "      <td>34.7100</td>\n",
              "      <td>34.6325</td>\n",
              "      <td>...</td>\n",
              "      <td>False</td>\n",
              "      <td>True</td>\n",
              "      <td>False</td>\n",
              "      <td>False</td>\n",
              "      <td>False</td>\n",
              "      <td>False</td>\n",
              "      <td>True</td>\n",
              "      <td>False</td>\n",
              "      <td>False</td>\n",
              "      <td>False</td>\n",
              "    </tr>\n",
              "    <tr>\n",
              "      <th>2</th>\n",
              "      <td>24.0</td>\n",
              "      <td>26.0</td>\n",
              "      <td>0.8</td>\n",
              "      <td>0.8625</td>\n",
              "      <td>35.6525</td>\n",
              "      <td>35.5175</td>\n",
              "      <td>34.2775</td>\n",
              "      <td>34.8000</td>\n",
              "      <td>35.6850</td>\n",
              "      <td>35.6675</td>\n",
              "      <td>...</td>\n",
              "      <td>False</td>\n",
              "      <td>False</td>\n",
              "      <td>False</td>\n",
              "      <td>False</td>\n",
              "      <td>False</td>\n",
              "      <td>False</td>\n",
              "      <td>False</td>\n",
              "      <td>False</td>\n",
              "      <td>False</td>\n",
              "      <td>True</td>\n",
              "    </tr>\n",
              "    <tr>\n",
              "      <th>3</th>\n",
              "      <td>24.0</td>\n",
              "      <td>27.0</td>\n",
              "      <td>0.8</td>\n",
              "      <td>0.9300</td>\n",
              "      <td>35.2225</td>\n",
              "      <td>35.6125</td>\n",
              "      <td>34.3850</td>\n",
              "      <td>35.2475</td>\n",
              "      <td>35.2075</td>\n",
              "      <td>35.2000</td>\n",
              "      <td>...</td>\n",
              "      <td>False</td>\n",
              "      <td>False</td>\n",
              "      <td>False</td>\n",
              "      <td>False</td>\n",
              "      <td>False</td>\n",
              "      <td>False</td>\n",
              "      <td>True</td>\n",
              "      <td>False</td>\n",
              "      <td>False</td>\n",
              "      <td>False</td>\n",
              "    </tr>\n",
              "    <tr>\n",
              "      <th>4</th>\n",
              "      <td>24.0</td>\n",
              "      <td>27.0</td>\n",
              "      <td>0.8</td>\n",
              "      <td>0.8950</td>\n",
              "      <td>35.5450</td>\n",
              "      <td>35.6650</td>\n",
              "      <td>34.9100</td>\n",
              "      <td>35.3675</td>\n",
              "      <td>35.6025</td>\n",
              "      <td>35.4750</td>\n",
              "      <td>...</td>\n",
              "      <td>False</td>\n",
              "      <td>False</td>\n",
              "      <td>False</td>\n",
              "      <td>False</td>\n",
              "      <td>False</td>\n",
              "      <td>False</td>\n",
              "      <td>False</td>\n",
              "      <td>False</td>\n",
              "      <td>False</td>\n",
              "      <td>True</td>\n",
              "    </tr>\n",
              "  </tbody>\n",
              "</table>\n",
              "<p>5 rows × 44 columns</p>\n",
              "</div>\n",
              "    <div class=\"colab-df-buttons\">\n",
              "\n",
              "  <div class=\"colab-df-container\">\n",
              "    <button class=\"colab-df-convert\" onclick=\"convertToInteractive('df-a0a9b483-8fdb-4817-b42a-fe0f11860d58')\"\n",
              "            title=\"Convert this dataframe to an interactive table.\"\n",
              "            style=\"display:none;\">\n",
              "\n",
              "  <svg xmlns=\"http://www.w3.org/2000/svg\" height=\"24px\" viewBox=\"0 -960 960 960\">\n",
              "    <path d=\"M120-120v-720h720v720H120Zm60-500h600v-160H180v160Zm220 220h160v-160H400v160Zm0 220h160v-160H400v160ZM180-400h160v-160H180v160Zm440 0h160v-160H620v160ZM180-180h160v-160H180v160Zm440 0h160v-160H620v160Z\"/>\n",
              "  </svg>\n",
              "    </button>\n",
              "\n",
              "  <style>\n",
              "    .colab-df-container {\n",
              "      display:flex;\n",
              "      gap: 12px;\n",
              "    }\n",
              "\n",
              "    .colab-df-convert {\n",
              "      background-color: #E8F0FE;\n",
              "      border: none;\n",
              "      border-radius: 50%;\n",
              "      cursor: pointer;\n",
              "      display: none;\n",
              "      fill: #1967D2;\n",
              "      height: 32px;\n",
              "      padding: 0 0 0 0;\n",
              "      width: 32px;\n",
              "    }\n",
              "\n",
              "    .colab-df-convert:hover {\n",
              "      background-color: #E2EBFA;\n",
              "      box-shadow: 0px 1px 2px rgba(60, 64, 67, 0.3), 0px 1px 3px 1px rgba(60, 64, 67, 0.15);\n",
              "      fill: #174EA6;\n",
              "    }\n",
              "\n",
              "    .colab-df-buttons div {\n",
              "      margin-bottom: 4px;\n",
              "    }\n",
              "\n",
              "    [theme=dark] .colab-df-convert {\n",
              "      background-color: #3B4455;\n",
              "      fill: #D2E3FC;\n",
              "    }\n",
              "\n",
              "    [theme=dark] .colab-df-convert:hover {\n",
              "      background-color: #434B5C;\n",
              "      box-shadow: 0px 1px 3px 1px rgba(0, 0, 0, 0.15);\n",
              "      filter: drop-shadow(0px 1px 2px rgba(0, 0, 0, 0.3));\n",
              "      fill: #FFFFFF;\n",
              "    }\n",
              "  </style>\n",
              "\n",
              "    <script>\n",
              "      const buttonEl =\n",
              "        document.querySelector('#df-a0a9b483-8fdb-4817-b42a-fe0f11860d58 button.colab-df-convert');\n",
              "      buttonEl.style.display =\n",
              "        google.colab.kernel.accessAllowed ? 'block' : 'none';\n",
              "\n",
              "      async function convertToInteractive(key) {\n",
              "        const element = document.querySelector('#df-a0a9b483-8fdb-4817-b42a-fe0f11860d58');\n",
              "        const dataTable =\n",
              "          await google.colab.kernel.invokeFunction('convertToInteractive',\n",
              "                                                    [key], {});\n",
              "        if (!dataTable) return;\n",
              "\n",
              "        const docLinkHtml = 'Like what you see? Visit the ' +\n",
              "          '<a target=\"_blank\" href=https://colab.research.google.com/notebooks/data_table.ipynb>data table notebook</a>'\n",
              "          + ' to learn more about interactive tables.';\n",
              "        element.innerHTML = '';\n",
              "        dataTable['output_type'] = 'display_data';\n",
              "        await google.colab.output.renderOutput(dataTable, element);\n",
              "        const docLink = document.createElement('div');\n",
              "        docLink.innerHTML = docLinkHtml;\n",
              "        element.appendChild(docLink);\n",
              "      }\n",
              "    </script>\n",
              "  </div>\n",
              "\n",
              "\n",
              "<div id=\"df-46e46512-15ad-4aa6-9d17-c20dbc033b96\">\n",
              "  <button class=\"colab-df-quickchart\" onclick=\"quickchart('df-46e46512-15ad-4aa6-9d17-c20dbc033b96')\"\n",
              "            title=\"Suggest charts\"\n",
              "            style=\"display:none;\">\n",
              "\n",
              "<svg xmlns=\"http://www.w3.org/2000/svg\" height=\"24px\"viewBox=\"0 0 24 24\"\n",
              "     width=\"24px\">\n",
              "    <g>\n",
              "        <path d=\"M19 3H5c-1.1 0-2 .9-2 2v14c0 1.1.9 2 2 2h14c1.1 0 2-.9 2-2V5c0-1.1-.9-2-2-2zM9 17H7v-7h2v7zm4 0h-2V7h2v10zm4 0h-2v-4h2v4z\"/>\n",
              "    </g>\n",
              "</svg>\n",
              "  </button>\n",
              "\n",
              "<style>\n",
              "  .colab-df-quickchart {\n",
              "      --bg-color: #E8F0FE;\n",
              "      --fill-color: #1967D2;\n",
              "      --hover-bg-color: #E2EBFA;\n",
              "      --hover-fill-color: #174EA6;\n",
              "      --disabled-fill-color: #AAA;\n",
              "      --disabled-bg-color: #DDD;\n",
              "  }\n",
              "\n",
              "  [theme=dark] .colab-df-quickchart {\n",
              "      --bg-color: #3B4455;\n",
              "      --fill-color: #D2E3FC;\n",
              "      --hover-bg-color: #434B5C;\n",
              "      --hover-fill-color: #FFFFFF;\n",
              "      --disabled-bg-color: #3B4455;\n",
              "      --disabled-fill-color: #666;\n",
              "  }\n",
              "\n",
              "  .colab-df-quickchart {\n",
              "    background-color: var(--bg-color);\n",
              "    border: none;\n",
              "    border-radius: 50%;\n",
              "    cursor: pointer;\n",
              "    display: none;\n",
              "    fill: var(--fill-color);\n",
              "    height: 32px;\n",
              "    padding: 0;\n",
              "    width: 32px;\n",
              "  }\n",
              "\n",
              "  .colab-df-quickchart:hover {\n",
              "    background-color: var(--hover-bg-color);\n",
              "    box-shadow: 0 1px 2px rgba(60, 64, 67, 0.3), 0 1px 3px 1px rgba(60, 64, 67, 0.15);\n",
              "    fill: var(--button-hover-fill-color);\n",
              "  }\n",
              "\n",
              "  .colab-df-quickchart-complete:disabled,\n",
              "  .colab-df-quickchart-complete:disabled:hover {\n",
              "    background-color: var(--disabled-bg-color);\n",
              "    fill: var(--disabled-fill-color);\n",
              "    box-shadow: none;\n",
              "  }\n",
              "\n",
              "  .colab-df-spinner {\n",
              "    border: 2px solid var(--fill-color);\n",
              "    border-color: transparent;\n",
              "    border-bottom-color: var(--fill-color);\n",
              "    animation:\n",
              "      spin 1s steps(1) infinite;\n",
              "  }\n",
              "\n",
              "  @keyframes spin {\n",
              "    0% {\n",
              "      border-color: transparent;\n",
              "      border-bottom-color: var(--fill-color);\n",
              "      border-left-color: var(--fill-color);\n",
              "    }\n",
              "    20% {\n",
              "      border-color: transparent;\n",
              "      border-left-color: var(--fill-color);\n",
              "      border-top-color: var(--fill-color);\n",
              "    }\n",
              "    30% {\n",
              "      border-color: transparent;\n",
              "      border-left-color: var(--fill-color);\n",
              "      border-top-color: var(--fill-color);\n",
              "      border-right-color: var(--fill-color);\n",
              "    }\n",
              "    40% {\n",
              "      border-color: transparent;\n",
              "      border-right-color: var(--fill-color);\n",
              "      border-top-color: var(--fill-color);\n",
              "    }\n",
              "    60% {\n",
              "      border-color: transparent;\n",
              "      border-right-color: var(--fill-color);\n",
              "    }\n",
              "    80% {\n",
              "      border-color: transparent;\n",
              "      border-right-color: var(--fill-color);\n",
              "      border-bottom-color: var(--fill-color);\n",
              "    }\n",
              "    90% {\n",
              "      border-color: transparent;\n",
              "      border-bottom-color: var(--fill-color);\n",
              "    }\n",
              "  }\n",
              "</style>\n",
              "\n",
              "  <script>\n",
              "    async function quickchart(key) {\n",
              "      const quickchartButtonEl =\n",
              "        document.querySelector('#' + key + ' button');\n",
              "      quickchartButtonEl.disabled = true;  // To prevent multiple clicks.\n",
              "      quickchartButtonEl.classList.add('colab-df-spinner');\n",
              "      try {\n",
              "        const charts = await google.colab.kernel.invokeFunction(\n",
              "            'suggestCharts', [key], {});\n",
              "      } catch (error) {\n",
              "        console.error('Error during call to suggestCharts:', error);\n",
              "      }\n",
              "      quickchartButtonEl.classList.remove('colab-df-spinner');\n",
              "      quickchartButtonEl.classList.add('colab-df-quickchart-complete');\n",
              "    }\n",
              "    (() => {\n",
              "      let quickchartButtonEl =\n",
              "        document.querySelector('#df-46e46512-15ad-4aa6-9d17-c20dbc033b96 button');\n",
              "      quickchartButtonEl.style.display =\n",
              "        google.colab.kernel.accessAllowed ? 'block' : 'none';\n",
              "    })();\n",
              "  </script>\n",
              "</div>\n",
              "\n",
              "    </div>\n",
              "  </div>\n"
            ],
            "application/vnd.google.colaboratory.intrinsic+json": {
              "type": "dataframe"
            }
          },
          "metadata": {},
          "execution_count": 3
        }
      ]
    },
    {
      "cell_type": "code",
      "source": [
        "df.info()"
      ],
      "metadata": {
        "id": "T80Zi44E7kOg"
      },
      "execution_count": null,
      "outputs": []
    },
    {
      "cell_type": "code",
      "source": [
        "# print(df.isnull().sum())\n",
        "\n",
        "imputer = IterativeImputer()\n",
        "df_imputed = pd.DataFrame(imputer.fit_transform(df), columns=df.columns)\n",
        "# print(df_imputed.isnull().sum())"
      ],
      "metadata": {
        "id": "249fQtnz7lLz"
      },
      "execution_count": null,
      "outputs": []
    },
    {
      "cell_type": "markdown",
      "source": [
        "### Input & Output"
      ],
      "metadata": {
        "id": "em8alwtz7AlH"
      }
    },
    {
      "cell_type": "code",
      "source": [
        "X = df_imputed.drop(columns=['aveOralM'])\n",
        "y = df_imputed['aveOralM']\n",
        "\n",
        "scaler_X = StandardScaler()\n",
        "scaler_y = StandardScaler()\n",
        "X = scaler_X.fit_transform(X)\n",
        "y = scaler_y.fit_transform(y.to_numpy().reshape(-1, 1)).flatten()\n",
        "\n",
        "X_train, X_test, y_train, y_test = train_test_split(X, y, test_size=0.3, random_state=20)"
      ],
      "metadata": {
        "id": "Hw5-WfFT7E7O"
      },
      "execution_count": null,
      "outputs": []
    },
    {
      "cell_type": "markdown",
      "source": [
        "### Model & Training"
      ],
      "metadata": {
        "id": "qPQHfkv87FMs"
      }
    },
    {
      "cell_type": "code",
      "source": [
        "class NeuralNetwork(nn.Module):\n",
        "    def __init__(self, input_dim):\n",
        "        super(NeuralNetwork, self).__init__()\n",
        "        # Define layers\n",
        "        self.fc1 = nn.Linear(input_dim, 128)  # First hidden layer\n",
        "        self.fc2 = nn.Linear(128, 64)         # Second hidden layer\n",
        "        self.fc3 = nn.Linear(64, 32)          # Third hidden layer\n",
        "        self.fc4 = nn.Linear(32, 1)           # Output layer\n",
        "        self.relu = nn.ReLU()                 # ReLU activation\n",
        "        self.dropout = nn.Dropout(0.2)        # Optional: add dropout for regularization\n",
        "\n",
        "    def forward(self, x):\n",
        "        # Define forward pass\n",
        "        x = self.relu(self.fc1(x))            # Apply ReLU after first layer\n",
        "        x = self.dropout(x)                   # Optional: apply dropout\n",
        "        x = self.relu(self.fc2(x))            # Apply ReLU after second layer\n",
        "        x = self.dropout(x)                   # Optional: apply dropout\n",
        "        x = self.relu(self.fc3(x))            # Apply ReLU after third layer\n",
        "        x = self.fc4(x)                       # No activation on output layer for regression\n",
        "        return x\n",
        "\n",
        "input_dim = X_train.shape[1]\n",
        "model = NeuralNetwork(input_dim)\n",
        "\n",
        "criterion = nn.MSELoss()\n",
        "optimizer = optim.Adam(model.parameters(), lr=0.001, weight_decay=1e-5)\n",
        "\n",
        "X_train_tensor = torch.FloatTensor(X_train)\n",
        "y_train_tensor = torch.FloatTensor(y_train).view(-1, 1)\n",
        "X_test_tensor = torch.FloatTensor(X_test)\n",
        "y_test_tensor = torch.FloatTensor(y_test).view(-1, 1)\n",
        "\n",
        "# Training loop\n",
        "num_epochs = 200\n",
        "for epoch in range(num_epochs):\n",
        "    # Forward pass\n",
        "    outputs = model(X_train_tensor)\n",
        "    loss = criterion(outputs, y_train_tensor)\n",
        "\n",
        "    # Backward and optimize\n",
        "    optimizer.zero_grad()\n",
        "    loss.backward()\n",
        "    optimizer.step()\n",
        "\n",
        "    if (epoch+1) % 10 == 0:\n",
        "        print(f'Epoch [{epoch+1}/{num_epochs}], Loss: {loss.item():.4f}')"
      ],
      "metadata": {
        "colab": {
          "base_uri": "https://localhost:8080/"
        },
        "id": "roIireCv7Hdl",
        "outputId": "e3434e2a-a8b5-42bb-d84c-fea21eafc33e"
      },
      "execution_count": null,
      "outputs": [
        {
          "output_type": "stream",
          "name": "stdout",
          "text": [
            "Epoch [10/200], Loss: 0.7294\n",
            "Epoch [20/200], Loss: 0.3673\n",
            "Epoch [30/200], Loss: 0.3140\n",
            "Epoch [40/200], Loss: 0.2625\n",
            "Epoch [50/200], Loss: 0.2290\n",
            "Epoch [60/200], Loss: 0.2141\n",
            "Epoch [70/200], Loss: 0.2045\n",
            "Epoch [80/200], Loss: 0.1963\n",
            "Epoch [90/200], Loss: 0.1837\n",
            "Epoch [100/200], Loss: 0.1778\n",
            "Epoch [110/200], Loss: 0.1744\n",
            "Epoch [120/200], Loss: 0.1764\n",
            "Epoch [130/200], Loss: 0.1704\n",
            "Epoch [140/200], Loss: 0.1655\n",
            "Epoch [150/200], Loss: 0.1620\n",
            "Epoch [160/200], Loss: 0.1455\n",
            "Epoch [170/200], Loss: 0.1540\n",
            "Epoch [180/200], Loss: 0.1466\n",
            "Epoch [190/200], Loss: 0.1379\n",
            "Epoch [200/200], Loss: 0.1449\n"
          ]
        }
      ]
    },
    {
      "cell_type": "markdown",
      "source": [
        "### Eval"
      ],
      "metadata": {
        "id": "bTxSPgAm7Ho2"
      }
    },
    {
      "cell_type": "code",
      "source": [
        "model.eval()\n",
        "with torch.no_grad():\n",
        "    y_pred = model(X_test_tensor)\n",
        "    test_loss = criterion(y_pred, y_test_tensor)\n",
        "    print(f'Test Loss: {test_loss.item():.4f}')\n",
        "\n",
        "    # Convert back to original scale for interpretability\n",
        "    y_pred_original = scaler_y.inverse_transform(y_pred.numpy())\n",
        "    y_test_original = scaler_y.inverse_transform(y_test_tensor.numpy())\n",
        "\n",
        "print()\n",
        "\n",
        "# Calculate MSE\n",
        "pytorch_mse = mean_squared_error(y_test_original, y_pred_original)\n",
        "\n",
        "# Calculate RMSE\n",
        "pytorch_rmse = np.sqrt(pytorch_mse)\n",
        "\n",
        "# Calculate R-squared\n",
        "pytorch_r2 = r2_score(y_test_original, y_pred_original)\n",
        "\n",
        "print(f\"Mean Squared Error (MSE): {pytorch_mse:.4f}\")\n",
        "print(f\"Root Mean Squared Error (RMSE): {pytorch_rmse:.4f}\")\n",
        "print(f\"R-squared (R²): {pytorch_r2:.4f}\")"
      ],
      "metadata": {
        "colab": {
          "base_uri": "https://localhost:8080/"
        },
        "id": "HOgI0vhU7O_M",
        "outputId": "b8e074d2-5b5c-455f-dcca-3f1bf22950a7"
      },
      "execution_count": null,
      "outputs": [
        {
          "output_type": "stream",
          "name": "stdout",
          "text": [
            "Test Loss: 0.2728\n",
            "\n",
            "Mean Squared Error (MSE): 0.0708\n",
            "Root Mean Squared Error (RMSE): 0.2660\n",
            "R-squared (R²): 0.7510\n"
          ]
        }
      ]
    },
    {
      "cell_type": "markdown",
      "source": [
        "## TensorFlow"
      ],
      "metadata": {
        "id": "RHV2yy7s7-wD"
      }
    },
    {
      "cell_type": "markdown",
      "source": [
        "### Instalasi"
      ],
      "metadata": {
        "id": "q87R3g_q7-wE"
      }
    },
    {
      "cell_type": "code",
      "execution_count": null,
      "metadata": {
        "id": "UFwUVCt27-wE"
      },
      "outputs": [],
      "source": [
        "!pip install tensorflow"
      ]
    },
    {
      "cell_type": "markdown",
      "source": [
        "### Import Library"
      ],
      "metadata": {
        "id": "ielQeOba7-wE"
      }
    },
    {
      "cell_type": "code",
      "source": [
        "import tensorflow as tf\n",
        "from tensorflow import keras\n",
        "from tensorflow.keras.models import Sequential\n",
        "from tensorflow.keras.layers import Dense\n",
        "from tensorflow.keras.optimizers import SGD\n",
        "from tensorflow.keras.callbacks import EarlyStopping, ModelCheckpoint"
      ],
      "metadata": {
        "id": "5Tnij5te7-wE"
      },
      "execution_count": null,
      "outputs": []
    },
    {
      "cell_type": "markdown",
      "source": [
        "### Model & Training"
      ],
      "metadata": {
        "id": "lI_HDYwI7-wF"
      }
    },
    {
      "cell_type": "code",
      "source": [
        "model_tf = keras.Sequential([\n",
        "    keras.layers.Dense(128, activation='relu', input_shape=(X_train.shape[1],)),\n",
        "    keras.layers.Dropout(0.2),\n",
        "    keras.layers.Dense(64, activation='relu'),\n",
        "    keras.layers.Dropout(0.2),\n",
        "    keras.layers.Dense(32, activation='relu'),\n",
        "    keras.layers.Dense(1)\n",
        "])\n",
        "\n",
        "model_tf.compile(\n",
        "    optimizer=keras.optimizers.Adam(learning_rate=0.001),\n",
        "    loss='mse',\n",
        "    metrics=['mae']\n",
        ")\n",
        "\n",
        "es = EarlyStopping(\n",
        "    monitor='val_loss',\n",
        "    patience=20,\n",
        "    restore_best_weights=True,\n",
        "    verbose=1\n",
        ")\n",
        "\n",
        "mc = ModelCheckpoint(\n",
        "    'best_tf_model.h5',\n",
        "    monitor='val_loss',\n",
        "    save_best_only=True,\n",
        "    verbose=1\n",
        ")\n",
        "\n",
        "history = model_tf.fit(\n",
        "    X_train, y_train,\n",
        "    epochs=200,\n",
        "    batch_size=32,\n",
        "    validation_split=0.2,\n",
        "    callbacks=[es,mc],\n",
        "    verbose=1\n",
        ")\n",
        "\n",
        "model_tf.evaluate(X_test, y_test)"
      ],
      "metadata": {
        "colab": {
          "base_uri": "https://localhost:8080/"
        },
        "id": "AcP3JHG37-wF",
        "outputId": "a7b31de6-292b-4cd8-bdc2-fc763bf2acec"
      },
      "execution_count": null,
      "outputs": [
        {
          "output_type": "stream",
          "name": "stderr",
          "text": [
            "/usr/local/lib/python3.11/dist-packages/keras/src/layers/core/dense.py:87: UserWarning: Do not pass an `input_shape`/`input_dim` argument to a layer. When using Sequential models, prefer using an `Input(shape)` object as the first layer in the model instead.\n",
            "  super().__init__(activity_regularizer=activity_regularizer, **kwargs)\n"
          ]
        },
        {
          "output_type": "stream",
          "name": "stdout",
          "text": [
            "Epoch 1/200\n",
            "\u001b[1m17/18\u001b[0m \u001b[32m━━━━━━━━━━━━━━━━━━\u001b[0m\u001b[37m━━\u001b[0m \u001b[1m0s\u001b[0m 17ms/step - loss: 0.6560 - mae: 0.5508\n",
            "Epoch 1: val_loss improved from inf to 0.30037, saving model to best_tf_model.h5\n"
          ]
        },
        {
          "output_type": "stream",
          "name": "stderr",
          "text": [
            "WARNING:absl:You are saving your model as an HDF5 file via `model.save()` or `keras.saving.save_model(model)`. This file format is considered legacy. We recommend using instead the native Keras format, e.g. `model.save('my_model.keras')` or `keras.saving.save_model(model, 'my_model.keras')`. \n"
          ]
        },
        {
          "output_type": "stream",
          "name": "stdout",
          "text": [
            "\b\b\b\b\b\b\b\b\b\b\b\b\b\b\b\b\b\b\b\b\b\b\b\b\b\b\b\b\b\b\b\b\b\b\b\b\b\b\b\b\b\b\b\b\b\b\b\b\b\b\b\b\b\b\b\b\b\b\b\b\b\b\b\b\b\b\b\b\r\u001b[1m18/18\u001b[0m \u001b[32m━━━━━━━━━━━━━━━━━━━━\u001b[0m\u001b[37m\u001b[0m \u001b[1m6s\u001b[0m 84ms/step - loss: 0.6527 - mae: 0.5499 - val_loss: 0.3004 - val_mae: 0.4388\n",
            "Epoch 2/200\n",
            "\u001b[1m18/18\u001b[0m \u001b[32m━━━━━━━━━━━━━━━━━━━━\u001b[0m\u001b[37m\u001b[0m \u001b[1m0s\u001b[0m 14ms/step - loss: 0.4080 - mae: 0.4765\n",
            "Epoch 2: val_loss improved from 0.30037 to 0.25304, saving model to best_tf_model.h5\n"
          ]
        },
        {
          "output_type": "stream",
          "name": "stderr",
          "text": [
            "WARNING:absl:You are saving your model as an HDF5 file via `model.save()` or `keras.saving.save_model(model)`. This file format is considered legacy. We recommend using instead the native Keras format, e.g. `model.save('my_model.keras')` or `keras.saving.save_model(model, 'my_model.keras')`. \n"
          ]
        },
        {
          "output_type": "stream",
          "name": "stdout",
          "text": [
            "\b\b\b\b\b\b\b\b\b\b\b\b\b\b\b\b\b\b\b\b\b\b\b\b\b\b\b\b\b\b\b\b\b\b\b\b\b\b\b\b\b\b\b\b\b\b\b\b\b\b\b\b\b\b\b\b\b\b\b\b\b\b\b\b\b\b\b\b\r\u001b[1m18/18\u001b[0m \u001b[32m━━━━━━━━━━━━━━━━━━━━\u001b[0m\u001b[37m\u001b[0m \u001b[1m2s\u001b[0m 50ms/step - loss: 0.4067 - mae: 0.4762 - val_loss: 0.2530 - val_mae: 0.3962\n",
            "Epoch 3/200\n",
            "\u001b[1m 1/18\u001b[0m \u001b[32m━\u001b[0m\u001b[37m━━━━━━━━━━━━━━━━━━━\u001b[0m \u001b[1m6s\u001b[0m 391ms/step - loss: 0.2717 - mae: 0.4122\n",
            "Epoch 3: val_loss improved from 0.25304 to 0.24157, saving model to best_tf_model.h5\n"
          ]
        },
        {
          "output_type": "stream",
          "name": "stderr",
          "text": [
            "WARNING:absl:You are saving your model as an HDF5 file via `model.save()` or `keras.saving.save_model(model)`. This file format is considered legacy. We recommend using instead the native Keras format, e.g. `model.save('my_model.keras')` or `keras.saving.save_model(model, 'my_model.keras')`. \n"
          ]
        },
        {
          "output_type": "stream",
          "name": "stdout",
          "text": [
            "\b\b\b\b\b\b\b\b\b\b\b\b\b\b\b\b\b\b\b\b\b\b\b\b\b\b\b\b\b\b\b\b\b\b\b\b\b\b\b\b\b\b\b\b\b\b\b\b\b\b\b\b\b\b\b\b\b\b\b\b\b\b\b\b\b\b\b\b\b\r\u001b[1m18/18\u001b[0m \u001b[32m━━━━━━━━━━━━━━━━━━━━\u001b[0m\u001b[37m\u001b[0m \u001b[1m1s\u001b[0m 9ms/step - loss: 0.3015 - mae: 0.4159 - val_loss: 0.2416 - val_mae: 0.3927\n",
            "Epoch 4/200\n",
            "\u001b[1m 1/18\u001b[0m \u001b[32m━\u001b[0m\u001b[37m━━━━━━━━━━━━━━━━━━━\u001b[0m \u001b[1m2s\u001b[0m 154ms/step - loss: 0.3975 - mae: 0.4685\n",
            "Epoch 4: val_loss improved from 0.24157 to 0.23000, saving model to best_tf_model.h5\n"
          ]
        },
        {
          "output_type": "stream",
          "name": "stderr",
          "text": [
            "WARNING:absl:You are saving your model as an HDF5 file via `model.save()` or `keras.saving.save_model(model)`. This file format is considered legacy. We recommend using instead the native Keras format, e.g. `model.save('my_model.keras')` or `keras.saving.save_model(model, 'my_model.keras')`. \n"
          ]
        },
        {
          "output_type": "stream",
          "name": "stdout",
          "text": [
            "\b\b\b\b\b\b\b\b\b\b\b\b\b\b\b\b\b\b\b\b\b\b\b\b\b\b\b\b\b\b\b\b\b\b\b\b\b\b\b\b\b\b\b\b\b\b\b\b\b\b\b\b\b\b\b\b\b\b\b\b\b\b\b\b\b\b\b\b\b\r\u001b[1m18/18\u001b[0m \u001b[32m━━━━━━━━━━━━━━━━━━━━\u001b[0m\u001b[37m\u001b[0m \u001b[1m0s\u001b[0m 11ms/step - loss: 0.3176 - mae: 0.4126 - val_loss: 0.2300 - val_mae: 0.3731\n",
            "Epoch 5/200\n",
            "\u001b[1m17/18\u001b[0m \u001b[32m━━━━━━━━━━━━━━━━━━\u001b[0m\u001b[37m━━\u001b[0m \u001b[1m0s\u001b[0m 3ms/step - loss: 0.2518 - mae: 0.3753  \n",
            "Epoch 5: val_loss improved from 0.23000 to 0.22928, saving model to best_tf_model.h5\n"
          ]
        },
        {
          "output_type": "stream",
          "name": "stderr",
          "text": [
            "WARNING:absl:You are saving your model as an HDF5 file via `model.save()` or `keras.saving.save_model(model)`. This file format is considered legacy. We recommend using instead the native Keras format, e.g. `model.save('my_model.keras')` or `keras.saving.save_model(model, 'my_model.keras')`. \n"
          ]
        },
        {
          "output_type": "stream",
          "name": "stdout",
          "text": [
            "\b\b\b\b\b\b\b\b\b\b\b\b\b\b\b\b\b\b\b\b\b\b\b\b\b\b\b\b\b\b\b\b\b\b\b\b\b\b\b\b\b\b\b\b\b\b\b\b\b\b\b\b\b\b\b\b\b\b\b\b\b\b\b\b\b\b\b\r\u001b[1m18/18\u001b[0m \u001b[32m━━━━━━━━━━━━━━━━━━━━\u001b[0m\u001b[37m\u001b[0m \u001b[1m0s\u001b[0m 10ms/step - loss: 0.2520 - mae: 0.3761 - val_loss: 0.2293 - val_mae: 0.3768\n",
            "Epoch 6/200\n",
            "\u001b[1m 1/18\u001b[0m \u001b[32m━\u001b[0m\u001b[37m━━━━━━━━━━━━━━━━━━━\u001b[0m \u001b[1m2s\u001b[0m 135ms/step - loss: 0.1582 - mae: 0.3267\n",
            "Epoch 6: val_loss did not improve from 0.22928\n",
            "\u001b[1m18/18\u001b[0m \u001b[32m━━━━━━━━━━━━━━━━━━━━\u001b[0m\u001b[37m\u001b[0m \u001b[1m0s\u001b[0m 7ms/step - loss: 0.2484 - mae: 0.3794 - val_loss: 0.2343 - val_mae: 0.3760\n",
            "Epoch 7/200\n",
            "\u001b[1m 1/18\u001b[0m \u001b[32m━\u001b[0m\u001b[37m━━━━━━━━━━━━━━━━━━━\u001b[0m \u001b[1m3s\u001b[0m 177ms/step - loss: 0.1481 - mae: 0.3200\n",
            "Epoch 7: val_loss did not improve from 0.22928\n",
            "\u001b[1m18/18\u001b[0m \u001b[32m━━━━━━━━━━━━━━━━━━━━\u001b[0m\u001b[37m\u001b[0m \u001b[1m0s\u001b[0m 8ms/step - loss: 0.2300 - mae: 0.3635 - val_loss: 0.2308 - val_mae: 0.3776\n",
            "Epoch 8/200\n",
            "\u001b[1m 1/18\u001b[0m \u001b[32m━\u001b[0m\u001b[37m━━━━━━━━━━━━━━━━━━━\u001b[0m \u001b[1m0s\u001b[0m 28ms/step - loss: 0.1770 - mae: 0.3308\n",
            "Epoch 8: val_loss did not improve from 0.22928\n",
            "\u001b[1m18/18\u001b[0m \u001b[32m━━━━━━━━━━━━━━━━━━━━\u001b[0m\u001b[37m\u001b[0m \u001b[1m0s\u001b[0m 8ms/step - loss: 0.2198 - mae: 0.3512 - val_loss: 0.2360 - val_mae: 0.3816\n",
            "Epoch 9/200\n",
            "\u001b[1m 1/18\u001b[0m \u001b[32m━\u001b[0m\u001b[37m━━━━━━━━━━━━━━━━━━━\u001b[0m \u001b[1m2s\u001b[0m 165ms/step - loss: 0.3419 - mae: 0.3987\n",
            "Epoch 9: val_loss did not improve from 0.22928\n",
            "\u001b[1m18/18\u001b[0m \u001b[32m━━━━━━━━━━━━━━━━━━━━\u001b[0m\u001b[37m\u001b[0m \u001b[1m0s\u001b[0m 9ms/step - loss: 0.2855 - mae: 0.3690 - val_loss: 0.2322 - val_mae: 0.3747\n",
            "Epoch 10/200\n",
            "\u001b[1m 1/18\u001b[0m \u001b[32m━\u001b[0m\u001b[37m━━━━━━━━━━━━━━━━━━━\u001b[0m \u001b[1m0s\u001b[0m 29ms/step - loss: 0.1688 - mae: 0.3056\n",
            "Epoch 10: val_loss did not improve from 0.22928\n",
            "\u001b[1m18/18\u001b[0m \u001b[32m━━━━━━━━━━━━━━━━━━━━\u001b[0m\u001b[37m\u001b[0m \u001b[1m0s\u001b[0m 7ms/step - loss: 0.2250 - mae: 0.3550 - val_loss: 0.2345 - val_mae: 0.3828\n",
            "Epoch 11/200\n",
            "\u001b[1m 1/18\u001b[0m \u001b[32m━\u001b[0m\u001b[37m━━━━━━━━━━━━━━━━━━━\u001b[0m \u001b[1m0s\u001b[0m 32ms/step - loss: 0.2177 - mae: 0.3845\n",
            "Epoch 11: val_loss did not improve from 0.22928\n",
            "\u001b[1m18/18\u001b[0m \u001b[32m━━━━━━━━━━━━━━━━━━━━\u001b[0m\u001b[37m\u001b[0m \u001b[1m0s\u001b[0m 7ms/step - loss: 0.2238 - mae: 0.3536 - val_loss: 0.2295 - val_mae: 0.3766\n",
            "Epoch 12/200\n",
            "\u001b[1m 1/18\u001b[0m \u001b[32m━\u001b[0m\u001b[37m━━━━━━━━━━━━━━━━━━━\u001b[0m \u001b[1m2s\u001b[0m 176ms/step - loss: 0.1686 - mae: 0.3099\n",
            "Epoch 12: val_loss did not improve from 0.22928\n",
            "\u001b[1m18/18\u001b[0m \u001b[32m━━━━━━━━━━━━━━━━━━━━\u001b[0m\u001b[37m\u001b[0m \u001b[1m0s\u001b[0m 8ms/step - loss: 0.2211 - mae: 0.3460 - val_loss: 0.2364 - val_mae: 0.3847\n",
            "Epoch 13/200\n",
            "\u001b[1m16/18\u001b[0m \u001b[32m━━━━━━━━━━━━━━━━━\u001b[0m\u001b[37m━━━\u001b[0m \u001b[1m0s\u001b[0m 3ms/step - loss: 0.2721 - mae: 0.3578  \n",
            "Epoch 13: val_loss did not improve from 0.22928\n",
            "\u001b[1m18/18\u001b[0m \u001b[32m━━━━━━━━━━━━━━━━━━━━\u001b[0m\u001b[37m\u001b[0m \u001b[1m0s\u001b[0m 8ms/step - loss: 0.2689 - mae: 0.3567 - val_loss: 0.2389 - val_mae: 0.3801\n",
            "Epoch 14/200\n",
            "\u001b[1m 1/18\u001b[0m \u001b[32m━\u001b[0m\u001b[37m━━━━━━━━━━━━━━━━━━━\u001b[0m \u001b[1m0s\u001b[0m 28ms/step - loss: 0.1937 - mae: 0.3226\n",
            "Epoch 14: val_loss did not improve from 0.22928\n",
            "\u001b[1m18/18\u001b[0m \u001b[32m━━━━━━━━━━━━━━━━━━━━\u001b[0m\u001b[37m\u001b[0m \u001b[1m0s\u001b[0m 7ms/step - loss: 0.2155 - mae: 0.3418 - val_loss: 0.2347 - val_mae: 0.3843\n",
            "Epoch 15/200\n",
            "\u001b[1m 1/18\u001b[0m \u001b[32m━\u001b[0m\u001b[37m━━━━━━━━━━━━━━━━━━━\u001b[0m \u001b[1m0s\u001b[0m 27ms/step - loss: 0.2090 - mae: 0.2995\n",
            "Epoch 15: val_loss did not improve from 0.22928\n",
            "\u001b[1m18/18\u001b[0m \u001b[32m━━━━━━━━━━━━━━━━━━━━\u001b[0m\u001b[37m\u001b[0m \u001b[1m0s\u001b[0m 7ms/step - loss: 0.2007 - mae: 0.3367 - val_loss: 0.2329 - val_mae: 0.3758\n",
            "Epoch 16/200\n",
            "\u001b[1m 1/18\u001b[0m \u001b[32m━\u001b[0m\u001b[37m━━━━━━━━━━━━━━━━━━━\u001b[0m \u001b[1m3s\u001b[0m 182ms/step - loss: 0.1600 - mae: 0.3056\n",
            "Epoch 16: val_loss did not improve from 0.22928\n",
            "\u001b[1m18/18\u001b[0m \u001b[32m━━━━━━━━━━━━━━━━━━━━\u001b[0m\u001b[37m\u001b[0m \u001b[1m0s\u001b[0m 7ms/step - loss: 0.2116 - mae: 0.3445 - val_loss: 0.2379 - val_mae: 0.3853\n",
            "Epoch 17/200\n",
            "\u001b[1m 1/18\u001b[0m \u001b[32m━\u001b[0m\u001b[37m━━━━━━━━━━━━━━━━━━━\u001b[0m \u001b[1m0s\u001b[0m 33ms/step - loss: 0.1053 - mae: 0.2668\n",
            "Epoch 17: val_loss did not improve from 0.22928\n",
            "\u001b[1m18/18\u001b[0m \u001b[32m━━━━━━━━━━━━━━━━━━━━\u001b[0m\u001b[37m\u001b[0m \u001b[1m0s\u001b[0m 7ms/step - loss: 0.1663 - mae: 0.3066 - val_loss: 0.2468 - val_mae: 0.3856\n",
            "Epoch 18/200\n",
            "\u001b[1m 1/18\u001b[0m \u001b[32m━\u001b[0m\u001b[37m━━━━━━━━━━━━━━━━━━━\u001b[0m \u001b[1m0s\u001b[0m 27ms/step - loss: 0.4450 - mae: 0.4847\n",
            "Epoch 18: val_loss did not improve from 0.22928\n",
            "\u001b[1m18/18\u001b[0m \u001b[32m━━━━━━━━━━━━━━━━━━━━\u001b[0m\u001b[37m\u001b[0m \u001b[1m0s\u001b[0m 8ms/step - loss: 0.2381 - mae: 0.3609 - val_loss: 0.2465 - val_mae: 0.3847\n",
            "Epoch 19/200\n",
            "\u001b[1m 1/18\u001b[0m \u001b[32m━\u001b[0m\u001b[37m━━━━━━━━━━━━━━━━━━━\u001b[0m \u001b[1m0s\u001b[0m 29ms/step - loss: 0.2190 - mae: 0.3715\n",
            "Epoch 19: val_loss did not improve from 0.22928\n",
            "\u001b[1m18/18\u001b[0m \u001b[32m━━━━━━━━━━━━━━━━━━━━\u001b[0m\u001b[37m\u001b[0m \u001b[1m0s\u001b[0m 7ms/step - loss: 0.1878 - mae: 0.3313 - val_loss: 0.2343 - val_mae: 0.3782\n",
            "Epoch 20/200\n",
            "\u001b[1m 1/18\u001b[0m \u001b[32m━\u001b[0m\u001b[37m━━━━━━━━━━━━━━━━━━━\u001b[0m \u001b[1m0s\u001b[0m 29ms/step - loss: 0.1331 - mae: 0.2952\n",
            "Epoch 20: val_loss did not improve from 0.22928\n",
            "\u001b[1m18/18\u001b[0m \u001b[32m━━━━━━━━━━━━━━━━━━━━\u001b[0m\u001b[37m\u001b[0m \u001b[1m0s\u001b[0m 7ms/step - loss: 0.1755 - mae: 0.3146 - val_loss: 0.2348 - val_mae: 0.3759\n",
            "Epoch 21/200\n",
            "\u001b[1m 1/18\u001b[0m \u001b[32m━\u001b[0m\u001b[37m━━━━━━━━━━━━━━━━━━━\u001b[0m \u001b[1m2s\u001b[0m 173ms/step - loss: 0.1954 - mae: 0.3650\n",
            "Epoch 21: val_loss did not improve from 0.22928\n",
            "\u001b[1m18/18\u001b[0m \u001b[32m━━━━━━━━━━━━━━━━━━━━\u001b[0m\u001b[37m\u001b[0m \u001b[1m0s\u001b[0m 7ms/step - loss: 0.1831 - mae: 0.3254 - val_loss: 0.2317 - val_mae: 0.3760\n",
            "Epoch 22/200\n",
            "\u001b[1m 1/18\u001b[0m \u001b[32m━\u001b[0m\u001b[37m━━━━━━━━━━━━━━━━━━━\u001b[0m \u001b[1m0s\u001b[0m 28ms/step - loss: 0.2462 - mae: 0.3973\n",
            "Epoch 22: val_loss did not improve from 0.22928\n",
            "\u001b[1m18/18\u001b[0m \u001b[32m━━━━━━━━━━━━━━━━━━━━\u001b[0m\u001b[37m\u001b[0m \u001b[1m0s\u001b[0m 7ms/step - loss: 0.1766 - mae: 0.3270 - val_loss: 0.2557 - val_mae: 0.3887\n",
            "Epoch 23/200\n",
            "\u001b[1m 1/18\u001b[0m \u001b[32m━\u001b[0m\u001b[37m━━━━━━━━━━━━━━━━━━━\u001b[0m \u001b[1m0s\u001b[0m 27ms/step - loss: 0.1038 - mae: 0.2170\n",
            "Epoch 23: val_loss did not improve from 0.22928\n",
            "\u001b[1m18/18\u001b[0m \u001b[32m━━━━━━━━━━━━━━━━━━━━\u001b[0m\u001b[37m\u001b[0m \u001b[1m0s\u001b[0m 7ms/step - loss: 0.1738 - mae: 0.3086 - val_loss: 0.2408 - val_mae: 0.3837\n",
            "Epoch 24/200\n",
            "\u001b[1m16/18\u001b[0m \u001b[32m━━━━━━━━━━━━━━━━━\u001b[0m\u001b[37m━━━\u001b[0m \u001b[1m0s\u001b[0m 3ms/step - loss: 0.1939 - mae: 0.3341 \n",
            "Epoch 24: val_loss did not improve from 0.22928\n",
            "\u001b[1m18/18\u001b[0m \u001b[32m━━━━━━━━━━━━━━━━━━━━\u001b[0m\u001b[37m\u001b[0m \u001b[1m0s\u001b[0m 8ms/step - loss: 0.1927 - mae: 0.3332 - val_loss: 0.2467 - val_mae: 0.3837\n",
            "Epoch 25/200\n",
            "\u001b[1m 1/18\u001b[0m \u001b[32m━\u001b[0m\u001b[37m━━━━━━━━━━━━━━━━━━━\u001b[0m \u001b[1m0s\u001b[0m 28ms/step - loss: 0.2644 - mae: 0.4235\n",
            "Epoch 25: val_loss did not improve from 0.22928\n",
            "\u001b[1m18/18\u001b[0m \u001b[32m━━━━━━━━━━━━━━━━━━━━\u001b[0m\u001b[37m\u001b[0m \u001b[1m0s\u001b[0m 7ms/step - loss: 0.1818 - mae: 0.3165 - val_loss: 0.2522 - val_mae: 0.3841\n",
            "Epoch 25: early stopping\n",
            "Restoring model weights from the end of the best epoch: 5.\n",
            "\u001b[1m10/10\u001b[0m \u001b[32m━━━━━━━━━━━━━━━━━━━━\u001b[0m\u001b[37m\u001b[0m \u001b[1m0s\u001b[0m 5ms/step - loss: 0.3132 - mae: 0.4314 \n"
          ]
        },
        {
          "output_type": "execute_result",
          "data": {
            "text/plain": [
              "[0.30044376850128174, 0.43049630522727966]"
            ]
          },
          "metadata": {},
          "execution_count": 11
        }
      ]
    },
    {
      "cell_type": "markdown",
      "source": [
        "### Eval"
      ],
      "metadata": {
        "id": "s3g-f0PN7-wF"
      }
    },
    {
      "cell_type": "code",
      "source": [
        "y_pred2 = model_tf.predict(X_test)\n",
        "\n",
        "y_pred_original2 = scaler_y.inverse_transform(y_pred2)\n",
        "y_test_original2 = scaler_y.inverse_transform(y_test.reshape(-1,1))\n",
        "\n",
        "tf_mse = mean_squared_error(y_test_original2, y_pred_original2)\n",
        "tf_rmse = np.sqrt(tf_mse)\n",
        "tf_r2 = r2_score(y_test_original2, y_pred_original2)\n",
        "\n",
        "print(\"\\nTensorFlow Model Evaluation:\")\n",
        "print(f\"Mean Squared Error (MSE): {tf_mse:.4f}\")\n",
        "print(f\"Root Mean Squared Error (RMSE): {tf_rmse:.4f}\")\n",
        "print(f\"R-squared (R²): {tf_r2:.4f}\")\n"
      ],
      "metadata": {
        "colab": {
          "base_uri": "https://localhost:8080/"
        },
        "id": "WnQVQi6k7-wF",
        "outputId": "9a2654d8-bb78-465e-bd06-7fe1255c436d"
      },
      "execution_count": null,
      "outputs": [
        {
          "output_type": "stream",
          "name": "stdout",
          "text": [
            "\u001b[1m10/10\u001b[0m \u001b[32m━━━━━━━━━━━━━━━━━━━━\u001b[0m\u001b[37m\u001b[0m \u001b[1m0s\u001b[0m 3ms/step \n",
            "\n",
            "TensorFlow Model Evaluation:\n",
            "Mean Squared Error (MSE): 0.0779\n",
            "Root Mean Squared Error (RMSE): 0.2791\n",
            "R-squared (R²): 0.7258\n"
          ]
        }
      ]
    }
  ]
}